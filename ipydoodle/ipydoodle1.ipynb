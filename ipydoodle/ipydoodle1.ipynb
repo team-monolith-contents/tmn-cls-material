{
 "cells": [
  {
   "cell_type": "code",
   "execution_count": 1,
   "id": "1848b821-fe4d-4187-a1e2-045176445caf",
   "metadata": {},
   "outputs": [
    {
     "data": {
      "application/vnd.jupyter.widget-view+json": {
       "model_id": "6143e7e17dd04485ad0d149e2f314c80",
       "version_major": 2,
       "version_minor": 0
      },
      "text/plain": [
       "Canvas(height=200, width=500)"
      ]
     },
     "metadata": {},
     "output_type": "display_data"
    },
    {
     "data": {
      "text/plain": [
       "<ipydoodle.ipydoodle.World at 0x7f1a50bd6d10>"
      ]
     },
     "execution_count": 1,
     "metadata": {},
     "output_type": "execute_result"
    }
   ],
   "source": [
    "from ipydoodle import *\n",
    "\n",
    "World(height = 200, width = 500, color = '노란색', axis = True, axis_color = 'red') # World 를 만들어 줍니다."
   ]
  },
  {
   "cell_type": "code",
   "execution_count": 2,
   "id": "788d6ef2-a212-432f-9172-a5abc9f6a581",
   "metadata": {},
   "outputs": [
    {
     "data": {
      "application/vnd.jupyter.widget-view+json": {
       "model_id": "2fb94de98937493fa1fb2a5cb48ba065",
       "version_major": 2,
       "version_minor": 0
      },
      "text/plain": [
       "Canvas()"
      ]
     },
     "metadata": {},
     "output_type": "display_data"
    },
    {
     "data": {
      "text/plain": [
       "<ipydoodle.ipydoodle.Line at 0x7f1a50bd7730>"
      ]
     },
     "execution_count": 2,
     "metadata": {},
     "output_type": "execute_result"
    }
   ],
   "source": [
    "from ipydoodle import *\n",
    "\n",
    "World()\n",
    "Box(width = 200, height = 400, x= 100 , y = 100, color = 'cyan', alpha = 0.5) # Box를 만듭니다.\n",
    "Circle(x = 100, y = 100, radius = 10, color = 'red', alpha = 0.8) # Circle을 만듭니다.\n",
    "Line(x1 = 100, y1 = 100, x2 = 200, y2= 200, color = 'blue', alpha = 0.3) # Line을 만듭니다."
   ]
  },
  {
   "cell_type": "code",
   "execution_count": 4,
   "id": "b19c0756-fbeb-4ebd-99c9-eaf647dd0c75",
   "metadata": {},
   "outputs": [
    {
     "data": {
      "application/vnd.jupyter.widget-view+json": {
       "model_id": "540b7640463745d8975b7fd64bee9f81",
       "version_major": 2,
       "version_minor": 0
      },
      "text/plain": [
       "Canvas()"
      ]
     },
     "metadata": {},
     "output_type": "display_data"
    },
    {
     "data": {
      "text/plain": [
       "<ipydoodle.ipydoodle.Box at 0x7f1a50bd6cb0>"
      ]
     },
     "execution_count": 4,
     "metadata": {},
     "output_type": "execute_result"
    }
   ],
   "source": [
    "# 회색 배경에 box(50 x 50)를 만듭니다. \n",
    "from ipydoodle import *\n",
    "\n",
    "World(color = 'gray')\n",
    "\n",
    "Box(width = 50, height = 50)"
   ]
  },
  {
   "cell_type": "code",
   "execution_count": 5,
   "id": "06c1f47b-3b12-4906-af75-16b92f70a736",
   "metadata": {},
   "outputs": [
    {
     "data": {
      "application/vnd.jupyter.widget-view+json": {
       "model_id": "e24187601df44870b73ce98de060fd9a",
       "version_major": 2,
       "version_minor": 0
      },
      "text/plain": [
       "Canvas()"
      ]
     },
     "metadata": {},
     "output_type": "display_data"
    }
   ],
   "source": [
    "# 7개의 박스를 가로로 만듭니다.\n",
    "from ipydoodle import *\n",
    "\n",
    "World(color = 'gray')\n",
    "\n",
    "for i in range(7):\n",
    "    Box(x = 50*i-150, width = 50, height = 50)"
   ]
  },
  {
   "cell_type": "code",
   "execution_count": 6,
   "id": "084b1013-7544-4aad-85d3-bf9dc93b1826",
   "metadata": {},
   "outputs": [
    {
     "data": {
      "application/vnd.jupyter.widget-view+json": {
       "model_id": "5441aca93e0a442cbb26cb4c98a99d85",
       "version_major": 2,
       "version_minor": 0
      },
      "text/plain": [
       "Canvas()"
      ]
     },
     "metadata": {},
     "output_type": "display_data"
    }
   ],
   "source": [
    "# 7개의 박스의 색이 번걸아 가면서 나오도록 합니다.\n",
    "from ipydoodle import *\n",
    "\n",
    "World(color = 'gray')\n",
    "\n",
    "even_color = 'black'\n",
    "odd_color = 'white'\n",
    "\n",
    "for i in range(7):\n",
    "    if i % 2 ==0:\n",
    "        Box(x = 50*i-150, width = 50, height = 50, color = even_color)\n",
    "    else:\n",
    "        Box(x = 50*i-150, width = 50, height = 50, color = odd_color)"
   ]
  },
  {
   "cell_type": "code",
   "execution_count": 7,
   "id": "7e527512-534d-460c-9320-daeaec15404d",
   "metadata": {},
   "outputs": [
    {
     "data": {
      "application/vnd.jupyter.widget-view+json": {
       "model_id": "d646bfba273141cc9e270419913462eb",
       "version_major": 2,
       "version_minor": 0
      },
      "text/plain": [
       "Canvas()"
      ]
     },
     "metadata": {},
     "output_type": "display_data"
    }
   ],
   "source": [
    "# 가로 세로 7개의 박스가 나오도록 합니다.(가로로 색이 번갈아 나오는 것을 유지합니다.)\n",
    "from ipydoodle import *\n",
    "\n",
    "World(color = 'gray')\n",
    "\n",
    "even_color = 'black'\n",
    "odd_color = 'white'\n",
    "\n",
    "for i in range(7):\n",
    "    for j in range(7):\n",
    "        if i % 2 ==0:\n",
    "            Box(x = 50*i-150, y = 50*j-150, width = 50, height = 50, color = even_color)\n",
    "        else:\n",
    "            Box(x = 50*i-150, y = 50*j-150, width = 50, height = 50, color = odd_color)"
   ]
  },
  {
   "cell_type": "code",
   "execution_count": 8,
   "id": "85075df5-6092-40f9-8834-f18619a71832",
   "metadata": {},
   "outputs": [
    {
     "data": {
      "application/vnd.jupyter.widget-view+json": {
       "model_id": "7e36c8375ac14367ae51d455c34b72ae",
       "version_major": 2,
       "version_minor": 0
      },
      "text/plain": [
       "Canvas()"
      ]
     },
     "metadata": {},
     "output_type": "display_data"
    }
   ],
   "source": [
    "# 가로 세로 7개의 박스가 나오도록 합니다. 세로로도 색이 번갈아 나오도록 합니다.\n",
    "\n",
    "from ipydoodle import *\n",
    "\n",
    "World(color = 'gray')\n",
    "\n",
    "for i in range(7):\n",
    "    for j in range(7):\n",
    "        if j % 2 == 0:        \n",
    "            even_color = 'black'\n",
    "            odd_color = 'white'\n",
    "        else:\n",
    "            even_color = 'white'\n",
    "            odd_color = 'black'            \n",
    "        if i % 2 == 0 :\n",
    "            Box(x = 50*i-150, y = 50*j-150, width = 50, height = 50, color = even_color)\n",
    "        else:\n",
    "            Box(x = 50*i-150, y = 50*j-150, width = 50, height = 50, color = odd_color)"
   ]
  }
 ],
 "metadata": {
  "kernelspec": {
   "display_name": "Python 3 (ipykernel)",
   "language": "python",
   "name": "python3"
  },
  "language_info": {
   "codemirror_mode": {
    "name": "ipython",
    "version": 3
   },
   "file_extension": ".py",
   "mimetype": "text/x-python",
   "name": "python",
   "nbconvert_exporter": "python",
   "pygments_lexer": "ipython3",
   "version": "3.10.4"
  }
 },
 "nbformat": 4,
 "nbformat_minor": 5
}
