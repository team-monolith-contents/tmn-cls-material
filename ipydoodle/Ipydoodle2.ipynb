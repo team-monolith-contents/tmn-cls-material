{
 "cells": [
  {
   "cell_type": "code",
   "execution_count": 2,
   "id": "52b93fed-e120-4049-9dce-6e719a168c7a",
   "metadata": {},
   "outputs": [
    {
     "data": {
      "application/vnd.jupyter.widget-view+json": {
       "model_id": "fdee350e3f264c9fbaeda35f40f7b7c8",
       "version_major": 2,
       "version_minor": 0
      },
      "text/plain": [
       "Canvas()"
      ]
     },
     "metadata": {},
     "output_type": "display_data"
    },
    {
     "data": {
      "text/plain": [
       "<ipydoodle.ipydoodle.World at 0x7faac669e880>"
      ]
     },
     "execution_count": 2,
     "metadata": {},
     "output_type": "execute_result"
    }
   ],
   "source": [
    "# World를 만듭니다.\n",
    "\n",
    "from ipydoodle import *\n",
    "\n",
    "World()"
   ]
  },
  {
   "cell_type": "code",
   "execution_count": 3,
   "id": "440bc1fc-8414-41dc-9b45-4aea9447e6e9",
   "metadata": {},
   "outputs": [
    {
     "data": {
      "application/vnd.jupyter.widget-view+json": {
       "model_id": "5d12a119e316491a9fed5413bb39f410",
       "version_major": 2,
       "version_minor": 0
      },
      "text/plain": [
       "Canvas()"
      ]
     },
     "metadata": {},
     "output_type": "display_data"
    },
    {
     "data": {
      "text/plain": [
       "<ipydoodle.ipydoodle.Box at 0x7faac66a3610>"
      ]
     },
     "execution_count": 3,
     "metadata": {},
     "output_type": "execute_result"
    }
   ],
   "source": [
    "# 바닥을 만듭니다.\n",
    "\n",
    "from ipydoodle import *\n",
    "\n",
    "World()\n",
    "Box(y = -250, height = 50, width = 700, color = 'green')"
   ]
  },
  {
   "cell_type": "code",
   "execution_count": 4,
   "id": "df40245b-77c0-4f72-8860-0fa9bc1ed562",
   "metadata": {},
   "outputs": [
    {
     "data": {
      "application/vnd.jupyter.widget-view+json": {
       "model_id": "7d28038fc4474bdfb9e0325961426e22",
       "version_major": 2,
       "version_minor": 0
      },
      "text/plain": [
       "Canvas()"
      ]
     },
     "metadata": {},
     "output_type": "display_data"
    }
   ],
   "source": [
    "# 낙하할 물체를 만듭니다.\n",
    "\n",
    "from ipydoodle import *\n",
    "\n",
    "World()\n",
    "Box(y = -250, height = 50, width = 700, color = 'green')\n",
    "Ball = Circle(radius = 10, y = 100, color = 'red')"
   ]
  },
  {
   "cell_type": "code",
   "execution_count": 5,
   "id": "3ceedbf4-6635-4bd7-9a30-62256aeee459",
   "metadata": {},
   "outputs": [
    {
     "data": {
      "application/vnd.jupyter.widget-view+json": {
       "model_id": "7fa3435a5509414f87c2e517139af17f",
       "version_major": 2,
       "version_minor": 0
      },
      "text/plain": [
       "Canvas()"
      ]
     },
     "metadata": {},
     "output_type": "display_data"
    },
    {
     "ename": "KeyboardInterrupt",
     "evalue": "",
     "output_type": "error",
     "traceback": [
      "\u001b[0;31m---------------------------------------------------------------------------\u001b[0m",
      "\u001b[0;31mKeyboardInterrupt\u001b[0m                         Traceback (most recent call last)",
      "Input \u001b[0;32mIn [5]\u001b[0m, in \u001b[0;36m<cell line: 14>\u001b[0;34m()\u001b[0m\n\u001b[1;32m     11\u001b[0m dt \u001b[38;5;241m=\u001b[39m \u001b[38;5;241m0.01\u001b[39m\n\u001b[1;32m     13\u001b[0m \u001b[38;5;28;01mwhile\u001b[39;00m \u001b[38;5;28;01mTrue\u001b[39;00m:\n\u001b[0;32m---> 14\u001b[0m     \u001b[43mtime\u001b[49m\u001b[38;5;241;43m.\u001b[39;49m\u001b[43msleep\u001b[49m\u001b[43m(\u001b[49m\u001b[43mdt\u001b[49m\u001b[43m)\u001b[49m\n\u001b[1;32m     15\u001b[0m     ball\u001b[38;5;241m.\u001b[39mx \u001b[38;5;241m=\u001b[39m ball\u001b[38;5;241m.\u001b[39mx \u001b[38;5;241m+\u001b[39m dt \u001b[38;5;241m*\u001b[39m ball\u001b[38;5;241m.\u001b[39mvx\n\u001b[1;32m     16\u001b[0m     ball\u001b[38;5;241m.\u001b[39my \u001b[38;5;241m=\u001b[39m ball\u001b[38;5;241m.\u001b[39my \u001b[38;5;241m+\u001b[39m dt \u001b[38;5;241m*\u001b[39m ball\u001b[38;5;241m.\u001b[39mvy\n",
      "\u001b[0;31mKeyboardInterrupt\u001b[0m: "
     ]
    }
   ],
   "source": [
    "# 물체가 등속으로 움직이도록 합니다.\n",
    "\n",
    "from ipydoodle import *\n",
    "import time\n",
    "\n",
    "World()\n",
    "Box(y = -250, height = 50, width = 700, color = 'green')\n",
    "ball = Circle(radius = 10, y = 100, color = 'red')\n",
    "\n",
    "ball.vx = 0\n",
    "ball.vy = -200\n",
    "\n",
    "dt = 0.01\n",
    "\n",
    "while True:\n",
    "    time.sleep(dt)\n",
    "    ball.x = ball.x + dt * ball.vx\n",
    "    ball.y = ball.y + dt * ball.vy"
   ]
  },
  {
   "cell_type": "code",
   "execution_count": 6,
   "id": "17f03476-dba9-4b9e-bd41-8ce919501e7a",
   "metadata": {},
   "outputs": [
    {
     "data": {
      "application/vnd.jupyter.widget-view+json": {
       "model_id": "8c3797c83ff144d8b06ebcedf1218c13",
       "version_major": 2,
       "version_minor": 0
      },
      "text/plain": [
       "Canvas()"
      ]
     },
     "metadata": {},
     "output_type": "display_data"
    },
    {
     "ename": "KeyboardInterrupt",
     "evalue": "",
     "output_type": "error",
     "traceback": [
      "\u001b[0;31m---------------------------------------------------------------------------\u001b[0m",
      "\u001b[0;31mKeyboardInterrupt\u001b[0m                         Traceback (most recent call last)",
      "Input \u001b[0;32mIn [6]\u001b[0m, in \u001b[0;36m<cell line: 14>\u001b[0;34m()\u001b[0m\n\u001b[1;32m     11\u001b[0m dt \u001b[38;5;241m=\u001b[39m \u001b[38;5;241m0.01\u001b[39m\n\u001b[1;32m     13\u001b[0m \u001b[38;5;28;01mwhile\u001b[39;00m \u001b[38;5;28;01mTrue\u001b[39;00m:\n\u001b[0;32m---> 14\u001b[0m     \u001b[43mtime\u001b[49m\u001b[38;5;241;43m.\u001b[39;49m\u001b[43msleep\u001b[49m\u001b[43m(\u001b[49m\u001b[43mdt\u001b[49m\u001b[43m)\u001b[49m\n\u001b[1;32m     15\u001b[0m     ball\u001b[38;5;241m.\u001b[39mx \u001b[38;5;241m=\u001b[39m ball\u001b[38;5;241m.\u001b[39mx \u001b[38;5;241m+\u001b[39m dt \u001b[38;5;241m*\u001b[39m ball\u001b[38;5;241m.\u001b[39mvx\n\u001b[1;32m     16\u001b[0m     ball\u001b[38;5;241m.\u001b[39my \u001b[38;5;241m=\u001b[39m ball\u001b[38;5;241m.\u001b[39my \u001b[38;5;241m+\u001b[39m dt \u001b[38;5;241m*\u001b[39m ball\u001b[38;5;241m.\u001b[39mvy\n",
      "\u001b[0;31mKeyboardInterrupt\u001b[0m: "
     ]
    }
   ],
   "source": [
    "# 물체가 등속으로 움직이다가 바닥을 만나면 움직이는 방향이 바뀝니다.\n",
    "\n",
    "from ipydoodle import *\n",
    "import time\n",
    "\n",
    "World()\n",
    "Box(y = -250, height = 50, width = 700, color = 'green')\n",
    "ball = Circle(radius = 10, y = 100, color = 'red')\n",
    "\n",
    "ball.vx = 0\n",
    "ball.vy = -100\n",
    "\n",
    "dt = 0.01\n",
    "\n",
    "while True:\n",
    "    time.sleep(dt)\n",
    "    ball.x = ball.x + dt * ball.vx\n",
    "    ball.y = ball.y + dt * ball.vy\n",
    "    \n",
    "    if ball.y < -215 :\n",
    "        ball.vy = -ball.vy"
   ]
  },
  {
   "cell_type": "code",
   "execution_count": 7,
   "id": "b3c1935b-1257-4701-8699-106d4bb1dc44",
   "metadata": {},
   "outputs": [
    {
     "data": {
      "application/vnd.jupyter.widget-view+json": {
       "model_id": "047c6f1bc019496f9df5082b1841b983",
       "version_major": 2,
       "version_minor": 0
      },
      "text/plain": [
       "Canvas()"
      ]
     },
     "metadata": {},
     "output_type": "display_data"
    },
    {
     "ename": "KeyboardInterrupt",
     "evalue": "",
     "output_type": "error",
     "traceback": [
      "\u001b[0;31m---------------------------------------------------------------------------\u001b[0m",
      "\u001b[0;31mKeyboardInterrupt\u001b[0m                         Traceback (most recent call last)",
      "Input \u001b[0;32mIn [7]\u001b[0m, in \u001b[0;36m<cell line: 16>\u001b[0;34m()\u001b[0m\n\u001b[1;32m     13\u001b[0m dt \u001b[38;5;241m=\u001b[39m \u001b[38;5;241m0.01\u001b[39m\n\u001b[1;32m     15\u001b[0m \u001b[38;5;28;01mwhile\u001b[39;00m \u001b[38;5;28;01mTrue\u001b[39;00m:\n\u001b[0;32m---> 16\u001b[0m     \u001b[43mtime\u001b[49m\u001b[38;5;241;43m.\u001b[39;49m\u001b[43msleep\u001b[49m\u001b[43m(\u001b[49m\u001b[43mdt\u001b[49m\u001b[43m)\u001b[49m\n\u001b[1;32m     17\u001b[0m     ball\u001b[38;5;241m.\u001b[39mx \u001b[38;5;241m=\u001b[39m ball\u001b[38;5;241m.\u001b[39mx \u001b[38;5;241m+\u001b[39m dt \u001b[38;5;241m*\u001b[39m ball\u001b[38;5;241m.\u001b[39mvx\n\u001b[1;32m     18\u001b[0m     ball\u001b[38;5;241m.\u001b[39my \u001b[38;5;241m=\u001b[39m ball\u001b[38;5;241m.\u001b[39my \u001b[38;5;241m+\u001b[39m dt \u001b[38;5;241m*\u001b[39m ball\u001b[38;5;241m.\u001b[39mvy\n",
      "\u001b[0;31mKeyboardInterrupt\u001b[0m: "
     ]
    }
   ],
   "source": [
    "# 물체가 y축 방향으로 등가속도 운동을 하도록 합니다.\n",
    "\n",
    "from ipydoodle import *\n",
    "import time\n",
    "\n",
    "World()\n",
    "Box(y = -250, height = 50, width = 700, color = 'green')\n",
    "ball = Circle(radius = 10, y = 100, color = 'red')\n",
    "\n",
    "ball.vx = 0\n",
    "ball.vy = -100\n",
    "ball.ax = 0\n",
    "ball.ay = -100\n",
    "\n",
    "dt = 0.01\n",
    "\n",
    "while True:\n",
    "    time.sleep(dt)\n",
    "    ball.x = ball.x + dt * ball.vx\n",
    "    ball.y = ball.y + dt * ball.vy\n",
    "    ball.vx = ball.vx + dt * ball.ax\n",
    "    ball.vy = ball.vy + dt * ball.ay\n",
    "    \n",
    "    if ball.y < -215 :\n",
    "        ball.vy = -ball.vy"
   ]
  },
  {
   "cell_type": "code",
   "execution_count": 14,
   "id": "ace0826b-ed6e-40b4-8023-999c500dea40",
   "metadata": {},
   "outputs": [
    {
     "data": {
      "application/vnd.jupyter.widget-view+json": {
       "model_id": "f67ff512cf3746e5b507e70567c48457",
       "version_major": 2,
       "version_minor": 0
      },
      "text/plain": [
       "Canvas()"
      ]
     },
     "metadata": {},
     "output_type": "display_data"
    },
    {
     "ename": "KeyboardInterrupt",
     "evalue": "",
     "output_type": "error",
     "traceback": [
      "\u001b[0;31m---------------------------------------------------------------------------\u001b[0m",
      "\u001b[0;31mKeyboardInterrupt\u001b[0m                         Traceback (most recent call last)",
      "Input \u001b[0;32mIn [14]\u001b[0m, in \u001b[0;36m<cell line: 18>\u001b[0;34m()\u001b[0m\n\u001b[1;32m     15\u001b[0m dt \u001b[38;5;241m=\u001b[39m \u001b[38;5;241m0.01\u001b[39m\n\u001b[1;32m     17\u001b[0m \u001b[38;5;28;01mwhile\u001b[39;00m \u001b[38;5;28;01mTrue\u001b[39;00m:\n\u001b[0;32m---> 18\u001b[0m     \u001b[43mtime\u001b[49m\u001b[38;5;241;43m.\u001b[39;49m\u001b[43msleep\u001b[49m\u001b[43m(\u001b[49m\u001b[43mdt\u001b[49m\u001b[43m)\u001b[49m\n\u001b[1;32m     19\u001b[0m     ball\u001b[38;5;241m.\u001b[39mx \u001b[38;5;241m=\u001b[39m ball\u001b[38;5;241m.\u001b[39mx \u001b[38;5;241m+\u001b[39m dt \u001b[38;5;241m*\u001b[39m ball\u001b[38;5;241m.\u001b[39mvx\n\u001b[1;32m     20\u001b[0m     ball\u001b[38;5;241m.\u001b[39my \u001b[38;5;241m=\u001b[39m ball\u001b[38;5;241m.\u001b[39my \u001b[38;5;241m+\u001b[39m dt \u001b[38;5;241m*\u001b[39m ball\u001b[38;5;241m.\u001b[39mvy\n",
      "\u001b[0;31mKeyboardInterrupt\u001b[0m: "
     ]
    }
   ],
   "source": [
    "# 물체가 추가로 x축방향으로는 등속운동을 하도록 합니다.\n",
    "\n",
    "from ipydoodle import *\n",
    "import time\n",
    "\n",
    "World()\n",
    "Box(y = -250, height = 50, width = 700, color = 'green')\n",
    "ball = Circle(radius = 10, y = 100, color = 'red')\n",
    "\n",
    "ball.vx = 50\n",
    "ball.vy = -100\n",
    "ball.ax = 0\n",
    "ball.ay = -100\n",
    "\n",
    "dt = 0.01\n",
    "\n",
    "while True:\n",
    "    time.sleep(dt)\n",
    "    ball.x = ball.x + dt * ball.vx\n",
    "    ball.y = ball.y + dt * ball.vy\n",
    "    ball.vx = ball.vx + dt * ball.ax\n",
    "    ball.vy = ball.vy + dt * ball.ay\n",
    "    \n",
    "    if ball.y < -215 :\n",
    "        ball.vy = -ball.vy"
   ]
  },
  {
   "cell_type": "code",
   "execution_count": 15,
   "id": "a2695c4a-8b9f-4abe-b432-bc7ca1b23673",
   "metadata": {},
   "outputs": [
    {
     "data": {
      "application/vnd.jupyter.widget-view+json": {
       "model_id": "d96a572631e3437c8e73e3a0a2202b56",
       "version_major": 2,
       "version_minor": 0
      },
      "text/plain": [
       "Canvas()"
      ]
     },
     "metadata": {},
     "output_type": "display_data"
    },
    {
     "ename": "KeyboardInterrupt",
     "evalue": "",
     "output_type": "error",
     "traceback": [
      "\u001b[0;31m---------------------------------------------------------------------------\u001b[0m",
      "\u001b[0;31mKeyboardInterrupt\u001b[0m                         Traceback (most recent call last)",
      "Input \u001b[0;32mIn [15]\u001b[0m, in \u001b[0;36m<cell line: 18>\u001b[0;34m()\u001b[0m\n\u001b[1;32m     15\u001b[0m dt \u001b[38;5;241m=\u001b[39m \u001b[38;5;241m0.01\u001b[39m\n\u001b[1;32m     17\u001b[0m \u001b[38;5;28;01mwhile\u001b[39;00m \u001b[38;5;28;01mTrue\u001b[39;00m:\n\u001b[0;32m---> 18\u001b[0m     \u001b[43mtime\u001b[49m\u001b[38;5;241;43m.\u001b[39;49m\u001b[43msleep\u001b[49m\u001b[43m(\u001b[49m\u001b[43mdt\u001b[49m\u001b[43m)\u001b[49m\n\u001b[1;32m     19\u001b[0m     ball\u001b[38;5;241m.\u001b[39mx \u001b[38;5;241m=\u001b[39m ball\u001b[38;5;241m.\u001b[39mx \u001b[38;5;241m+\u001b[39m dt \u001b[38;5;241m*\u001b[39m ball\u001b[38;5;241m.\u001b[39mvx\n\u001b[1;32m     20\u001b[0m     ball\u001b[38;5;241m.\u001b[39my \u001b[38;5;241m=\u001b[39m ball\u001b[38;5;241m.\u001b[39my \u001b[38;5;241m+\u001b[39m dt \u001b[38;5;241m*\u001b[39m ball\u001b[38;5;241m.\u001b[39mvy\n",
      "\u001b[0;31mKeyboardInterrupt\u001b[0m: "
     ]
    }
   ],
   "source": [
    "# 자취를 추가합니다.\n",
    "\n",
    "from ipydoodle import *\n",
    "import time\n",
    "\n",
    "World()\n",
    "Box(y = -250, height = 50, width = 700, color = 'green')\n",
    "ball = Circle(radius = 10, y = 100, color = 'red', trail = True)\n",
    "\n",
    "ball.vx = 50\n",
    "ball.vy = -100\n",
    "ball.ax = 0\n",
    "ball.ay = -100\n",
    "\n",
    "dt = 0.01\n",
    "\n",
    "while True:\n",
    "    time.sleep(dt)\n",
    "    ball.x = ball.x + dt * ball.vx\n",
    "    ball.y = ball.y + dt * ball.vy\n",
    "    ball.vx = ball.vx + dt * ball.ax\n",
    "    ball.vy = ball.vy + dt * ball.ay\n",
    "    \n",
    "    if ball.y < -215 :\n",
    "        ball.vy = -ball.vy"
   ]
  },
  {
   "cell_type": "code",
   "execution_count": 16,
   "id": "e59889cb-5a0e-4ab8-a575-8deb7860f54b",
   "metadata": {
    "tags": []
   },
   "outputs": [
    {
     "data": {
      "application/vnd.jupyter.widget-view+json": {
       "model_id": "da5ac279dbb749e3919e915497f4d9c7",
       "version_major": 2,
       "version_minor": 0
      },
      "text/plain": [
       "Canvas()"
      ]
     },
     "metadata": {},
     "output_type": "display_data"
    },
    {
     "ename": "KeyboardInterrupt",
     "evalue": "",
     "output_type": "error",
     "traceback": [
      "\u001b[0;31m---------------------------------------------------------------------------\u001b[0m",
      "\u001b[0;31mKeyboardInterrupt\u001b[0m                         Traceback (most recent call last)",
      "Input \u001b[0;32mIn [16]\u001b[0m, in \u001b[0;36m<cell line: 18>\u001b[0;34m()\u001b[0m\n\u001b[1;32m     15\u001b[0m dt \u001b[38;5;241m=\u001b[39m \u001b[38;5;241m0.01\u001b[39m\n\u001b[1;32m     17\u001b[0m \u001b[38;5;28;01mwhile\u001b[39;00m \u001b[38;5;28;01mTrue\u001b[39;00m:\n\u001b[0;32m---> 18\u001b[0m     \u001b[43mtime\u001b[49m\u001b[38;5;241;43m.\u001b[39;49m\u001b[43msleep\u001b[49m\u001b[43m(\u001b[49m\u001b[43mdt\u001b[49m\u001b[43m)\u001b[49m\n\u001b[1;32m     19\u001b[0m     ball\u001b[38;5;241m.\u001b[39mtheta \u001b[38;5;241m=\u001b[39m ball\u001b[38;5;241m.\u001b[39mtheta \u001b[38;5;241m+\u001b[39m ball\u001b[38;5;241m.\u001b[39mw \u001b[38;5;241m*\u001b[39m dt\n\u001b[1;32m     20\u001b[0m     ball\u001b[38;5;241m.\u001b[39mx \u001b[38;5;241m=\u001b[39m math\u001b[38;5;241m.\u001b[39mcos(ball\u001b[38;5;241m.\u001b[39mtheta)\u001b[38;5;241m*\u001b[39mball\u001b[38;5;241m.\u001b[39mr\n",
      "\u001b[0;31mKeyboardInterrupt\u001b[0m: "
     ]
    }
   ],
   "source": [
    "# 추가 : 원운동하는 물체를 만들어 봅시다.\n",
    "\n",
    "from ipydoodle import *\n",
    "import time\n",
    "import math\n",
    "\n",
    "World()\n",
    "Box(y = -250, height = 50, width = 700, color = 'green')\n",
    "ball = Circle(radius = 10, x = 100, color = 'red', trail = True)\n",
    "\n",
    "ball.w = math.pi/2\n",
    "ball.theta = 0\n",
    "ball.r = 100\n",
    "\n",
    "dt = 0.01\n",
    "\n",
    "while True:\n",
    "    time.sleep(dt)\n",
    "    ball.theta = ball.theta + ball.w * dt\n",
    "    ball.x = math.cos(ball.theta)*ball.r\n",
    "    ball.y = math.sin(ball.theta)*ball.r"
   ]
  }
 ],
 "metadata": {
  "kernelspec": {
   "display_name": "Python 3 (ipykernel)",
   "language": "python",
   "name": "python3"
  },
  "language_info": {
   "codemirror_mode": {
    "name": "ipython",
    "version": 3
   },
   "file_extension": ".py",
   "mimetype": "text/x-python",
   "name": "python",
   "nbconvert_exporter": "python",
   "pygments_lexer": "ipython3",
   "version": "3.8.10"
  }
 },
 "nbformat": 4,
 "nbformat_minor": 5
}
