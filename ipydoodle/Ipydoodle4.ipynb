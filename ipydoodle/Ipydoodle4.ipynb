{
 "cells": [
  {
   "cell_type": "code",
   "execution_count": 3,
   "id": "52b93fed-e120-4049-9dce-6e719a168c7a",
   "metadata": {},
   "outputs": [
    {
     "data": {
      "application/vnd.jupyter.widget-view+json": {
       "model_id": "b3041747af67411f882f3f5ab12c9e68",
       "version_major": 2,
       "version_minor": 0
      },
      "text/plain": [
       "Canvas()"
      ]
     },
     "metadata": {},
     "output_type": "display_data"
    },
    {
     "data": {
      "text/plain": [
       "<ipydoodle.ipydoodle.World at 0x7eff72f9e340>"
      ]
     },
     "execution_count": 3,
     "metadata": {},
     "output_type": "execute_result"
    }
   ],
   "source": [
    "# World를 만듭니다.\n",
    "\n",
    "from ipydoodle import *\n",
    "\n",
    "World(axis = False, color = 'black')"
   ]
  },
  {
   "cell_type": "code",
   "execution_count": 31,
   "id": "8b9d60a5-d019-40aa-a8b1-c3a4fb13dd7e",
   "metadata": {
    "tags": []
   },
   "outputs": [
    {
     "data": {
      "application/vnd.jupyter.widget-view+json": {
       "model_id": "4d6d39a289db404dbb689a8c34e59a5d",
       "version_major": 2,
       "version_minor": 0
      },
      "text/plain": [
       "Canvas()"
      ]
     },
     "metadata": {},
     "output_type": "display_data"
    },
    {
     "data": {
      "text/plain": [
       "<ipydoodle.ipydoodle.Circle at 0x7eff0a14dfa0>"
      ]
     },
     "execution_count": 31,
     "metadata": {},
     "output_type": "execute_result"
    }
   ],
   "source": [
    "# random한 위치에 입자를 만듭니다.\n",
    "\n",
    "from ipydoodle import *\n",
    "import random\n",
    "import time\n",
    "\n",
    "World(axis = False, color = 'black')\n",
    "\n",
    "number_of_particle = 10\n",
    "\n",
    "random_x = random.random()*680 - 340\n",
    "random_y = random.random()*480 - 240\n",
    "Circle(x = random_x, y = random_y, radius = 10, color = 'white', trail = True)"
   ]
  },
  {
   "cell_type": "code",
   "execution_count": 32,
   "id": "7b0eb7ce-e90c-47cd-86c0-20d0cef61add",
   "metadata": {},
   "outputs": [
    {
     "data": {
      "application/vnd.jupyter.widget-view+json": {
       "model_id": "8be4405c48db477083dad659b2c9492c",
       "version_major": 2,
       "version_minor": 0
      },
      "text/plain": [
       "Canvas()"
      ]
     },
     "metadata": {},
     "output_type": "display_data"
    }
   ],
   "source": [
    "# 10개의 입자를 random한 위치에 만듭니다.\n",
    "\n",
    "from ipydoodle import *\n",
    "import random\n",
    "import time\n",
    "\n",
    "World(axis = False, color = 'black')\n",
    "\n",
    "number_of_particle = 10\n",
    "particles = []\n",
    "\n",
    "for i in range(number_of_particle):\n",
    "    random_x = random.random()*680 - 340\n",
    "    random_y = random.random()*480 - 240\n",
    "    particles.append(Circle(x = random_x, y = random_y, radius = 10, color = 'white', trail = True))"
   ]
  },
  {
   "cell_type": "code",
   "execution_count": 33,
   "id": "cd0ecfef-e517-4a1a-b428-e162b33bdbb1",
   "metadata": {},
   "outputs": [
    {
     "data": {
      "application/vnd.jupyter.widget-view+json": {
       "model_id": "d486cc83a7264b069ed76b614f01db53",
       "version_major": 2,
       "version_minor": 0
      },
      "text/plain": [
       "Canvas()"
      ]
     },
     "metadata": {},
     "output_type": "display_data"
    }
   ],
   "source": [
    "# 각각의 입자들에 random한 속도를 부여합니다.\n",
    "\n",
    "from ipydoodle import *\n",
    "import random\n",
    "import time\n",
    "\n",
    "World(axis = False, color = 'black')\n",
    "\n",
    "number_of_particle = 10\n",
    "particles = []\n",
    "\n",
    "for i in range(number_of_particle):\n",
    "    random_x = random.random()*680 - 340\n",
    "    random_y = random.random()*480 - 240\n",
    "    particles.append(Circle(x = random_x, y = random_y, radius = 10, color = 'white', trail = True))\n",
    "    particles[-1].vx = random.random()*200 - 100\n",
    "    particles[-1].vy = random.random()*200 - 100"
   ]
  },
  {
   "cell_type": "code",
   "execution_count": 35,
   "id": "9e5169ee-9df6-4331-8223-d8e86ce58394",
   "metadata": {},
   "outputs": [
    {
     "data": {
      "application/vnd.jupyter.widget-view+json": {
       "model_id": "688d51f2beef49dfac1a9512ca9f3433",
       "version_major": 2,
       "version_minor": 0
      },
      "text/plain": [
       "Canvas()"
      ]
     },
     "metadata": {},
     "output_type": "display_data"
    },
    {
     "ename": "KeyboardInterrupt",
     "evalue": "",
     "output_type": "error",
     "traceback": [
      "\u001b[0;31m---------------------------------------------------------------------------\u001b[0m",
      "\u001b[0;31mKeyboardInterrupt\u001b[0m                         Traceback (most recent call last)",
      "Input \u001b[0;32mIn [35]\u001b[0m, in \u001b[0;36m<cell line: 22>\u001b[0;34m()\u001b[0m\n\u001b[1;32m     20\u001b[0m dt \u001b[38;5;241m=\u001b[39m \u001b[38;5;241m0.05\u001b[39m\n\u001b[1;32m     21\u001b[0m \u001b[38;5;28;01mwhile\u001b[39;00m \u001b[38;5;28;01mTrue\u001b[39;00m:\n\u001b[0;32m---> 22\u001b[0m     \u001b[43mtime\u001b[49m\u001b[38;5;241;43m.\u001b[39;49m\u001b[43msleep\u001b[49m\u001b[43m(\u001b[49m\u001b[43mdt\u001b[49m\u001b[43m)\u001b[49m\n\u001b[1;32m     23\u001b[0m     \u001b[38;5;28;01mfor\u001b[39;00m p \u001b[38;5;129;01min\u001b[39;00m particles:\n\u001b[1;32m     24\u001b[0m         p\u001b[38;5;241m.\u001b[39mx \u001b[38;5;241m=\u001b[39m p\u001b[38;5;241m.\u001b[39mx \u001b[38;5;241m+\u001b[39m dt\u001b[38;5;241m*\u001b[39mp\u001b[38;5;241m.\u001b[39mvx\n",
      "\u001b[0;31mKeyboardInterrupt\u001b[0m: "
     ]
    }
   ],
   "source": [
    "# 입자들이 움직이도록 위치를 업데이트 시켜줍니다.\n",
    "\n",
    "from ipydoodle import *\n",
    "import random\n",
    "import time\n",
    "\n",
    "World(axis = False, color = 'black')\n",
    "\n",
    "number_of_particle = 10\n",
    "particles = []\n",
    "\n",
    "for i in range(number_of_particle):\n",
    "    random_x = random.random()*680 - 340\n",
    "    random_y = random.random()*480 - 240\n",
    "    particles.append(Circle(x = random_x, y = random_y, radius = 10, color = 'white'))\n",
    "    particles[-1].vx = random.random()*200 - 100\n",
    "    particles[-1].vy = random.random()*200 - 100\n",
    "    \n",
    "    \n",
    "dt = 0.05\n",
    "while True:\n",
    "    time.sleep(dt)\n",
    "    for p in particles:\n",
    "        p.x = p.x + dt*p.vx\n",
    "        p.y = p.y + dt*p.vy"
   ]
  },
  {
   "cell_type": "code",
   "execution_count": 38,
   "id": "5bdbf3b0-d202-49db-bdb3-f336f4fffc02",
   "metadata": {},
   "outputs": [
    {
     "data": {
      "application/vnd.jupyter.widget-view+json": {
       "model_id": "225a677e4fbb4a15a20e6d9f10f7be52",
       "version_major": 2,
       "version_minor": 0
      },
      "text/plain": [
       "Canvas()"
      ]
     },
     "metadata": {},
     "output_type": "display_data"
    },
    {
     "ename": "KeyboardInterrupt",
     "evalue": "",
     "output_type": "error",
     "traceback": [
      "\u001b[0;31m---------------------------------------------------------------------------\u001b[0m",
      "\u001b[0;31mKeyboardInterrupt\u001b[0m                         Traceback (most recent call last)",
      "Input \u001b[0;32mIn [38]\u001b[0m, in \u001b[0;36m<cell line: 22>\u001b[0;34m()\u001b[0m\n\u001b[1;32m     20\u001b[0m dt \u001b[38;5;241m=\u001b[39m \u001b[38;5;241m0.05\u001b[39m\n\u001b[1;32m     21\u001b[0m \u001b[38;5;28;01mwhile\u001b[39;00m \u001b[38;5;28;01mTrue\u001b[39;00m:\n\u001b[0;32m---> 22\u001b[0m     \u001b[43mtime\u001b[49m\u001b[38;5;241;43m.\u001b[39;49m\u001b[43msleep\u001b[49m\u001b[43m(\u001b[49m\u001b[43mdt\u001b[49m\u001b[43m)\u001b[49m\n\u001b[1;32m     23\u001b[0m     \u001b[38;5;28;01mfor\u001b[39;00m p \u001b[38;5;129;01min\u001b[39;00m particles:\n\u001b[1;32m     24\u001b[0m         p\u001b[38;5;241m.\u001b[39mx \u001b[38;5;241m=\u001b[39m p\u001b[38;5;241m.\u001b[39mx \u001b[38;5;241m+\u001b[39m dt\u001b[38;5;241m*\u001b[39mp\u001b[38;5;241m.\u001b[39mvx\n",
      "\u001b[0;31mKeyboardInterrupt\u001b[0m: "
     ]
    }
   ],
   "source": [
    "# 입자들이 World() 밖으로 나가지 않도록 Wordl() 경계에 닿으면 반사되도록 합시다.\n",
    "\n",
    "from ipydoodle import *\n",
    "import random\n",
    "import time\n",
    "\n",
    "World(axis = False, color = 'black')\n",
    "\n",
    "number_of_particle = 10\n",
    "particles = []\n",
    "\n",
    "for i in range(number_of_particle):\n",
    "    random_x = random.random()*680 - 340\n",
    "    random_y = random.random()*480 - 240\n",
    "    particles.append(Circle(x = random_x, y = random_y, radius = 10, color = 'white'))\n",
    "    particles[-1].vx = random.random()*200 - 100\n",
    "    particles[-1].vy = random.random()*200 - 100\n",
    "    \n",
    "    \n",
    "dt = 0.05\n",
    "while True:\n",
    "    time.sleep(dt)\n",
    "    for p in particles:\n",
    "        p.x = p.x + dt*p.vx\n",
    "        p.y = p.y + dt*p.vy\n",
    "        if p.x > 340 or p.x < -340:\n",
    "            p.vx = -p.vx\n",
    "        if p.y > 240 or p.y < -240:\n",
    "            p.vy = -p.vy"
   ]
  },
  {
   "cell_type": "code",
   "execution_count": 15,
   "id": "acf84792-56cf-4300-b9fa-34fe9c71c7ad",
   "metadata": {},
   "outputs": [
    {
     "data": {
      "application/vnd.jupyter.widget-view+json": {
       "model_id": "346b8b95dabf4f6f90098a65d00a1492",
       "version_major": 2,
       "version_minor": 0
      },
      "text/plain": [
       "Canvas()"
      ]
     },
     "metadata": {},
     "output_type": "display_data"
    },
    {
     "ename": "KeyboardInterrupt",
     "evalue": "",
     "output_type": "error",
     "traceback": [
      "\u001b[0;31m---------------------------------------------------------------------------\u001b[0m",
      "\u001b[0;31mKeyboardInterrupt\u001b[0m                         Traceback (most recent call last)",
      "Input \u001b[0;32mIn [15]\u001b[0m, in \u001b[0;36m<cell line: 23>\u001b[0;34m()\u001b[0m\n\u001b[1;32m     21\u001b[0m dt \u001b[38;5;241m=\u001b[39m \u001b[38;5;241m0.05\u001b[39m\n\u001b[1;32m     22\u001b[0m \u001b[38;5;28;01mwhile\u001b[39;00m \u001b[38;5;28;01mTrue\u001b[39;00m:\n\u001b[0;32m---> 23\u001b[0m     \u001b[43mtime\u001b[49m\u001b[38;5;241;43m.\u001b[39;49m\u001b[43msleep\u001b[49m\u001b[43m(\u001b[49m\u001b[43mdt\u001b[49m\u001b[43m)\u001b[49m\n\u001b[1;32m     24\u001b[0m     \u001b[38;5;28;01mfor\u001b[39;00m p \u001b[38;5;129;01min\u001b[39;00m particles:\n\u001b[1;32m     25\u001b[0m         p\u001b[38;5;241m.\u001b[39mx \u001b[38;5;241m=\u001b[39m p\u001b[38;5;241m.\u001b[39mx \u001b[38;5;241m+\u001b[39m dt\u001b[38;5;241m*\u001b[39mp\u001b[38;5;241m.\u001b[39mvx\n",
      "\u001b[0;31mKeyboardInterrupt\u001b[0m: "
     ]
    }
   ],
   "source": [
    "# 입자들의 충돌하면 합쳐져 큰 입자가 되도록 해봅시다.\n",
    "\n",
    "from ipydoodle import *\n",
    "import random\n",
    "import time\n",
    "import math\n",
    "\n",
    "World(axis = False, color = 'black')\n",
    "\n",
    "number_of_particle = 100\n",
    "particles = []\n",
    "\n",
    "for i in range(number_of_particle):\n",
    "    random_x = random.random()*680 - 340\n",
    "    random_y = random.random()*480 - 240\n",
    "    particles.append(Circle(x = random_x, y = random_y, radius = 10, color = 'white', trail = True))\n",
    "    particles[-1].vx = random.random()*200 - 100\n",
    "    particles[-1].vy = random.random()*200 - 100\n",
    "    \n",
    "    \n",
    "dt = 0.05\n",
    "while True:\n",
    "    time.sleep(dt)\n",
    "    for p in particles:\n",
    "        p.x = p.x + dt*p.vx\n",
    "        p.y = p.y + dt*p.vy\n",
    "        if p.x > 350 - p.radius or p.x < -350 + p.radius:\n",
    "            p.vx = -p.vx\n",
    "        if p.y > 250 - p.radius or p.y < -250 + p.radius:\n",
    "            p.vy = -p.vy\n",
    "        for p2 in particles:\n",
    "            if p == p2:\n",
    "                continue\n",
    "            if (p.x - p2.x)**2 + (p.y - p2.y)**2 < (p.radius + p2.radius)**2:\n",
    "                p.radius = math.sqrt(p.radius**2 + p2.radius**2)\n",
    "                p.x = (p2.x + p.x)/2\n",
    "                p.y = (p2.y + p.y)/2\n",
    "                p.vx = (p2.vx + p.vx)/2\n",
    "                p.vy = (p2.vy + p.vy)/2\n",
    "                particles.remove(p2)\n",
    "                p2.alpha = 0"
   ]
  }
 ],
 "metadata": {
  "kernelspec": {
   "display_name": "Python 3 (ipykernel)",
   "language": "python",
   "name": "python3"
  },
  "language_info": {
   "codemirror_mode": {
    "name": "ipython",
    "version": 3
   },
   "file_extension": ".py",
   "mimetype": "text/x-python",
   "name": "python",
   "nbconvert_exporter": "python",
   "pygments_lexer": "ipython3",
   "version": "3.8.10"
  }
 },
 "nbformat": 4,
 "nbformat_minor": 5
}
