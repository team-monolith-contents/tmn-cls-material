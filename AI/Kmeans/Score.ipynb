{
 "cells": [
  {
   "cell_type": "markdown",
   "id": "7365070f-4d43-4fc0-a6b0-7cad3e4fcef6",
   "metadata": {},
   "source": [
    "# 교육학과 Clustering"
   ]
  },
  {
   "cell_type": "markdown",
   "id": "834ba6df-0225-4130-8746-b448dadc96ea",
   "metadata": {},
   "source": [
    "### Matplotlib에서 폰트 설정"
   ]
  },
  {
   "cell_type": "code",
   "execution_count": 4,
   "id": "5243ff05-3508-460a-b92f-cfef8d4f91e7",
   "metadata": {
    "tags": [
     "jce.problems.221.2차시_Matplotlib에서_폰트_설정"
    ]
   },
   "outputs": [],
   "source": [
    "import urllib\n",
    "from matplotlib import font_manager\n",
    "from matplotlib import pyplot as plt\n",
    "\n",
    "font_path = 'NanumGothic.ttf'\n",
    "with open(font_path, 'wb') as f: \n",
    "    f.write(urllib.request.urlopen(\"https://github.com/team-monolith-product/jupyter-nanum/raw/main/NanumGothic.ttf\").read())\n",
    "\n",
    "# 글꼴을 등록합니다.\n",
    "font_manager.fontManager.addfont(font_path)\n",
    "plt.rcParams['font.family'] = font_manager.FontProperties(fname=font_path).get_name()"
   ]
  },
  {
   "cell_type": "markdown",
   "id": "a0a48051-cdad-4f48-a98b-35a3f1dba37d",
   "metadata": {},
   "source": [
    "### [Step1] 데이터 로드"
   ]
  },
  {
   "cell_type": "code",
   "execution_count": 5,
   "id": "f44e4b8a-8f07-450f-9902-cfba31392c10",
   "metadata": {
    "tags": [
     "jce.problems.221.2차시_Step1_데이터_로드"
    ]
   },
   "outputs": [
    {
     "data": {
      "text/html": [
       "<div>\n",
       "<style scoped>\n",
       "    .dataframe tbody tr th:only-of-type {\n",
       "        vertical-align: middle;\n",
       "    }\n",
       "\n",
       "    .dataframe tbody tr th {\n",
       "        vertical-align: top;\n",
       "    }\n",
       "\n",
       "    .dataframe thead th {\n",
       "        text-align: right;\n",
       "    }\n",
       "</style>\n",
       "<table border=\"1\" class=\"dataframe\">\n",
       "  <thead>\n",
       "    <tr style=\"text-align: right;\">\n",
       "      <th></th>\n",
       "      <th>나이</th>\n",
       "      <th>점수</th>\n",
       "    </tr>\n",
       "  </thead>\n",
       "  <tbody>\n",
       "    <tr>\n",
       "      <th>0</th>\n",
       "      <td>23</td>\n",
       "      <td>12</td>\n",
       "    </tr>\n",
       "    <tr>\n",
       "      <th>1</th>\n",
       "      <td>28</td>\n",
       "      <td>91</td>\n",
       "    </tr>\n",
       "    <tr>\n",
       "      <th>2</th>\n",
       "      <td>29</td>\n",
       "      <td>2</td>\n",
       "    </tr>\n",
       "    <tr>\n",
       "      <th>3</th>\n",
       "      <td>24</td>\n",
       "      <td>98</td>\n",
       "    </tr>\n",
       "    <tr>\n",
       "      <th>4</th>\n",
       "      <td>22</td>\n",
       "      <td>6</td>\n",
       "    </tr>\n",
       "    <tr>\n",
       "      <th>...</th>\n",
       "      <td>...</td>\n",
       "      <td>...</td>\n",
       "    </tr>\n",
       "    <tr>\n",
       "      <th>115</th>\n",
       "      <td>20</td>\n",
       "      <td>85</td>\n",
       "    </tr>\n",
       "    <tr>\n",
       "      <th>116</th>\n",
       "      <td>22</td>\n",
       "      <td>11</td>\n",
       "    </tr>\n",
       "    <tr>\n",
       "      <th>117</th>\n",
       "      <td>28</td>\n",
       "      <td>84</td>\n",
       "    </tr>\n",
       "    <tr>\n",
       "      <th>118</th>\n",
       "      <td>23</td>\n",
       "      <td>4</td>\n",
       "    </tr>\n",
       "    <tr>\n",
       "      <th>119</th>\n",
       "      <td>22</td>\n",
       "      <td>83</td>\n",
       "    </tr>\n",
       "  </tbody>\n",
       "</table>\n",
       "<p>120 rows × 2 columns</p>\n",
       "</div>"
      ],
      "text/plain": [
       "     나이  점수\n",
       "0    23  12\n",
       "1    28  91\n",
       "2    29   2\n",
       "3    24  98\n",
       "4    22   6\n",
       "..   ..  ..\n",
       "115  20  85\n",
       "116  22  11\n",
       "117  28  84\n",
       "118  23   4\n",
       "119  22  83\n",
       "\n",
       "[120 rows x 2 columns]"
      ]
     },
     "execution_count": 5,
     "metadata": {},
     "output_type": "execute_result"
    }
   ],
   "source": [
    "import pandas as pd\n",
    "\n",
    "df = pd.read_csv('datasets/시험점수.csv')\n",
    "df"
   ]
  },
  {
   "cell_type": "markdown",
   "id": "8b8dc796-01ee-4639-bb40-2f208ce5fc0a",
   "metadata": {},
   "source": [
    "### [Step2] 데이터 파악하기"
   ]
  },
  {
   "cell_type": "code",
   "execution_count": 6,
   "id": "eccefb2e-dde3-47b1-a82b-41fb5ac72189",
   "metadata": {
    "tags": [
     "jce.problems.221.2차시_Step2_데이터_파악하기_1"
    ]
   },
   "outputs": [
    {
     "name": "stdout",
     "output_type": "stream",
     "text": [
      "<class 'pandas.core.frame.DataFrame'>\n",
      "RangeIndex: 120 entries, 0 to 119\n",
      "Data columns (total 2 columns):\n",
      " #   Column  Non-Null Count  Dtype\n",
      "---  ------  --------------  -----\n",
      " 0   나이      120 non-null    int64\n",
      " 1   점수      120 non-null    int64\n",
      "dtypes: int64(2)\n",
      "memory usage: 2.0 KB\n"
     ]
    }
   ],
   "source": [
    "df.info()"
   ]
  },
  {
   "cell_type": "code",
   "execution_count": 6,
   "id": "9c787193-dab0-4d1e-ae87-1883d3890d44",
   "metadata": {
    "tags": [
     "jce.problems.221.2차시_Step2_데이터_파악하기_2"
    ]
   },
   "outputs": [
    {
     "name": "stdout",
     "output_type": "stream",
     "text": [
      "<class 'pandas.core.frame.DataFrame'>\n",
      "RangeIndex: 120 entries, 0 to 119\n",
      "Data columns (total 2 columns):\n",
      " #   Column  Non-Null Count  Dtype\n",
      "---  ------  --------------  -----\n",
      " 0   나이      120 non-null    int64\n",
      " 1   점수      120 non-null    int64\n",
      "dtypes: int64(2)\n",
      "memory usage: 2.0 KB\n"
     ]
    }
   ],
   "source": [
    "df.describe()"
   ]
  },
  {
   "cell_type": "markdown",
   "id": "9248b8dc-3f4c-4069-b6d9-5d288f30fb12",
   "metadata": {},
   "source": [
    "### [Step 3] 모델 구성 및 학습하기"
   ]
  },
  {
   "cell_type": "code",
   "execution_count": 7,
   "id": "24765209-5d9a-44b2-b6e6-fa692af61505",
   "metadata": {
    "tags": [
     "jce.problems.221.2차시_Step3_모델_구성_및_학습하기"
    ]
   },
   "outputs": [
    {
     "data": {
      "text/html": [
       "<div>\n",
       "<style scoped>\n",
       "    .dataframe tbody tr th:only-of-type {\n",
       "        vertical-align: middle;\n",
       "    }\n",
       "\n",
       "    .dataframe tbody tr th {\n",
       "        vertical-align: top;\n",
       "    }\n",
       "\n",
       "    .dataframe thead th {\n",
       "        text-align: right;\n",
       "    }\n",
       "</style>\n",
       "<table border=\"1\" class=\"dataframe\">\n",
       "  <thead>\n",
       "    <tr style=\"text-align: right;\">\n",
       "      <th></th>\n",
       "      <th>나이</th>\n",
       "      <th>점수</th>\n",
       "      <th>클러스터</th>\n",
       "    </tr>\n",
       "  </thead>\n",
       "  <tbody>\n",
       "    <tr>\n",
       "      <th>0</th>\n",
       "      <td>23</td>\n",
       "      <td>12</td>\n",
       "      <td>1</td>\n",
       "    </tr>\n",
       "    <tr>\n",
       "      <th>1</th>\n",
       "      <td>28</td>\n",
       "      <td>91</td>\n",
       "      <td>0</td>\n",
       "    </tr>\n",
       "    <tr>\n",
       "      <th>2</th>\n",
       "      <td>29</td>\n",
       "      <td>2</td>\n",
       "      <td>1</td>\n",
       "    </tr>\n",
       "    <tr>\n",
       "      <th>3</th>\n",
       "      <td>24</td>\n",
       "      <td>98</td>\n",
       "      <td>0</td>\n",
       "    </tr>\n",
       "    <tr>\n",
       "      <th>4</th>\n",
       "      <td>22</td>\n",
       "      <td>6</td>\n",
       "      <td>1</td>\n",
       "    </tr>\n",
       "    <tr>\n",
       "      <th>...</th>\n",
       "      <td>...</td>\n",
       "      <td>...</td>\n",
       "      <td>...</td>\n",
       "    </tr>\n",
       "    <tr>\n",
       "      <th>115</th>\n",
       "      <td>20</td>\n",
       "      <td>85</td>\n",
       "      <td>0</td>\n",
       "    </tr>\n",
       "    <tr>\n",
       "      <th>116</th>\n",
       "      <td>22</td>\n",
       "      <td>11</td>\n",
       "      <td>1</td>\n",
       "    </tr>\n",
       "    <tr>\n",
       "      <th>117</th>\n",
       "      <td>28</td>\n",
       "      <td>84</td>\n",
       "      <td>0</td>\n",
       "    </tr>\n",
       "    <tr>\n",
       "      <th>118</th>\n",
       "      <td>23</td>\n",
       "      <td>4</td>\n",
       "      <td>1</td>\n",
       "    </tr>\n",
       "    <tr>\n",
       "      <th>119</th>\n",
       "      <td>22</td>\n",
       "      <td>83</td>\n",
       "      <td>0</td>\n",
       "    </tr>\n",
       "  </tbody>\n",
       "</table>\n",
       "<p>120 rows × 3 columns</p>\n",
       "</div>"
      ],
      "text/plain": [
       "     나이  점수  클러스터\n",
       "0    23  12     1\n",
       "1    28  91     0\n",
       "2    29   2     1\n",
       "3    24  98     0\n",
       "4    22   6     1\n",
       "..   ..  ..   ...\n",
       "115  20  85     0\n",
       "116  22  11     1\n",
       "117  28  84     0\n",
       "118  23   4     1\n",
       "119  22  83     0\n",
       "\n",
       "[120 rows x 3 columns]"
      ]
     },
     "execution_count": 7,
     "metadata": {},
     "output_type": "execute_result"
    }
   ],
   "source": [
    "from sklearn.cluster import KMeans\n",
    "from sklearn.preprocessing import MinMaxScaler\n",
    "\n",
    "model = KMeans(n_clusters = 3) #클러스터의 수를 3개로 설정합니다. \n",
    "pred = model.fit_predict(df[['나이', '점수']]) # dataframe에서 나이와 점수 정보를 활용하여 클러스터링을 진행합니다.\n",
    "df['클러스터'] = pred\n",
    "df"
   ]
  },
  {
   "cell_type": "markdown",
   "id": "ca7616c3-9277-44c1-b1cf-072119048922",
   "metadata": {
    "tags": []
   },
   "source": [
    "### [Step 4] 결과 시각화하기"
   ]
  },
  {
   "cell_type": "code",
   "execution_count": 8,
   "id": "4fab2d0d-6753-47f3-8420-991b5462d35d",
   "metadata": {
    "tags": [
     "jce.problems.221.2차시_Step4_결과_시각화하기"
    ]
   },
   "outputs": [
    {
     "data": {
      "image/png": "[encoded data removed]",
      "text/plain": [
       "<Figure size 432x288 with 1 Axes>"
      ]
     },
     "metadata": {
      "needs_background": "light"
     },
     "output_type": "display_data"
    }
   ],
   "source": [
    "from matplotlib import pyplot as plt\n",
    "\n",
    "df1 = df[df['클러스터'] == 0] # 클러스터 열의 값이 0인 데이터 모음 : df1.  \n",
    "df2 = df[df['클러스터'] == 1] # 클러스터 열의 값이 1인 데이터 모음 : df2.\n",
    "df3 = df[df['클러스터'] == 2] # 클러스터 열의 값이 2인 데이터 모음 : df3. \n",
    "\n",
    "plt.scatter(df1['나이'],df1['점수'],color = 'red') # x축을 나이, y축을 점수로 했을 때의 산점도를 붉은색으로 설정. \n",
    "plt.scatter(df2['나이'],df2['점수'],color = 'blue') # x축을 나이, y축을 점수로 했을 때의 산점도를 파랑색으로 설정. \n",
    "plt.scatter(df3['나이'],df3['점수'],color = 'yellow')# x축을 나이, y축을 점수로 했을 때의 산점도를 노랑색으로 설정. \n",
    "\n",
    "plt.title('수학 점수 분포')\n",
    "plt.xlabel('나이')\n",
    "plt.ylabel('점수')\n",
    "\n",
    "plt.show()"
   ]
  },
  {
   "cell_type": "markdown",
   "id": "305924a2-7f16-4fcf-a459-f67608133fc1",
   "metadata": {
    "tags": []
   },
   "source": [
    "### [Step 5] 데이터 정규화하기"
   ]
  },
  {
   "cell_type": "code",
   "execution_count": 10,
   "id": "fcc1af46-3ad9-4887-9499-9904661d4262",
   "metadata": {
    "tags": [
     "jce.problems.221.2차시_Step5_데이터_정규화하기"
    ]
   },
   "outputs": [
    {
     "data": {
      "text/html": [
       "<div>\n",
       "<style scoped>\n",
       "    .dataframe tbody tr th:only-of-type {\n",
       "        vertical-align: middle;\n",
       "    }\n",
       "\n",
       "    .dataframe tbody tr th {\n",
       "        vertical-align: top;\n",
       "    }\n",
       "\n",
       "    .dataframe thead th {\n",
       "        text-align: right;\n",
       "    }\n",
       "</style>\n",
       "<table border=\"1\" class=\"dataframe\">\n",
       "  <thead>\n",
       "    <tr style=\"text-align: right;\">\n",
       "      <th></th>\n",
       "      <th>나이</th>\n",
       "      <th>점수</th>\n",
       "      <th>클러스터</th>\n",
       "    </tr>\n",
       "  </thead>\n",
       "  <tbody>\n",
       "    <tr>\n",
       "      <th>0</th>\n",
       "      <td>0.3</td>\n",
       "      <td>0.122449</td>\n",
       "      <td>1</td>\n",
       "    </tr>\n",
       "    <tr>\n",
       "      <th>1</th>\n",
       "      <td>0.8</td>\n",
       "      <td>0.928571</td>\n",
       "      <td>0</td>\n",
       "    </tr>\n",
       "    <tr>\n",
       "      <th>2</th>\n",
       "      <td>0.9</td>\n",
       "      <td>0.020408</td>\n",
       "      <td>1</td>\n",
       "    </tr>\n",
       "    <tr>\n",
       "      <th>3</th>\n",
       "      <td>0.4</td>\n",
       "      <td>1.000000</td>\n",
       "      <td>0</td>\n",
       "    </tr>\n",
       "    <tr>\n",
       "      <th>4</th>\n",
       "      <td>0.2</td>\n",
       "      <td>0.061224</td>\n",
       "      <td>1</td>\n",
       "    </tr>\n",
       "    <tr>\n",
       "      <th>...</th>\n",
       "      <td>...</td>\n",
       "      <td>...</td>\n",
       "      <td>...</td>\n",
       "    </tr>\n",
       "    <tr>\n",
       "      <th>115</th>\n",
       "      <td>0.0</td>\n",
       "      <td>0.867347</td>\n",
       "      <td>0</td>\n",
       "    </tr>\n",
       "    <tr>\n",
       "      <th>116</th>\n",
       "      <td>0.2</td>\n",
       "      <td>0.112245</td>\n",
       "      <td>1</td>\n",
       "    </tr>\n",
       "    <tr>\n",
       "      <th>117</th>\n",
       "      <td>0.8</td>\n",
       "      <td>0.857143</td>\n",
       "      <td>0</td>\n",
       "    </tr>\n",
       "    <tr>\n",
       "      <th>118</th>\n",
       "      <td>0.3</td>\n",
       "      <td>0.040816</td>\n",
       "      <td>1</td>\n",
       "    </tr>\n",
       "    <tr>\n",
       "      <th>119</th>\n",
       "      <td>0.2</td>\n",
       "      <td>0.846939</td>\n",
       "      <td>0</td>\n",
       "    </tr>\n",
       "  </tbody>\n",
       "</table>\n",
       "<p>120 rows × 3 columns</p>\n",
       "</div>"
      ],
      "text/plain": [
       "      나이        점수  클러스터\n",
       "0    0.3  0.122449     1\n",
       "1    0.8  0.928571     0\n",
       "2    0.9  0.020408     1\n",
       "3    0.4  1.000000     0\n",
       "4    0.2  0.061224     1\n",
       "..   ...       ...   ...\n",
       "115  0.0  0.867347     0\n",
       "116  0.2  0.112245     1\n",
       "117  0.8  0.857143     0\n",
       "118  0.3  0.040816     1\n",
       "119  0.2  0.846939     0\n",
       "\n",
       "[120 rows x 3 columns]"
      ]
     },
     "execution_count": 10,
     "metadata": {},
     "output_type": "execute_result"
    }
   ],
   "source": [
    "#분석시에 변수들의 스케일이 너무 다른 경우 제대로 학습이 이루어지지 않습니다. 그래서 scaler가 필요합니다. \n",
    "\n",
    "scaler = MinMaxScaler() #모든 값을 0~1사이로 바꾸는 정규화 함수 \n",
    "scaler.fit(df[['나이']]) #나이 열을 scaler에 맞게 fit하고 \n",
    "df['나이'] = scaler.transform(df[['나이']]) #transform 함수를 통해 변환합니다. \n",
    "\n",
    "scaler = MinMaxScaler() #모든 값을 0~1사이로 바꾸는 정규화 함수 \n",
    "scaler.fit(df[['점수']])\n",
    "df['점수'] = scaler.transform(df[['점수']])\n",
    "\n",
    "df"
   ]
  },
  {
   "cell_type": "markdown",
   "id": "a603e843-f4ea-4ce6-b75f-a14523fa60e8",
   "metadata": {
    "tags": []
   },
   "source": [
    "### [Step 6] 정규화한 데이터로 모델 학습하기"
   ]
  },
  {
   "cell_type": "code",
   "execution_count": 11,
   "id": "d261def2-f750-40ad-bcdb-455b6d279469",
   "metadata": {
    "tags": [
     "jce.problems.221.2차시_Step6_정규화한_데이터로_모델_학습하기"
    ]
   },
   "outputs": [
    {
     "data": {
      "text/html": [
       "<div>\n",
       "<style scoped>\n",
       "    .dataframe tbody tr th:only-of-type {\n",
       "        vertical-align: middle;\n",
       "    }\n",
       "\n",
       "    .dataframe tbody tr th {\n",
       "        vertical-align: top;\n",
       "    }\n",
       "\n",
       "    .dataframe thead th {\n",
       "        text-align: right;\n",
       "    }\n",
       "</style>\n",
       "<table border=\"1\" class=\"dataframe\">\n",
       "  <thead>\n",
       "    <tr style=\"text-align: right;\">\n",
       "      <th></th>\n",
       "      <th>나이</th>\n",
       "      <th>점수</th>\n",
       "      <th>클러스터</th>\n",
       "    </tr>\n",
       "  </thead>\n",
       "  <tbody>\n",
       "    <tr>\n",
       "      <th>0</th>\n",
       "      <td>0.3</td>\n",
       "      <td>0.122449</td>\n",
       "      <td>2</td>\n",
       "    </tr>\n",
       "    <tr>\n",
       "      <th>1</th>\n",
       "      <td>0.8</td>\n",
       "      <td>0.928571</td>\n",
       "      <td>1</td>\n",
       "    </tr>\n",
       "    <tr>\n",
       "      <th>2</th>\n",
       "      <td>0.9</td>\n",
       "      <td>0.020408</td>\n",
       "      <td>1</td>\n",
       "    </tr>\n",
       "    <tr>\n",
       "      <th>3</th>\n",
       "      <td>0.4</td>\n",
       "      <td>1.000000</td>\n",
       "      <td>0</td>\n",
       "    </tr>\n",
       "    <tr>\n",
       "      <th>4</th>\n",
       "      <td>0.2</td>\n",
       "      <td>0.061224</td>\n",
       "      <td>2</td>\n",
       "    </tr>\n",
       "    <tr>\n",
       "      <th>...</th>\n",
       "      <td>...</td>\n",
       "      <td>...</td>\n",
       "      <td>...</td>\n",
       "    </tr>\n",
       "    <tr>\n",
       "      <th>115</th>\n",
       "      <td>0.0</td>\n",
       "      <td>0.867347</td>\n",
       "      <td>0</td>\n",
       "    </tr>\n",
       "    <tr>\n",
       "      <th>116</th>\n",
       "      <td>0.2</td>\n",
       "      <td>0.112245</td>\n",
       "      <td>2</td>\n",
       "    </tr>\n",
       "    <tr>\n",
       "      <th>117</th>\n",
       "      <td>0.8</td>\n",
       "      <td>0.857143</td>\n",
       "      <td>1</td>\n",
       "    </tr>\n",
       "    <tr>\n",
       "      <th>118</th>\n",
       "      <td>0.3</td>\n",
       "      <td>0.040816</td>\n",
       "      <td>2</td>\n",
       "    </tr>\n",
       "    <tr>\n",
       "      <th>119</th>\n",
       "      <td>0.2</td>\n",
       "      <td>0.846939</td>\n",
       "      <td>0</td>\n",
       "    </tr>\n",
       "  </tbody>\n",
       "</table>\n",
       "<p>120 rows × 3 columns</p>\n",
       "</div>"
      ],
      "text/plain": [
       "      나이        점수  클러스터\n",
       "0    0.3  0.122449     2\n",
       "1    0.8  0.928571     1\n",
       "2    0.9  0.020408     1\n",
       "3    0.4  1.000000     0\n",
       "4    0.2  0.061224     2\n",
       "..   ...       ...   ...\n",
       "115  0.0  0.867347     0\n",
       "116  0.2  0.112245     2\n",
       "117  0.8  0.857143     1\n",
       "118  0.3  0.040816     2\n",
       "119  0.2  0.846939     0\n",
       "\n",
       "[120 rows x 3 columns]"
      ]
     },
     "execution_count": 11,
     "metadata": {},
     "output_type": "execute_result"
    }
   ],
   "source": [
    "#정규화한 데이터로 새롭게 클러스터링을 진행합니다. (클러스터 수 3개)\n",
    "\n",
    "model = KMeans(n_clusters = 3)\n",
    "pred = model.fit_predict(df[['나이', '점수']])\n",
    "df['클러스터'] = pred\n",
    "df"
   ]
  },
  {
   "cell_type": "markdown",
   "id": "7266c716-91fa-4571-8b6d-5b73c9726d98",
   "metadata": {
    "tags": []
   },
   "source": [
    "### [Step 7] 결과 시각화하기2"
   ]
  },
  {
   "cell_type": "code",
   "execution_count": 12,
   "id": "e1c5e757-4314-4e31-bdcb-6948fe589da1",
   "metadata": {
    "tags": [
     "jce.problems.221.2차시_Step7_결과_시각화하기2"
    ]
   },
   "outputs": [
    {
     "data": {
      "image/png": "[encoded data removed]",
      "text/plain": [
       "<Figure size 432x288 with 1 Axes>"
      ]
     },
     "metadata": {
      "needs_background": "light"
     },
     "output_type": "display_data"
    }
   ],
   "source": [
    "from matplotlib import pyplot as plt\n",
    "\n",
    "df1 = df[df['클러스터'] == 0] # 클러스터 열의 값이 0인 데이터 모음 : df1.  \n",
    "df2 = df[df['클러스터'] == 1] # 클러스터 열의 값이 1인 데이터 모음 : df2.\n",
    "df3 = df[df['클러스터'] == 2] # 클러스터 열의 값이 2인 데이터 모음 : df3. \n",
    "\n",
    "plt.scatter(df1['나이'],df1['점수'],color = 'red') # x축을 나이, y축을 점수로 했을 때의 산점도를 붉은색으로 설정. \n",
    "plt.scatter(df2['나이'],df2['점수'],color = 'blue') # x축을 나이, y축을 점수로 했을 때의 산점도를 파랑색으로 설정. \n",
    "plt.scatter(df3['나이'],df3['점수'],color = 'yellow')# x축을 나이, y축을 점수로 했을 때의 산점도를 노랑색으로 설정. \n",
    "\n",
    "plt.title('수학 점수 분포')\n",
    "plt.xlabel('나이')\n",
    "plt.ylabel('점수')\n",
    "\n",
    "plt.show()"
   ]
  },
  {
   "cell_type": "markdown",
   "id": "0236cff8-a57a-426c-b9f8-10f5df31638d",
   "metadata": {
    "tags": []
   },
   "source": [
    "### [Step 8] 클러스터의 중심과 함께 시각화하기"
   ]
  },
  {
   "cell_type": "code",
   "execution_count": 14,
   "id": "2d7da629-5fd9-49b5-aedb-78a4b3264c90",
   "metadata": {
    "tags": [
     "jce.problems.221.2차시_Step8_클러스터의_중심과_함께_시각화하기"
    ]
   },
   "outputs": [
    {
     "data": {
      "image/png": "[encoded data removed]",
      "text/plain": [
       "<Figure size 432x288 with 1 Axes>"
      ]
     },
     "metadata": {
      "needs_background": "light"
     },
     "output_type": "display_data"
    }
   ],
   "source": [
    "from matplotlib import pyplot as plt\n",
    "\n",
    "df1 = df[df['클러스터'] == 0] # 클러스터 열의 값이 0인 데이터 모음 : df1.  \n",
    "df2 = df[df['클러스터'] == 1] # 클러스터 열의 값이 1인 데이터 모음 : df2.\n",
    "df3 = df[df['클러스터'] == 2] # 클러스터 열의 값이 2인 데이터 모음 : df3. \n",
    "\n",
    "plt.scatter(df1['나이'],df1['점수'],color = 'red') # x축을 나이, y축을 점수로 했을 때의 산점도를 붉은색으로 설정. \n",
    "plt.scatter(df2['나이'],df2['점수'],color = 'blue') # x축을 나이, y축을 점수로 했을 때의 산점도를 파랑색으로 설정. \n",
    "plt.scatter(df3['나이'],df3['점수'],color = 'yellow')# x축을 나이, y축을 점수로 했을 때의 산점도를 노랑색으로 설정. \n",
    "\n",
    "plt.title('수학 점수 분포')\n",
    "plt.xlabel('나이')\n",
    "plt.ylabel('점수')\n",
    "\n",
    "plt.scatter(model.cluster_centers_[:,0],model.cluster_centers_[:,1], color = 'black', marker = '*', label = '중심') #별모양으로 중심을 표시합니다. \n",
    "plt.legend()\n",
    "\n",
    "plt.show()"
   ]
  }
 ],
 "metadata": {
  "kernelspec": {
   "display_name": "Python 3 (ipykernel)",
   "language": "python",
   "name": "python3"
  },
  "language_info": {
   "codemirror_mode": {
    "name": "ipython",
    "version": 3
   },
   "file_extension": ".py",
   "mimetype": "text/x-python",
   "name": "python",
   "nbconvert_exporter": "python",
   "pygments_lexer": "ipython3",
   "version": "3.10.4"
  }
 },
 "nbformat": 4,
 "nbformat_minor": 5
}
