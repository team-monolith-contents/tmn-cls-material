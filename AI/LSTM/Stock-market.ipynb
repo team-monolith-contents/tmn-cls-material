{
 "cells": [
  {
   "cell_type": "markdown",
   "id": "cfd9e4e9-9730-4de2-a45a-90bb08ff302b",
   "metadata": {},
   "source": [
    "# 경제학과 주가 예측 프로그램 만들기"
   ]
  },
  {
   "cell_type": "markdown",
   "id": "9744b056-baf3-4573-9fad-768d893697aa",
   "metadata": {},
   "source": [
    "### Matplotlib에서 폰트 설정"
   ]
  },
  {
   "cell_type": "code",
   "execution_count": 1,
   "id": "20f5ad4c-8c91-4f11-9402-d58a645ab8bd",
   "metadata": {},
   "outputs": [],
   "source": [
    "import urllib\n",
    "from matplotlib import font_manager\n",
    "from matplotlib import pyplot as plt\n",
    "\n",
    "font_path = 'NanumGothic.ttf'\n",
    "with open(font_path, 'wb') as f: \n",
    "    f.write(urllib.request.urlopen(\"https://github.com/team-monolith-product/jupyter-nanum/raw/main/NanumGothic.ttf\").read())\n",
    "\n",
    "# 글꼴을 등록합니다.\n",
    "font_manager.fontManager.addfont(font_path)\n",
    "plt.rcParams['font.family'] = font_manager.FontProperties(fname=font_path).get_name()"
   ]
  },
  {
   "cell_type": "markdown",
   "id": "651bbc50-4e34-4318-94d0-1279406b8576",
   "metadata": {},
   "source": [
    "### [Step1] 데이터 로드"
   ]
  },
  {
   "cell_type": "code",
   "execution_count": 2,
   "id": "684f1ed3-dabc-4585-a02c-64cd63488088",
   "metadata": {},
   "outputs": [
    {
     "data": {
      "text/html": [
       "<div>\n",
       "<style scoped>\n",
       "    .dataframe tbody tr th:only-of-type {\n",
       "        vertical-align: middle;\n",
       "    }\n",
       "\n",
       "    .dataframe tbody tr th {\n",
       "        vertical-align: top;\n",
       "    }\n",
       "\n",
       "    .dataframe thead th {\n",
       "        text-align: right;\n",
       "    }\n",
       "</style>\n",
       "<table border=\"1\" class=\"dataframe\">\n",
       "  <thead>\n",
       "    <tr style=\"text-align: right;\">\n",
       "      <th></th>\n",
       "      <th>Date</th>\n",
       "      <th>Open</th>\n",
       "      <th>High</th>\n",
       "      <th>Low</th>\n",
       "      <th>Close</th>\n",
       "      <th>Adj Close</th>\n",
       "      <th>Volume</th>\n",
       "    </tr>\n",
       "  </thead>\n",
       "  <tbody>\n",
       "    <tr>\n",
       "      <th>0</th>\n",
       "      <td>2010-01-04</td>\n",
       "      <td>30.490000</td>\n",
       "      <td>30.642857</td>\n",
       "      <td>30.340000</td>\n",
       "      <td>30.572857</td>\n",
       "      <td>26.419203</td>\n",
       "      <td>123432400</td>\n",
       "    </tr>\n",
       "    <tr>\n",
       "      <th>1</th>\n",
       "      <td>2010-01-05</td>\n",
       "      <td>30.657143</td>\n",
       "      <td>30.798571</td>\n",
       "      <td>30.464285</td>\n",
       "      <td>30.625713</td>\n",
       "      <td>26.464878</td>\n",
       "      <td>150476200</td>\n",
       "    </tr>\n",
       "    <tr>\n",
       "      <th>2</th>\n",
       "      <td>2010-01-06</td>\n",
       "      <td>30.625713</td>\n",
       "      <td>30.747143</td>\n",
       "      <td>30.107143</td>\n",
       "      <td>30.138571</td>\n",
       "      <td>26.043921</td>\n",
       "      <td>138040000</td>\n",
       "    </tr>\n",
       "    <tr>\n",
       "      <th>3</th>\n",
       "      <td>2010-01-07</td>\n",
       "      <td>30.250000</td>\n",
       "      <td>30.285715</td>\n",
       "      <td>29.864286</td>\n",
       "      <td>30.082857</td>\n",
       "      <td>25.995777</td>\n",
       "      <td>119282800</td>\n",
       "    </tr>\n",
       "    <tr>\n",
       "      <th>4</th>\n",
       "      <td>2010-01-08</td>\n",
       "      <td>30.042856</td>\n",
       "      <td>30.285715</td>\n",
       "      <td>29.865715</td>\n",
       "      <td>30.282858</td>\n",
       "      <td>26.168606</td>\n",
       "      <td>111902700</td>\n",
       "    </tr>\n",
       "    <tr>\n",
       "      <th>...</th>\n",
       "      <td>...</td>\n",
       "      <td>...</td>\n",
       "      <td>...</td>\n",
       "      <td>...</td>\n",
       "      <td>...</td>\n",
       "      <td>...</td>\n",
       "      <td>...</td>\n",
       "    </tr>\n",
       "    <tr>\n",
       "      <th>2664</th>\n",
       "      <td>2020-08-04</td>\n",
       "      <td>436.529999</td>\n",
       "      <td>443.160004</td>\n",
       "      <td>433.549988</td>\n",
       "      <td>438.660004</td>\n",
       "      <td>437.870514</td>\n",
       "      <td>43267900</td>\n",
       "    </tr>\n",
       "    <tr>\n",
       "      <th>2665</th>\n",
       "      <td>2020-08-05</td>\n",
       "      <td>437.510010</td>\n",
       "      <td>441.570007</td>\n",
       "      <td>435.589996</td>\n",
       "      <td>440.250000</td>\n",
       "      <td>439.457642</td>\n",
       "      <td>30498000</td>\n",
       "    </tr>\n",
       "    <tr>\n",
       "      <th>2666</th>\n",
       "      <td>2020-08-06</td>\n",
       "      <td>441.619995</td>\n",
       "      <td>457.649994</td>\n",
       "      <td>439.190002</td>\n",
       "      <td>455.609985</td>\n",
       "      <td>454.790009</td>\n",
       "      <td>50607200</td>\n",
       "    </tr>\n",
       "    <tr>\n",
       "      <th>2667</th>\n",
       "      <td>2020-08-07</td>\n",
       "      <td>452.820007</td>\n",
       "      <td>454.700012</td>\n",
       "      <td>441.170013</td>\n",
       "      <td>444.450012</td>\n",
       "      <td>444.450012</td>\n",
       "      <td>49453300</td>\n",
       "    </tr>\n",
       "    <tr>\n",
       "      <th>2668</th>\n",
       "      <td>2020-08-10</td>\n",
       "      <td>450.399994</td>\n",
       "      <td>455.100006</td>\n",
       "      <td>440.000000</td>\n",
       "      <td>450.910004</td>\n",
       "      <td>450.910004</td>\n",
       "      <td>53100900</td>\n",
       "    </tr>\n",
       "  </tbody>\n",
       "</table>\n",
       "<p>2669 rows × 7 columns</p>\n",
       "</div>"
      ],
      "text/plain": [
       "            Date        Open        High         Low       Close   Adj Close  \\\n",
       "0     2010-01-04   30.490000   30.642857   30.340000   30.572857   26.419203   \n",
       "1     2010-01-05   30.657143   30.798571   30.464285   30.625713   26.464878   \n",
       "2     2010-01-06   30.625713   30.747143   30.107143   30.138571   26.043921   \n",
       "3     2010-01-07   30.250000   30.285715   29.864286   30.082857   25.995777   \n",
       "4     2010-01-08   30.042856   30.285715   29.865715   30.282858   26.168606   \n",
       "...          ...         ...         ...         ...         ...         ...   \n",
       "2664  2020-08-04  436.529999  443.160004  433.549988  438.660004  437.870514   \n",
       "2665  2020-08-05  437.510010  441.570007  435.589996  440.250000  439.457642   \n",
       "2666  2020-08-06  441.619995  457.649994  439.190002  455.609985  454.790009   \n",
       "2667  2020-08-07  452.820007  454.700012  441.170013  444.450012  444.450012   \n",
       "2668  2020-08-10  450.399994  455.100006  440.000000  450.910004  450.910004   \n",
       "\n",
       "         Volume  \n",
       "0     123432400  \n",
       "1     150476200  \n",
       "2     138040000  \n",
       "3     119282800  \n",
       "4     111902700  \n",
       "...         ...  \n",
       "2664   43267900  \n",
       "2665   30498000  \n",
       "2666   50607200  \n",
       "2667   49453300  \n",
       "2668   53100900  \n",
       "\n",
       "[2669 rows x 7 columns]"
      ]
     },
     "execution_count": 2,
     "metadata": {},
     "output_type": "execute_result"
    }
   ],
   "source": [
    "import pandas as pd\n",
    "\n",
    "df = pd.read_csv('datasets/애플.csv')\n",
    "df"
   ]
  },
  {
   "cell_type": "markdown",
   "id": "0d8a198b-d3fe-4c7d-a827-61ea76b451ed",
   "metadata": {},
   "source": [
    "### [Step2] 데이터 파악하기"
   ]
  },
  {
   "cell_type": "code",
   "execution_count": 3,
   "id": "35363c3b-7401-4ec3-9a42-513957d920f5",
   "metadata": {},
   "outputs": [
    {
     "name": "stdout",
     "output_type": "stream",
     "text": [
      "<class 'pandas.core.frame.DataFrame'>\n",
      "RangeIndex: 2669 entries, 0 to 2668\n",
      "Data columns (total 7 columns):\n",
      " #   Column     Non-Null Count  Dtype  \n",
      "---  ------     --------------  -----  \n",
      " 0   Date       2669 non-null   object \n",
      " 1   Open       2669 non-null   float64\n",
      " 2   High       2669 non-null   float64\n",
      " 3   Low        2669 non-null   float64\n",
      " 4   Close      2669 non-null   float64\n",
      " 5   Adj Close  2669 non-null   float64\n",
      " 6   Volume     2669 non-null   int64  \n",
      "dtypes: float64(5), int64(1), object(1)\n",
      "memory usage: 146.1+ KB\n"
     ]
    }
   ],
   "source": [
    "df.info()"
   ]
  },
  {
   "cell_type": "code",
   "execution_count": 4,
   "id": "b239a155-8a9a-4714-a3e2-1823f17bcd15",
   "metadata": {},
   "outputs": [
    {
     "data": {
      "text/html": [
       "<div>\n",
       "<style scoped>\n",
       "    .dataframe tbody tr th:only-of-type {\n",
       "        vertical-align: middle;\n",
       "    }\n",
       "\n",
       "    .dataframe tbody tr th {\n",
       "        vertical-align: top;\n",
       "    }\n",
       "\n",
       "    .dataframe thead th {\n",
       "        text-align: right;\n",
       "    }\n",
       "</style>\n",
       "<table border=\"1\" class=\"dataframe\">\n",
       "  <thead>\n",
       "    <tr style=\"text-align: right;\">\n",
       "      <th></th>\n",
       "      <th>Open</th>\n",
       "      <th>High</th>\n",
       "      <th>Low</th>\n",
       "      <th>Close</th>\n",
       "      <th>Adj Close</th>\n",
       "      <th>Volume</th>\n",
       "    </tr>\n",
       "  </thead>\n",
       "  <tbody>\n",
       "    <tr>\n",
       "      <th>count</th>\n",
       "      <td>2669.000000</td>\n",
       "      <td>2669.000000</td>\n",
       "      <td>2669.000000</td>\n",
       "      <td>2669.000000</td>\n",
       "      <td>2669.000000</td>\n",
       "      <td>2.669000e+03</td>\n",
       "    </tr>\n",
       "    <tr>\n",
       "      <th>mean</th>\n",
       "      <td>122.237387</td>\n",
       "      <td>123.451400</td>\n",
       "      <td>121.070255</td>\n",
       "      <td>122.319193</td>\n",
       "      <td>115.658460</td>\n",
       "      <td>7.301983e+07</td>\n",
       "    </tr>\n",
       "    <tr>\n",
       "      <th>std</th>\n",
       "      <td>73.708071</td>\n",
       "      <td>74.670970</td>\n",
       "      <td>72.970780</td>\n",
       "      <td>73.920576</td>\n",
       "      <td>75.577866</td>\n",
       "      <td>5.778380e+07</td>\n",
       "    </tr>\n",
       "    <tr>\n",
       "      <th>min</th>\n",
       "      <td>27.481428</td>\n",
       "      <td>28.000000</td>\n",
       "      <td>27.178572</td>\n",
       "      <td>27.435715</td>\n",
       "      <td>23.708282</td>\n",
       "      <td>1.136200e+07</td>\n",
       "    </tr>\n",
       "    <tr>\n",
       "      <th>25%</th>\n",
       "      <td>66.860001</td>\n",
       "      <td>67.412857</td>\n",
       "      <td>66.368568</td>\n",
       "      <td>66.815712</td>\n",
       "      <td>58.982941</td>\n",
       "      <td>3.093120e+07</td>\n",
       "    </tr>\n",
       "    <tr>\n",
       "      <th>50%</th>\n",
       "      <td>104.889999</td>\n",
       "      <td>106.000000</td>\n",
       "      <td>104.410004</td>\n",
       "      <td>105.220001</td>\n",
       "      <td>97.411713</td>\n",
       "      <td>5.248120e+07</td>\n",
       "    </tr>\n",
       "    <tr>\n",
       "      <th>75%</th>\n",
       "      <td>163.089996</td>\n",
       "      <td>164.520004</td>\n",
       "      <td>160.559998</td>\n",
       "      <td>163.029999</td>\n",
       "      <td>157.422363</td>\n",
       "      <td>9.936780e+07</td>\n",
       "    </tr>\n",
       "    <tr>\n",
       "      <th>max</th>\n",
       "      <td>452.820007</td>\n",
       "      <td>457.649994</td>\n",
       "      <td>441.170013</td>\n",
       "      <td>455.609985</td>\n",
       "      <td>454.790009</td>\n",
       "      <td>4.702495e+08</td>\n",
       "    </tr>\n",
       "  </tbody>\n",
       "</table>\n",
       "</div>"
      ],
      "text/plain": [
       "              Open         High          Low        Close    Adj Close  \\\n",
       "count  2669.000000  2669.000000  2669.000000  2669.000000  2669.000000   \n",
       "mean    122.237387   123.451400   121.070255   122.319193   115.658460   \n",
       "std      73.708071    74.670970    72.970780    73.920576    75.577866   \n",
       "min      27.481428    28.000000    27.178572    27.435715    23.708282   \n",
       "25%      66.860001    67.412857    66.368568    66.815712    58.982941   \n",
       "50%     104.889999   106.000000   104.410004   105.220001    97.411713   \n",
       "75%     163.089996   164.520004   160.559998   163.029999   157.422363   \n",
       "max     452.820007   457.649994   441.170013   455.609985   454.790009   \n",
       "\n",
       "             Volume  \n",
       "count  2.669000e+03  \n",
       "mean   7.301983e+07  \n",
       "std    5.778380e+07  \n",
       "min    1.136200e+07  \n",
       "25%    3.093120e+07  \n",
       "50%    5.248120e+07  \n",
       "75%    9.936780e+07  \n",
       "max    4.702495e+08  "
      ]
     },
     "execution_count": 4,
     "metadata": {},
     "output_type": "execute_result"
    }
   ],
   "source": [
    "df.describe()"
   ]
  },
  {
   "cell_type": "markdown",
   "id": "ae25ea64-40ad-4386-9bd0-06f7145c1996",
   "metadata": {},
   "source": [
    "### [Step3] 데이터 시각화하기"
   ]
  },
  {
   "cell_type": "code",
   "execution_count": 5,
   "id": "d1751dff-5c09-4707-89e4-18357046cf42",
   "metadata": {},
   "outputs": [
    {
     "data": {
      "image/png": "[encoded data removed]",
      "text/plain": [
       "<Figure size 1080x432 with 1 Axes>"
      ]
     },
     "metadata": {
      "needs_background": "light"
     },
     "output_type": "display_data"
    }
   ],
   "source": [
    "import matplotlib.pyplot as plt\n",
    "\n",
    "fig = plt.figure(figsize = (15,6)) # 그래프의 크기를 (15,6)으로 정합니다.\n",
    "\n",
    "plt.plot(df['High'])\n",
    "plt.xticks(range(0, len(df), len(df)//10), labels = [df.iloc[x,0][:10] for x in range(0, len(df), len(df)//10)]) # x축에 표시되는 값들을 정합니다.\n",
    "plt.title('애플 주가 변동')\n",
    "plt.xlabel('날짜')\n",
    "plt.ylabel('가격($)')\n",
    "plt.show()"
   ]
  },
  {
   "cell_type": "markdown",
   "id": "53ab56f3-82aa-4b42-8af1-8eddfc97f806",
   "metadata": {
    "tags": []
   },
   "source": [
    "### [Step4] 데이터 형태 변형하기"
   ]
  },
  {
   "cell_type": "code",
   "execution_count": 6,
   "id": "8f01d49f-da93-47b1-bf0b-5f6ac786a5ac",
   "metadata": {},
   "outputs": [
    {
     "data": {
      "text/plain": [
       "array([[ 30.642857,  30.798571,  30.747143, ...,  30.228571,  30.741428,\n",
       "         30.792856],\n",
       "       [ 30.798571,  30.747143,  30.285715, ...,  30.741428,  30.792856,\n",
       "         30.472857],\n",
       "       [ 30.747143,  30.285715,  30.285715, ...,  30.792856,  30.472857,\n",
       "         29.642857],\n",
       "       ...,\n",
       "       [397.      , 391.899994, 388.309998, ..., 446.549988, 443.160004,\n",
       "        441.570007],\n",
       "       [391.899994, 388.309998, 371.880005, ..., 443.160004, 441.570007,\n",
       "        457.649994],\n",
       "       [388.309998, 371.880005, 379.619995, ..., 441.570007, 457.649994,\n",
       "        454.700012]])"
      ]
     },
     "execution_count": 6,
     "metadata": {},
     "output_type": "execute_result"
    }
   ],
   "source": [
    "import numpy as np\n",
    "\n",
    "data = None\n",
    "for i in range(12): # 12일의 연속되는 데이터를 묶어줍니다.\n",
    "    tmp = np.array(df['High'].iloc[i:-(12-i)]).reshape(-1,1) # i 번째 데이터를 만듭니다.\n",
    "    if data is None:\n",
    "        data = tmp\n",
    "    else:\n",
    "        data = np.concatenate((data,tmp), axis = 1) # i 번째 데이터를 합칩니다.\n",
    "        \n",
    "data"
   ]
  },
  {
   "cell_type": "markdown",
   "id": "08e51912-8401-4ef4-9843-dc0e8bbd3be0",
   "metadata": {},
   "source": [
    "### [Step5] 데이터를 학습데이터와 검증데이터로 나누기"
   ]
  },
  {
   "cell_type": "code",
   "execution_count": 8,
   "id": "6ee7f7b3-7453-45d5-8889-cfc5e44337bb",
   "metadata": {},
   "outputs": [
    {
     "name": "stdout",
     "output_type": "stream",
     "text": [
      "(2125, 6, 1) (532, 6, 1) (2125, 6, 1) (532, 6, 1)\n"
     ]
    }
   ],
   "source": [
    "train ,test = data[:int(len(data)*0.8)], data[int(len(data)*0.8):] # Dataset을 학습데이터와 테스트데이터로 나눕니다.\n",
    "train_x, train_y = train[:,:6],train[:,6:] # Data를 label과 input으로 나눕니다.\n",
    "test_x, test_y = test[:,:6],test[:,6:] # Data를 label과 input으로 나눕니다.\n",
    "\n",
    "train_x = train_x.reshape(-1,6,1) # Data를 모델에 들어가는 형태로 바꿉니다.\n",
    "train_y = train_y.reshape(-1,6,1) # Data를 모델에 들어가는 형태로 바꿉니다.\n",
    "test_x = test_x.reshape(-1,6,1) # Data를 모델에 들어가는 형태로 바꿉니다.\n",
    "test_y = test_y.reshape(-1,6,1) # Data를 모델에 들어가는 형태로 바꿉니다.\n",
    "\n",
    "print(train_x.shape, test_x.shape, train_y.shape, test_y.shape)"
   ]
  },
  {
   "cell_type": "markdown",
   "id": "8d2f2eda-3bfe-4218-a4e0-095dc36f5a75",
   "metadata": {
    "tags": []
   },
   "source": [
    "### [Step6] 모델 구성하기"
   ]
  },
  {
   "cell_type": "code",
   "execution_count": 9,
   "id": "97de7753-9e85-45ad-b3ac-3a1caeb31c66",
   "metadata": {},
   "outputs": [
    {
     "name": "stderr",
     "output_type": "stream",
     "text": [
      "2022-06-24 05:18:37.883437: I tensorflow/core/platform/cpu_feature_guard.cc:193] This TensorFlow binary is optimized with oneAPI Deep Neural Network Library (oneDNN) to use the following CPU instructions in performance-critical operations:  AVX2 AVX512F FMA\n",
      "To enable them in other operations, rebuild TensorFlow with the appropriate compiler flags.\n"
     ]
    },
    {
     "name": "stdout",
     "output_type": "stream",
     "text": [
      "Model: \"sequential\"\n",
      "_________________________________________________________________\n",
      " Layer (type)                Output Shape              Param #   \n",
      "=================================================================\n",
      " bidirectional (Bidirectiona  (2125, 6, 256)           133120    \n",
      " l)                                                              \n",
      "                                                                 \n",
      " dense (Dense)               (2125, 6, 64)             16448     \n",
      "                                                                 \n",
      " dense_1 (Dense)             (2125, 6, 1)              65        \n",
      "                                                                 \n",
      "=================================================================\n",
      "Total params: 149,633\n",
      "Trainable params: 149,633\n",
      "Non-trainable params: 0\n",
      "_________________________________________________________________\n"
     ]
    }
   ],
   "source": [
    "from tensorflow import keras\n",
    "\n",
    "# keras를 사용해 모델을 구성합니다.\n",
    "model = keras.Sequential([\n",
    "    keras.layers.Bidirectional(keras.layers.LSTM(128, return_sequences=True)),\n",
    "    keras.layers.Dense(64, activation=\"relu\"),\n",
    "    keras.layers.Dense(1)\n",
    "])\n",
    "\n",
    "model.compile(optimizer=\"adam\", metrics=[\"mse\"], loss=\"mae\") # 학습방법을 세팅합니다.\n",
    "\n",
    "model.build(train_x.shape)\n",
    "model.summary() # 모델의 정보를 보여줍니다."
   ]
  },
  {
   "cell_type": "markdown",
   "id": "218ca0e5-3f32-4376-ac5f-c67868d60064",
   "metadata": {},
   "source": [
    "### [Step7] 모델 학습하기"
   ]
  },
  {
   "cell_type": "code",
   "execution_count": 10,
   "id": "0b4989ef-de2e-4868-9e69-c43a99713ff5",
   "metadata": {
    "tags": []
   },
   "outputs": [
    {
     "name": "stdout",
     "output_type": "stream",
     "text": [
      "Epoch 1/100\n",
      "67/67 [==============================] - 7s 42ms/step - loss: 99.2689 - mse: 15659.0322 - val_loss: 60.8716 - val_mse: 7491.3711\n",
      "Epoch 2/100\n",
      "67/67 [==============================] - 2s 29ms/step - loss: 34.3569 - mse: 3752.1599 - val_loss: 14.2048 - val_mse: 1178.3557\n",
      "Epoch 3/100\n",
      "67/67 [==============================] - 2s 29ms/step - loss: 10.1012 - mse: 739.6761 - val_loss: 7.5105 - val_mse: 317.7985\n",
      "Epoch 4/100\n",
      "67/67 [==============================] - 2s 30ms/step - loss: 6.6961 - mse: 279.2296 - val_loss: 5.3633 - val_mse: 144.7650\n",
      "Epoch 5/100\n",
      "67/67 [==============================] - 2s 29ms/step - loss: 5.3329 - mse: 140.7072 - val_loss: 4.5445 - val_mse: 92.9933\n",
      "Epoch 6/100\n",
      "67/67 [==============================] - 2s 29ms/step - loss: 5.0105 - mse: 101.2893 - val_loss: 4.8502 - val_mse: 79.3054\n",
      "Epoch 7/100\n",
      "67/67 [==============================] - 2s 30ms/step - loss: 4.5025 - mse: 78.1940 - val_loss: 4.6345 - val_mse: 73.8633\n",
      "Epoch 8/100\n",
      "67/67 [==============================] - 2s 29ms/step - loss: 4.3274 - mse: 67.2839 - val_loss: 3.7478 - val_mse: 54.2000\n",
      "Epoch 9/100\n",
      "67/67 [==============================] - 2s 30ms/step - loss: 4.1140 - mse: 56.6964 - val_loss: 3.8934 - val_mse: 51.3968\n",
      "Epoch 10/100\n",
      "67/67 [==============================] - 2s 30ms/step - loss: 3.9732 - mse: 52.0092 - val_loss: 3.8198 - val_mse: 48.0543\n",
      "Epoch 11/100\n",
      "67/67 [==============================] - 2s 30ms/step - loss: 4.1374 - mse: 52.5971 - val_loss: 4.0125 - val_mse: 48.5382\n",
      "Epoch 12/100\n",
      "67/67 [==============================] - 2s 29ms/step - loss: 3.9150 - mse: 46.7999 - val_loss: 3.7099 - val_mse: 46.4969\n",
      "Epoch 13/100\n",
      "67/67 [==============================] - 2s 29ms/step - loss: 3.8225 - mse: 45.1979 - val_loss: 3.8445 - val_mse: 48.2907\n",
      "Epoch 14/100\n",
      "67/67 [==============================] - 2s 29ms/step - loss: 4.1083 - mse: 49.8105 - val_loss: 3.9769 - val_mse: 46.1101\n",
      "Epoch 15/100\n",
      "67/67 [==============================] - 2s 29ms/step - loss: 4.0083 - mse: 46.0336 - val_loss: 3.8731 - val_mse: 46.4576\n",
      "Epoch 16/100\n",
      "67/67 [==============================] - 2s 29ms/step - loss: 3.8782 - mse: 44.0259 - val_loss: 3.7724 - val_mse: 47.1490\n",
      "Epoch 17/100\n",
      "67/67 [==============================] - 2s 29ms/step - loss: 3.7559 - mse: 43.4000 - val_loss: 3.6713 - val_mse: 44.0025\n",
      "Epoch 18/100\n",
      "67/67 [==============================] - 2s 29ms/step - loss: 3.5740 - mse: 38.1522 - val_loss: 3.5211 - val_mse: 39.4710\n",
      "Epoch 19/100\n",
      "67/67 [==============================] - 2s 29ms/step - loss: 3.8150 - mse: 40.4706 - val_loss: 4.1122 - val_mse: 48.0461\n",
      "Epoch 20/100\n",
      "67/67 [==============================] - 2s 29ms/step - loss: 3.8261 - mse: 42.1300 - val_loss: 5.6368 - val_mse: 62.8845\n",
      "Epoch 21/100\n",
      "67/67 [==============================] - 2s 29ms/step - loss: 3.7559 - mse: 39.0030 - val_loss: 3.4827 - val_mse: 40.0637\n",
      "Epoch 22/100\n",
      "67/67 [==============================] - 2s 29ms/step - loss: 4.0458 - mse: 43.3590 - val_loss: 4.3815 - val_mse: 49.5053\n",
      "Epoch 23/100\n",
      "67/67 [==============================] - 2s 30ms/step - loss: 3.6376 - mse: 38.8932 - val_loss: 3.4534 - val_mse: 39.4842\n",
      "Epoch 24/100\n",
      "67/67 [==============================] - 2s 29ms/step - loss: 3.7632 - mse: 40.1372 - val_loss: 4.3800 - val_mse: 59.0533\n",
      "Epoch 25/100\n",
      "67/67 [==============================] - 2s 30ms/step - loss: 3.5484 - mse: 36.5919 - val_loss: 4.4284 - val_mse: 45.0106\n",
      "Epoch 26/100\n",
      "67/67 [==============================] - 2s 28ms/step - loss: 3.6668 - mse: 37.7537 - val_loss: 3.7401 - val_mse: 40.2341\n",
      "Epoch 27/100\n",
      "67/67 [==============================] - 2s 30ms/step - loss: 3.5263 - mse: 35.2730 - val_loss: 3.6887 - val_mse: 45.5243\n",
      "Epoch 28/100\n",
      "67/67 [==============================] - 2s 29ms/step - loss: 3.6883 - mse: 40.2504 - val_loss: 3.4066 - val_mse: 39.3295\n",
      "Epoch 29/100\n",
      "67/67 [==============================] - 2s 29ms/step - loss: 3.4347 - mse: 36.8761 - val_loss: 3.7936 - val_mse: 42.0564\n",
      "Epoch 30/100\n",
      "67/67 [==============================] - 2s 30ms/step - loss: 3.7108 - mse: 38.3664 - val_loss: 3.7692 - val_mse: 43.3028\n",
      "Epoch 31/100\n",
      "67/67 [==============================] - 2s 29ms/step - loss: 3.5808 - mse: 37.7343 - val_loss: 4.1161 - val_mse: 43.7407\n",
      "Epoch 32/100\n",
      "67/67 [==============================] - 2s 29ms/step - loss: 3.9841 - mse: 40.6769 - val_loss: 3.4478 - val_mse: 35.5293\n",
      "Epoch 33/100\n",
      "67/67 [==============================] - 2s 30ms/step - loss: 3.5103 - mse: 38.5009 - val_loss: 3.4470 - val_mse: 36.3309\n",
      "Epoch 34/100\n",
      "67/67 [==============================] - 2s 30ms/step - loss: 3.6627 - mse: 36.4481 - val_loss: 4.0541 - val_mse: 43.5563\n",
      "Epoch 35/100\n",
      "67/67 [==============================] - 2s 29ms/step - loss: 3.4840 - mse: 34.5373 - val_loss: 3.2813 - val_mse: 35.3372\n",
      "Epoch 36/100\n",
      "67/67 [==============================] - 2s 29ms/step - loss: 3.6766 - mse: 35.5280 - val_loss: 3.3482 - val_mse: 34.3232\n",
      "Epoch 37/100\n",
      "67/67 [==============================] - 2s 29ms/step - loss: 3.5321 - mse: 34.7015 - val_loss: 3.5975 - val_mse: 39.8143\n",
      "Epoch 38/100\n",
      "67/67 [==============================] - 2s 29ms/step - loss: 3.6429 - mse: 37.6142 - val_loss: 3.4228 - val_mse: 36.0338\n",
      "Epoch 39/100\n",
      "67/67 [==============================] - 2s 30ms/step - loss: 3.4370 - mse: 33.8966 - val_loss: 3.6736 - val_mse: 41.1780\n",
      "Epoch 40/100\n",
      "67/67 [==============================] - 2s 30ms/step - loss: 3.4211 - mse: 33.3469 - val_loss: 3.3701 - val_mse: 41.2542\n",
      "Epoch 41/100\n",
      "67/67 [==============================] - 2s 30ms/step - loss: 3.4477 - mse: 35.2393 - val_loss: 3.7468 - val_mse: 41.9493\n",
      "Epoch 42/100\n",
      "67/67 [==============================] - 2s 29ms/step - loss: 3.3855 - mse: 33.0016 - val_loss: 3.4484 - val_mse: 37.4025\n",
      "Epoch 43/100\n",
      "67/67 [==============================] - 2s 29ms/step - loss: 3.4993 - mse: 35.1079 - val_loss: 3.3390 - val_mse: 34.1710\n",
      "Epoch 44/100\n",
      "67/67 [==============================] - 2s 29ms/step - loss: 3.4069 - mse: 33.9477 - val_loss: 3.6790 - val_mse: 37.3313\n",
      "Epoch 45/100\n",
      "67/67 [==============================] - 2s 32ms/step - loss: 3.5684 - mse: 35.8745 - val_loss: 3.6557 - val_mse: 35.5741\n",
      "Epoch 46/100\n",
      "67/67 [==============================] - 2s 30ms/step - loss: 3.6103 - mse: 34.2836 - val_loss: 3.5257 - val_mse: 37.1855\n",
      "Epoch 47/100\n",
      "67/67 [==============================] - 2s 29ms/step - loss: 3.3606 - mse: 31.5443 - val_loss: 3.5569 - val_mse: 37.9267\n",
      "Epoch 48/100\n",
      "67/67 [==============================] - 2s 30ms/step - loss: 3.4364 - mse: 32.3329 - val_loss: 3.2703 - val_mse: 32.5280\n",
      "Epoch 49/100\n",
      "67/67 [==============================] - 2s 29ms/step - loss: 3.6997 - mse: 35.1361 - val_loss: 3.2609 - val_mse: 33.9419\n",
      "Epoch 50/100\n",
      "67/67 [==============================] - 2s 29ms/step - loss: 3.4516 - mse: 33.7211 - val_loss: 3.6792 - val_mse: 37.8026\n",
      "Epoch 51/100\n",
      "67/67 [==============================] - 2s 29ms/step - loss: 3.4854 - mse: 33.9532 - val_loss: 3.2739 - val_mse: 33.4546\n",
      "Epoch 52/100\n",
      "67/67 [==============================] - 2s 29ms/step - loss: 3.4055 - mse: 33.3060 - val_loss: 3.3147 - val_mse: 37.0131\n",
      "Epoch 53/100\n",
      "67/67 [==============================] - 2s 30ms/step - loss: 3.5197 - mse: 35.3754 - val_loss: 3.5363 - val_mse: 36.7591\n",
      "Epoch 54/100\n",
      "67/67 [==============================] - 2s 31ms/step - loss: 3.4093 - mse: 32.6432 - val_loss: 3.4199 - val_mse: 34.3436\n",
      "Epoch 55/100\n",
      "67/67 [==============================] - 2s 29ms/step - loss: 3.6106 - mse: 35.2020 - val_loss: 3.1679 - val_mse: 31.9392\n",
      "Epoch 56/100\n",
      "67/67 [==============================] - 2s 29ms/step - loss: 3.6209 - mse: 34.8584 - val_loss: 3.4371 - val_mse: 38.1114\n",
      "Epoch 57/100\n",
      "67/67 [==============================] - 2s 29ms/step - loss: 3.3264 - mse: 31.3698 - val_loss: 3.3722 - val_mse: 35.0773\n",
      "Epoch 58/100\n",
      "67/67 [==============================] - 2s 29ms/step - loss: 3.3039 - mse: 31.0738 - val_loss: 3.2640 - val_mse: 34.6336\n",
      "Epoch 59/100\n",
      "67/67 [==============================] - 2s 29ms/step - loss: 3.3450 - mse: 32.0570 - val_loss: 3.3808 - val_mse: 34.9291\n",
      "Epoch 60/100\n",
      "67/67 [==============================] - 2s 29ms/step - loss: 3.2761 - mse: 31.1546 - val_loss: 3.2922 - val_mse: 34.1656\n",
      "Epoch 61/100\n",
      "67/67 [==============================] - 2s 29ms/step - loss: 3.4191 - mse: 31.6762 - val_loss: 3.4157 - val_mse: 34.0462\n",
      "Epoch 62/100\n",
      "67/67 [==============================] - 2s 29ms/step - loss: 3.3957 - mse: 32.2781 - val_loss: 3.2540 - val_mse: 32.4905\n",
      "Epoch 63/100\n",
      "67/67 [==============================] - 2s 29ms/step - loss: 3.3401 - mse: 31.5494 - val_loss: 3.5728 - val_mse: 33.7947\n",
      "Epoch 64/100\n",
      "67/67 [==============================] - 2s 30ms/step - loss: 3.2585 - mse: 29.7892 - val_loss: 3.4288 - val_mse: 34.4496\n",
      "Epoch 65/100\n",
      "67/67 [==============================] - 2s 29ms/step - loss: 3.4109 - mse: 33.8398 - val_loss: 3.7292 - val_mse: 37.9354\n",
      "Epoch 66/100\n",
      "67/67 [==============================] - 2s 29ms/step - loss: 3.4068 - mse: 32.9539 - val_loss: 3.4348 - val_mse: 35.7895\n",
      "Epoch 67/100\n",
      "67/67 [==============================] - 2s 30ms/step - loss: 3.2481 - mse: 30.4786 - val_loss: 3.7189 - val_mse: 36.4973\n",
      "Epoch 68/100\n",
      "67/67 [==============================] - 2s 30ms/step - loss: 3.5574 - mse: 33.4006 - val_loss: 3.3970 - val_mse: 34.7584\n",
      "Epoch 69/100\n",
      "67/67 [==============================] - 2s 30ms/step - loss: 3.3844 - mse: 31.5395 - val_loss: 3.3275 - val_mse: 33.9859\n",
      "Epoch 70/100\n",
      "67/67 [==============================] - 2s 29ms/step - loss: 3.4124 - mse: 32.4002 - val_loss: 3.6391 - val_mse: 38.3894\n",
      "Epoch 71/100\n",
      "67/67 [==============================] - 2s 29ms/step - loss: 3.3204 - mse: 31.1831 - val_loss: 3.3156 - val_mse: 32.6027\n",
      "Epoch 72/100\n",
      "67/67 [==============================] - 2s 30ms/step - loss: 3.4338 - mse: 32.9403 - val_loss: 3.2376 - val_mse: 35.1775\n",
      "Epoch 73/100\n",
      "67/67 [==============================] - 2s 29ms/step - loss: 3.4874 - mse: 32.3655 - val_loss: 3.7965 - val_mse: 42.9067\n",
      "Epoch 74/100\n",
      "67/67 [==============================] - 2s 29ms/step - loss: 3.3938 - mse: 32.8730 - val_loss: 3.7142 - val_mse: 35.6358\n",
      "Epoch 75/100\n",
      "67/67 [==============================] - 2s 30ms/step - loss: 3.1929 - mse: 29.5385 - val_loss: 4.0822 - val_mse: 40.2295\n"
     ]
    }
   ],
   "source": [
    "# early_stop을 설정합니다.\n",
    "early_stop = keras.callbacks.EarlyStopping(monitor='val_loss', patience=20)\n",
    "\n",
    "# 모델을 학습 시킵니다.\n",
    "history = model.fit(train_x, train_y, epochs=100,\n",
    "                    validation_data=(test_x, test_y), \n",
    "                    callbacks=[early_stop])"
   ]
  },
  {
   "cell_type": "markdown",
   "id": "d86b957e-4fd4-45df-9fb7-b05696479651",
   "metadata": {},
   "source": [
    "### [Step8] 학습결과 시각화하기"
   ]
  },
  {
   "cell_type": "code",
   "execution_count": 16,
   "id": "99029606-031f-4720-8d94-7e1bc2309fcb",
   "metadata": {},
   "outputs": [
    {
     "data": {
      "image/png": "[encoded data removed]",
      "text/plain": [
       "<Figure size 864x432 with 1 Axes>"
      ]
     },
     "metadata": {
      "needs_background": "light"
     },
     "output_type": "display_data"
    }
   ],
   "source": [
    "# 학습데이터의 추론 결과\n",
    "\n",
    "fig = plt.figure(figsize = (12,6)) # 그래프의 크기를 (12,6)으로 설정합니다.\n",
    "result = np.array(model(train_x)[:,0,:]).reshape(-1)  # 그래프에 결과를 표시할 수 있도록 output의 첫번째 결과를 뽑아옵니다.\n",
    "target = train_y[:,0,:].reshape(-1) # 참값의 그래프를 그리기 위해 label의 첫번째 값을 뽑아옵니다.\n",
    "plt.plot(target)\n",
    "plt.plot(result)\n",
    "plt.title('애플 주가 변동(학습데이터)')\n",
    "plt.legend(['참값', '추론값'])\n",
    "plt.xlabel('날짜')\n",
    "plt.ylabel('가격($)')\n",
    "train_df = df[:int(len(df)*0.8)]\n",
    "plt.xticks(range(0, len(train_df), len(train_df)//10), labels = [train_df.iloc[x,0][:10] for x in range(0, len(train_df), len(train_df)//10)]) # x 축에 표시될 값을 설정합니다.\n",
    "plt.show()"
   ]
  },
  {
   "cell_type": "code",
   "execution_count": 17,
   "id": "a76d4c2e-d3ff-49de-9de7-c05e4f4b05da",
   "metadata": {},
   "outputs": [
    {
     "data": {
      "image/png": "[encoded data removed]",
      "text/plain": [
       "<Figure size 864x432 with 1 Axes>"
      ]
     },
     "metadata": {
      "needs_background": "light"
     },
     "output_type": "display_data"
    }
   ],
   "source": [
    "# 검증데이터의 추론 결과\n",
    "\n",
    "fig = plt.figure(figsize = (12,6)) # 그래프의 크기를 (12,6)으로 설정합니다.\n",
    "result = np.array(model(test_x)[:,0,:]).reshape(-1)  # 그래프에 결과를 표시할 수 있도록 output의 첫번째 결과를 뽑아옵니다.\n",
    "target = test_y[:,0,:].reshape(-1) # 참값의 그래프를 그리기 위해 label의 첫번째 값을 뽑아옵니다.\n",
    "plt.plot(target)\n",
    "plt.plot(result)\n",
    "plt.title('애플 주가 변동(테스트 데이터)')\n",
    "plt.legend(['참값', '추론값'])\n",
    "plt.xlabel('날짜')\n",
    "plt.ylabel('가격($)')\n",
    "test_df = df[int(len(df)*0.8):]\n",
    "plt.xticks(range(0, len(test_df), len(test_df)//10), labels = [test_df.iloc[x,0][:10] for x in range(0, len(test_df), len(test_df)//10)]) # x 축에 표시될 값을 설정합니다.\n",
    "plt.show()"
   ]
  }
 ],
 "metadata": {
  "kernelspec": {
   "display_name": "Python 3 (ipykernel)",
   "language": "python",
   "name": "python3"
  },
  "language_info": {
   "codemirror_mode": {
    "name": "ipython",
    "version": 3
   },
   "file_extension": ".py",
   "mimetype": "text/x-python",
   "name": "python",
   "nbconvert_exporter": "python",
   "pygments_lexer": "ipython3",
   "version": "3.10.4"
  }
 },
 "nbformat": 4,
 "nbformat_minor": 5
}
