{
 "cells": [
  {
   "cell_type": "markdown",
   "id": "e1200dc4-4552-496f-a353-7a2248144683",
   "metadata": {},
   "source": [
    "# 생명공학 꽃과 인공지능"
   ]
  },
  {
   "cell_type": "markdown",
   "id": "0b5ed754-b417-4460-8856-1056089c1039",
   "metadata": {
    "tags": [
     "jce.problems.221.5차시_Matplotlib에서_폰트_설정"
    ]
   },
   "source": [
    "### Matplotlib에서 폰트 설정"
   ]
  },
  {
   "cell_type": "code",
   "execution_count": 1,
   "id": "bd0f00c3-f5a2-44f6-9cd9-dfb941ac725b",
   "metadata": {
    "tags": [
     "jce.problems.221.5차시_Matplotlib에서_폰트_설정"
    ]
   },
   "outputs": [],
   "source": [
    "import urllib\n",
    "from matplotlib import font_manager\n",
    "from matplotlib import pyplot as plt\n",
    "\n",
    "font_path = 'NanumGothic.ttf'\n",
    "with open(font_path, 'wb') as f: \n",
    "    f.write(urllib.request.urlopen(\"https://github.com/team-monolith-product/jupyter-nanum/raw/main/NanumGothic.ttf\").read())\n",
    "\n",
    "# 글꼴을 등록합니다.\n",
    "font_manager.fontManager.addfont(font_path)\n",
    "plt.rcParams['font.family'] = font_manager.FontProperties(fname=font_path).get_name()"
   ]
  },
  {
   "cell_type": "markdown",
   "id": "25d69aa4-4ab0-4bd6-a6da-37416dd4a6bc",
   "metadata": {},
   "source": [
    "### [Step1] 데이터 로드"
   ]
  },
  {
   "cell_type": "code",
   "execution_count": 2,
   "id": "5d2684fe-8660-4628-86be-271ea7ac98ec",
   "metadata": {
    "tags": [
     "jce.problems.221.5차시_Step1_데이터_로드"
    ]
   },
   "outputs": [
    {
     "data": {
      "text/html": [
       "<div>\n",
       "<style scoped>\n",
       "    .dataframe tbody tr th:only-of-type {\n",
       "        vertical-align: middle;\n",
       "    }\n",
       "\n",
       "    .dataframe tbody tr th {\n",
       "        vertical-align: top;\n",
       "    }\n",
       "\n",
       "    .dataframe thead th {\n",
       "        text-align: right;\n",
       "    }\n",
       "</style>\n",
       "<table border=\"1\" class=\"dataframe\">\n",
       "  <thead>\n",
       "    <tr style=\"text-align: right;\">\n",
       "      <th></th>\n",
       "      <th>id</th>\n",
       "      <th>꽃받침길이</th>\n",
       "      <th>꽃받침너비</th>\n",
       "      <th>꽃잎길이</th>\n",
       "      <th>꽃잎너비</th>\n",
       "      <th>종류</th>\n",
       "    </tr>\n",
       "  </thead>\n",
       "  <tbody>\n",
       "    <tr>\n",
       "      <th>0</th>\n",
       "      <td>1</td>\n",
       "      <td>5.1</td>\n",
       "      <td>3.5</td>\n",
       "      <td>1.4</td>\n",
       "      <td>0.2</td>\n",
       "      <td>Iris-setosa</td>\n",
       "    </tr>\n",
       "    <tr>\n",
       "      <th>1</th>\n",
       "      <td>2</td>\n",
       "      <td>4.9</td>\n",
       "      <td>3.0</td>\n",
       "      <td>1.4</td>\n",
       "      <td>0.2</td>\n",
       "      <td>Iris-setosa</td>\n",
       "    </tr>\n",
       "    <tr>\n",
       "      <th>2</th>\n",
       "      <td>3</td>\n",
       "      <td>4.7</td>\n",
       "      <td>3.2</td>\n",
       "      <td>1.3</td>\n",
       "      <td>0.2</td>\n",
       "      <td>Iris-setosa</td>\n",
       "    </tr>\n",
       "    <tr>\n",
       "      <th>3</th>\n",
       "      <td>4</td>\n",
       "      <td>4.6</td>\n",
       "      <td>3.1</td>\n",
       "      <td>1.5</td>\n",
       "      <td>0.2</td>\n",
       "      <td>Iris-setosa</td>\n",
       "    </tr>\n",
       "    <tr>\n",
       "      <th>4</th>\n",
       "      <td>5</td>\n",
       "      <td>5.0</td>\n",
       "      <td>3.6</td>\n",
       "      <td>1.4</td>\n",
       "      <td>0.2</td>\n",
       "      <td>Iris-setosa</td>\n",
       "    </tr>\n",
       "    <tr>\n",
       "      <th>...</th>\n",
       "      <td>...</td>\n",
       "      <td>...</td>\n",
       "      <td>...</td>\n",
       "      <td>...</td>\n",
       "      <td>...</td>\n",
       "      <td>...</td>\n",
       "    </tr>\n",
       "    <tr>\n",
       "      <th>145</th>\n",
       "      <td>146</td>\n",
       "      <td>6.7</td>\n",
       "      <td>3.0</td>\n",
       "      <td>5.2</td>\n",
       "      <td>2.3</td>\n",
       "      <td>Iris-virginica</td>\n",
       "    </tr>\n",
       "    <tr>\n",
       "      <th>146</th>\n",
       "      <td>147</td>\n",
       "      <td>6.3</td>\n",
       "      <td>2.5</td>\n",
       "      <td>5.0</td>\n",
       "      <td>1.9</td>\n",
       "      <td>Iris-virginica</td>\n",
       "    </tr>\n",
       "    <tr>\n",
       "      <th>147</th>\n",
       "      <td>148</td>\n",
       "      <td>6.5</td>\n",
       "      <td>3.0</td>\n",
       "      <td>5.2</td>\n",
       "      <td>2.0</td>\n",
       "      <td>Iris-virginica</td>\n",
       "    </tr>\n",
       "    <tr>\n",
       "      <th>148</th>\n",
       "      <td>149</td>\n",
       "      <td>6.2</td>\n",
       "      <td>3.4</td>\n",
       "      <td>5.4</td>\n",
       "      <td>2.3</td>\n",
       "      <td>Iris-virginica</td>\n",
       "    </tr>\n",
       "    <tr>\n",
       "      <th>149</th>\n",
       "      <td>150</td>\n",
       "      <td>5.9</td>\n",
       "      <td>3.0</td>\n",
       "      <td>5.1</td>\n",
       "      <td>1.8</td>\n",
       "      <td>Iris-virginica</td>\n",
       "    </tr>\n",
       "  </tbody>\n",
       "</table>\n",
       "<p>150 rows × 6 columns</p>\n",
       "</div>"
      ],
      "text/plain": [
       "      id  꽃받침길이  꽃받침너비  꽃잎길이  꽃잎너비              종류\n",
       "0      1    5.1    3.5   1.4   0.2     Iris-setosa\n",
       "1      2    4.9    3.0   1.4   0.2     Iris-setosa\n",
       "2      3    4.7    3.2   1.3   0.2     Iris-setosa\n",
       "3      4    4.6    3.1   1.5   0.2     Iris-setosa\n",
       "4      5    5.0    3.6   1.4   0.2     Iris-setosa\n",
       "..   ...    ...    ...   ...   ...             ...\n",
       "145  146    6.7    3.0   5.2   2.3  Iris-virginica\n",
       "146  147    6.3    2.5   5.0   1.9  Iris-virginica\n",
       "147  148    6.5    3.0   5.2   2.0  Iris-virginica\n",
       "148  149    6.2    3.4   5.4   2.3  Iris-virginica\n",
       "149  150    5.9    3.0   5.1   1.8  Iris-virginica\n",
       "\n",
       "[150 rows x 6 columns]"
      ]
     },
     "execution_count": 2,
     "metadata": {},
     "output_type": "execute_result"
    }
   ],
   "source": [
    "import pandas as pd\n",
    "\n",
    "iris = pd.read_csv('datasets/iris.csv')\n",
    "iris"
   ]
  },
  {
   "cell_type": "markdown",
   "id": "a7f851f3-7f60-472a-a2b7-bf69bdc323c2",
   "metadata": {},
   "source": [
    "### [Step2] 데이터 파악하기"
   ]
  },
  {
   "cell_type": "code",
   "execution_count": 3,
   "id": "74cb3f29-4e2f-4116-a438-84e360cd269e",
   "metadata": {
    "tags": [
     "jce.problems.221.5차시_Step1_데이터_파악하기_1"
    ]
   },
   "outputs": [
    {
     "name": "stdout",
     "output_type": "stream",
     "text": [
      "<class 'pandas.core.frame.DataFrame'>\n",
      "RangeIndex: 150 entries, 0 to 149\n",
      "Data columns (total 6 columns):\n",
      " #   Column  Non-Null Count  Dtype  \n",
      "---  ------  --------------  -----  \n",
      " 0   id      150 non-null    int64  \n",
      " 1   꽃받침길이   150 non-null    float64\n",
      " 2   꽃받침너비   150 non-null    float64\n",
      " 3   꽃잎길이    150 non-null    float64\n",
      " 4   꽃잎너비    150 non-null    float64\n",
      " 5   종류      150 non-null    object \n",
      "dtypes: float64(4), int64(1), object(1)\n",
      "memory usage: 7.2+ KB\n"
     ]
    }
   ],
   "source": [
    "iris.info()"
   ]
  },
  {
   "cell_type": "code",
   "execution_count": 4,
   "id": "859bd2fd-eaa7-43d2-b60e-8f6d6426b5d2",
   "metadata": {
    "tags": [
     "jce.problems.221.5차시_Step1_데이터_파악하기_2"
    ]
   },
   "outputs": [
    {
     "data": {
      "text/html": [
       "<div>\n",
       "<style scoped>\n",
       "    .dataframe tbody tr th:only-of-type {\n",
       "        vertical-align: middle;\n",
       "    }\n",
       "\n",
       "    .dataframe tbody tr th {\n",
       "        vertical-align: top;\n",
       "    }\n",
       "\n",
       "    .dataframe thead th {\n",
       "        text-align: right;\n",
       "    }\n",
       "</style>\n",
       "<table border=\"1\" class=\"dataframe\">\n",
       "  <thead>\n",
       "    <tr style=\"text-align: right;\">\n",
       "      <th></th>\n",
       "      <th>id</th>\n",
       "      <th>꽃받침길이</th>\n",
       "      <th>꽃받침너비</th>\n",
       "      <th>꽃잎길이</th>\n",
       "      <th>꽃잎너비</th>\n",
       "    </tr>\n",
       "  </thead>\n",
       "  <tbody>\n",
       "    <tr>\n",
       "      <th>count</th>\n",
       "      <td>150.000000</td>\n",
       "      <td>150.000000</td>\n",
       "      <td>150.000000</td>\n",
       "      <td>150.000000</td>\n",
       "      <td>150.000000</td>\n",
       "    </tr>\n",
       "    <tr>\n",
       "      <th>mean</th>\n",
       "      <td>75.500000</td>\n",
       "      <td>5.843333</td>\n",
       "      <td>3.054000</td>\n",
       "      <td>3.758667</td>\n",
       "      <td>1.198667</td>\n",
       "    </tr>\n",
       "    <tr>\n",
       "      <th>std</th>\n",
       "      <td>43.445368</td>\n",
       "      <td>0.828066</td>\n",
       "      <td>0.433594</td>\n",
       "      <td>1.764420</td>\n",
       "      <td>0.763161</td>\n",
       "    </tr>\n",
       "    <tr>\n",
       "      <th>min</th>\n",
       "      <td>1.000000</td>\n",
       "      <td>4.300000</td>\n",
       "      <td>2.000000</td>\n",
       "      <td>1.000000</td>\n",
       "      <td>0.100000</td>\n",
       "    </tr>\n",
       "    <tr>\n",
       "      <th>25%</th>\n",
       "      <td>38.250000</td>\n",
       "      <td>5.100000</td>\n",
       "      <td>2.800000</td>\n",
       "      <td>1.600000</td>\n",
       "      <td>0.300000</td>\n",
       "    </tr>\n",
       "    <tr>\n",
       "      <th>50%</th>\n",
       "      <td>75.500000</td>\n",
       "      <td>5.800000</td>\n",
       "      <td>3.000000</td>\n",
       "      <td>4.350000</td>\n",
       "      <td>1.300000</td>\n",
       "    </tr>\n",
       "    <tr>\n",
       "      <th>75%</th>\n",
       "      <td>112.750000</td>\n",
       "      <td>6.400000</td>\n",
       "      <td>3.300000</td>\n",
       "      <td>5.100000</td>\n",
       "      <td>1.800000</td>\n",
       "    </tr>\n",
       "    <tr>\n",
       "      <th>max</th>\n",
       "      <td>150.000000</td>\n",
       "      <td>7.900000</td>\n",
       "      <td>4.400000</td>\n",
       "      <td>6.900000</td>\n",
       "      <td>2.500000</td>\n",
       "    </tr>\n",
       "  </tbody>\n",
       "</table>\n",
       "</div>"
      ],
      "text/plain": [
       "               id       꽃받침길이       꽃받침너비        꽃잎길이        꽃잎너비\n",
       "count  150.000000  150.000000  150.000000  150.000000  150.000000\n",
       "mean    75.500000    5.843333    3.054000    3.758667    1.198667\n",
       "std     43.445368    0.828066    0.433594    1.764420    0.763161\n",
       "min      1.000000    4.300000    2.000000    1.000000    0.100000\n",
       "25%     38.250000    5.100000    2.800000    1.600000    0.300000\n",
       "50%     75.500000    5.800000    3.000000    4.350000    1.300000\n",
       "75%    112.750000    6.400000    3.300000    5.100000    1.800000\n",
       "max    150.000000    7.900000    4.400000    6.900000    2.500000"
      ]
     },
     "execution_count": 4,
     "metadata": {},
     "output_type": "execute_result"
    }
   ],
   "source": [
    "iris.describe()"
   ]
  },
  {
   "cell_type": "markdown",
   "id": "aabe5d6f-8c64-488a-a401-74e7b326e312",
   "metadata": {},
   "source": [
    "### [Step3] 꽃 종류 별 통계 보기"
   ]
  },
  {
   "cell_type": "code",
   "execution_count": 5,
   "id": "54074f4b-b4db-4889-9a48-e53ce293936e",
   "metadata": {
    "tags": [
     "jce.problems.221.5차시_Step3_꽃_종류_별_통계_보기_1"
    ]
   },
   "outputs": [
    {
     "data": {
      "text/plain": [
       "Iris-setosa        50\n",
       "Iris-versicolor    50\n",
       "Iris-virginica     50\n",
       "Name: 종류, dtype: int64"
      ]
     },
     "execution_count": 5,
     "metadata": {},
     "output_type": "execute_result"
    }
   ],
   "source": [
    "iris['종류'].value_counts()"
   ]
  },
  {
   "cell_type": "code",
   "execution_count": 6,
   "id": "355d6096-3e8e-448e-b14a-cc846d4d586e",
   "metadata": {
    "tags": [
     "jce.problems.221.5차시_Step3_꽃_종류_별_통계_보기_2"
    ]
   },
   "outputs": [
    {
     "name": "stdout",
     "output_type": "stream",
     "text": [
      "Iris-setosa\n",
      "             id     꽃받침길이      꽃받침너비       꽃잎길이      꽃잎너비\n",
      "count  50.00000  50.00000  50.000000  50.000000  50.00000\n",
      "mean   25.50000   5.00600   3.418000   1.464000   0.24400\n",
      "std    14.57738   0.35249   0.381024   0.173511   0.10721\n",
      "min     1.00000   4.30000   2.300000   1.000000   0.10000\n",
      "25%    13.25000   4.80000   3.125000   1.400000   0.20000\n",
      "50%    25.50000   5.00000   3.400000   1.500000   0.20000\n",
      "75%    37.75000   5.20000   3.675000   1.575000   0.30000\n",
      "max    50.00000   5.80000   4.400000   1.900000   0.60000\n",
      "Iris-versicolor\n",
      "              id      꽃받침길이      꽃받침너비       꽃잎길이       꽃잎너비\n",
      "count   50.00000  50.000000  50.000000  50.000000  50.000000\n",
      "mean    75.50000   5.936000   2.770000   4.260000   1.326000\n",
      "std     14.57738   0.516171   0.313798   0.469911   0.197753\n",
      "min     51.00000   4.900000   2.000000   3.000000   1.000000\n",
      "25%     63.25000   5.600000   2.525000   4.000000   1.200000\n",
      "50%     75.50000   5.900000   2.800000   4.350000   1.300000\n",
      "75%     87.75000   6.300000   3.000000   4.600000   1.500000\n",
      "max    100.00000   7.000000   3.400000   5.100000   1.800000\n",
      "Iris-virginica\n",
      "              id     꽃받침길이      꽃받침너비       꽃잎길이      꽃잎너비\n",
      "count   50.00000  50.00000  50.000000  50.000000  50.00000\n",
      "mean   125.50000   6.58800   2.974000   5.552000   2.02600\n",
      "std     14.57738   0.63588   0.322497   0.551895   0.27465\n",
      "min    101.00000   4.90000   2.200000   4.500000   1.40000\n",
      "25%    113.25000   6.22500   2.800000   5.100000   1.80000\n",
      "50%    125.50000   6.50000   3.000000   5.550000   2.00000\n",
      "75%    137.75000   6.90000   3.175000   5.875000   2.30000\n",
      "max    150.00000   7.90000   3.800000   6.900000   2.50000\n"
     ]
    }
   ],
   "source": [
    "print('Iris-setosa')\n",
    "print(iris[iris['종류'] == 'Iris-setosa'].describe())\n",
    "print('Iris-versicolor')\n",
    "print(iris[iris['종류'] == 'Iris-versicolor'].describe())\n",
    "print('Iris-virginica')\n",
    "print(iris[iris['종류'] == 'Iris-virginica'].describe())"
   ]
  },
  {
   "cell_type": "markdown",
   "id": "8e8c0e90-7188-4403-bee7-a8689d49346a",
   "metadata": {},
   "source": [
    "### [Step4] 데이터 시각화하기"
   ]
  },
  {
   "cell_type": "code",
   "execution_count": 7,
   "id": "0a739955-a2db-49ed-a292-dea34bb6e3ec",
   "metadata": {
    "tags": [
     "jce.problems.221.5차시_Step4_데이터_시각화하기_1"
    ]
   },
   "outputs": [
    {
     "data": {
      "image/png": "[encoded data removed]",
      "text/plain": [
       "<Figure size 720x432 with 1 Axes>"
      ]
     },
     "metadata": {
      "needs_background": "light"
     },
     "output_type": "display_data"
    }
   ],
   "source": [
    "import matplotlib.pyplot as plt # 그래프 출력을 위한 모듈\n",
    "\n",
    "# 꽃받침(Sepal)의 길이와 너비에 따른 분산형(scatter) 그래프 그리기\n",
    "fig = iris[iris.종류 == 'Iris-setosa'].plot(kind = 'scatter', x = '꽃받침길이', y = '꽃받침너비', color = 'orange', label = 'setosa')\n",
    "iris[iris.종류 == 'Iris-versicolor'].plot(kind = 'scatter', x = '꽃받침길이', y = '꽃받침너비', color = 'blue', label = 'versicolor', ax = fig)\n",
    "iris[iris.종류 == 'Iris-virginica'].plot(kind = 'scatter', x = '꽃받침길이', y = '꽃받침너비', color = 'green', label = 'virginica', ax = fig)\n",
    "fig.set_xlabel('꽃받침길이') # 그래프의 x축 제목 설정하기\n",
    "fig.set_ylabel('꽃받침너비') # 그래프의 y축 제목 설정하기\n",
    "fig.set_title('꽃받침 길이 vs 너비') # 그래프의 제목 설정하기\n",
    "fig = plt.gcf( ) #현재 figure를 확인하기\n",
    "fig.set_size_inches(10, 6)\n",
    "plt.show( )"
   ]
  },
  {
   "cell_type": "code",
   "execution_count": 8,
   "id": "b3fe6387-714a-4a93-8131-1aa05141dd3f",
   "metadata": {
    "tags": [
     "jce.problems.221.5차시_Step4_데이터_시각화하기_2"
    ]
   },
   "outputs": [
    {
     "data": {
      "image/png": "[encoded data removed]",
      "text/plain": [
       "<Figure size 720x432 with 1 Axes>"
      ]
     },
     "metadata": {
      "needs_background": "light"
     },
     "output_type": "display_data"
    }
   ],
   "source": [
    "import matplotlib.pyplot as plt # 그래프 출력을 위한 모듈\n",
    "\n",
    "# 꽃잎(Petal)의 길이와 너비에 따른 분산형(scatter) 그래프\n",
    "fig = iris[iris.종류 == 'Iris-setosa'].plot(kind = 'scatter', x = '꽃잎길이', y = '꽃잎너비', color = 'orange', label = 'setosa')\n",
    "iris[iris.종류 == 'Iris-versicolor'].plot(kind = 'scatter', x = '꽃잎길이', y = '꽃잎너비', color = 'blue', label = 'versicolor', ax = fig)\n",
    "iris[iris.종류 == 'Iris-virginica'].plot(kind = 'scatter', x = '꽃잎길이', y = '꽃잎너비', color = 'green', label = 'virginica', ax = fig)\n",
    "fig.set_xlabel('꽃잎길이') # 그래프의 x축 제목 설정하기\n",
    "fig.set_ylabel('꽃잎너비') # 그래프의 y축 제목 설정하기\n",
    "fig.set_title('꽃잎 길이 vs 너비') # 그래프의 제목 설정하기\n",
    "fig = plt.gcf( )\n",
    "fig.set_size_inches(10, 6)\n",
    "plt.show( )"
   ]
  },
  {
   "cell_type": "markdown",
   "id": "528b2acf-7a5d-4b8e-b775-d99dc835542e",
   "metadata": {},
   "source": [
    "### [Step5] 데이터 형태 변화시키기"
   ]
  },
  {
   "cell_type": "code",
   "execution_count": 15,
   "id": "e68d518b-79b9-46ce-9e42-47fa61ec39dc",
   "metadata": {
    "tags": [
     "jce.problems.221.5차시_Step5_데이터_형태_변형시키기"
    ]
   },
   "outputs": [
    {
     "name": "stdout",
     "output_type": "stream",
     "text": [
      "      id  꽃받침길이  꽃받침너비  꽃잎길이  꽃잎너비              종류\n",
      "0      1    5.1    3.5   1.4   0.2     Iris-setosa\n",
      "1      2    4.9    3.0   1.4   0.2     Iris-setosa\n",
      "2      3    4.7    3.2   1.3   0.2     Iris-setosa\n",
      "3      4    4.6    3.1   1.5   0.2     Iris-setosa\n",
      "4      5    5.0    3.6   1.4   0.2     Iris-setosa\n",
      "..   ...    ...    ...   ...   ...             ...\n",
      "145  146    6.7    3.0   5.2   2.3  Iris-virginica\n",
      "146  147    6.3    2.5   5.0   1.9  Iris-virginica\n",
      "147  148    6.5    3.0   5.2   2.0  Iris-virginica\n",
      "148  149    6.2    3.4   5.4   2.3  Iris-virginica\n",
      "149  150    5.9    3.0   5.1   1.8  Iris-virginica\n",
      "\n",
      "[150 rows x 6 columns]\n"
     ]
    }
   ],
   "source": [
    "from sklearn.neighbors import KNeighborsClassifier\n",
    "\n",
    "features = iris.iloc[:,1:-1] #두번째에서 마지막 이전 열 가져오기\n",
    "target_value = iris.iloc[:,-1:] # 종류 열 가져오기 \n",
    "\n",
    "print(iris)"
   ]
  },
  {
   "cell_type": "markdown",
   "id": "8e014c7e-7415-43c6-90fa-de47e5b788ef",
   "metadata": {},
   "source": [
    "### [Step6] 모델 구성 및 학습하기"
   ]
  },
  {
   "cell_type": "code",
   "execution_count": 16,
   "id": "aed41194-3bef-4e92-9d9a-9a8c371af1eb",
   "metadata": {
    "tags": [
     "jce.problems.221.5차시_Step6_모델_구성_및_학습하기"
    ]
   },
   "outputs": [
    {
     "data": {
      "text/html": [
       "<style>#sk-container-id-1 {color: black;background-color: white;}#sk-container-id-1 pre{padding: 0;}#sk-container-id-1 div.sk-toggleable {background-color: white;}#sk-container-id-1 label.sk-toggleable__label {cursor: pointer;display: block;width: 100%;margin-bottom: 0;padding: 0.3em;box-sizing: border-box;text-align: center;}#sk-container-id-1 label.sk-toggleable__label-arrow:before {content: \"▸\";float: left;margin-right: 0.25em;color: #696969;}#sk-container-id-1 label.sk-toggleable__label-arrow:hover:before {color: black;}#sk-container-id-1 div.sk-estimator:hover label.sk-toggleable__label-arrow:before {color: black;}#sk-container-id-1 div.sk-toggleable__content {max-height: 0;max-width: 0;overflow: hidden;text-align: left;background-color: #f0f8ff;}#sk-container-id-1 div.sk-toggleable__content pre {margin: 0.2em;color: black;border-radius: 0.25em;background-color: #f0f8ff;}#sk-container-id-1 input.sk-toggleable__control:checked~div.sk-toggleable__content {max-height: 200px;max-width: 100%;overflow: auto;}#sk-container-id-1 input.sk-toggleable__control:checked~label.sk-toggleable__label-arrow:before {content: \"▾\";}#sk-container-id-1 div.sk-estimator input.sk-toggleable__control:checked~label.sk-toggleable__label {background-color: #d4ebff;}#sk-container-id-1 div.sk-label input.sk-toggleable__control:checked~label.sk-toggleable__label {background-color: #d4ebff;}#sk-container-id-1 input.sk-hidden--visually {border: 0;clip: rect(1px 1px 1px 1px);clip: rect(1px, 1px, 1px, 1px);height: 1px;margin: -1px;overflow: hidden;padding: 0;position: absolute;width: 1px;}#sk-container-id-1 div.sk-estimator {font-family: monospace;background-color: #f0f8ff;border: 1px dotted black;border-radius: 0.25em;box-sizing: border-box;margin-bottom: 0.5em;}#sk-container-id-1 div.sk-estimator:hover {background-color: #d4ebff;}#sk-container-id-1 div.sk-parallel-item::after {content: \"\";width: 100%;border-bottom: 1px solid gray;flex-grow: 1;}#sk-container-id-1 div.sk-label:hover label.sk-toggleable__label {background-color: #d4ebff;}#sk-container-id-1 div.sk-serial::before {content: \"\";position: absolute;border-left: 1px solid gray;box-sizing: border-box;top: 0;bottom: 0;left: 50%;z-index: 0;}#sk-container-id-1 div.sk-serial {display: flex;flex-direction: column;align-items: center;background-color: white;padding-right: 0.2em;padding-left: 0.2em;position: relative;}#sk-container-id-1 div.sk-item {position: relative;z-index: 1;}#sk-container-id-1 div.sk-parallel {display: flex;align-items: stretch;justify-content: center;background-color: white;position: relative;}#sk-container-id-1 div.sk-item::before, #sk-container-id-1 div.sk-parallel-item::before {content: \"\";position: absolute;border-left: 1px solid gray;box-sizing: border-box;top: 0;bottom: 0;left: 50%;z-index: -1;}#sk-container-id-1 div.sk-parallel-item {display: flex;flex-direction: column;z-index: 1;position: relative;background-color: white;}#sk-container-id-1 div.sk-parallel-item:first-child::after {align-self: flex-end;width: 50%;}#sk-container-id-1 div.sk-parallel-item:last-child::after {align-self: flex-start;width: 50%;}#sk-container-id-1 div.sk-parallel-item:only-child::after {width: 0;}#sk-container-id-1 div.sk-dashed-wrapped {border: 1px dashed gray;margin: 0 0.4em 0.5em 0.4em;box-sizing: border-box;padding-bottom: 0.4em;background-color: white;}#sk-container-id-1 div.sk-label label {font-family: monospace;font-weight: bold;display: inline-block;line-height: 1.2em;}#sk-container-id-1 div.sk-label-container {text-align: center;}#sk-container-id-1 div.sk-container {/* jupyter's `normalize.less` sets `[hidden] { display: none; }` but bootstrap.min.css set `[hidden] { display: none !important; }` so we also need the `!important` here to be able to override the default hidden behavior on the sphinx rendered scikit-learn.org. See: https://github.com/scikit-learn/scikit-learn/issues/21755 */display: inline-block !important;position: relative;}#sk-container-id-1 div.sk-text-repr-fallback {display: none;}</style><div id=\"sk-container-id-1\" class=\"sk-top-container\"><div class=\"sk-text-repr-fallback\"><pre>KNeighborsClassifier(n_neighbors=3)</pre><b>In a Jupyter environment, please rerun this cell to show the HTML representation or trust the notebook. <br />On GitHub, the HTML representation is unable to render, please try loading this page with nbviewer.org.</b></div><div class=\"sk-container\" hidden><div class=\"sk-item\"><div class=\"sk-estimator sk-toggleable\"><input class=\"sk-toggleable__control sk-hidden--visually\" id=\"sk-estimator-id-1\" type=\"checkbox\" checked><label for=\"sk-estimator-id-1\" class=\"sk-toggleable__label sk-toggleable__label-arrow\">KNeighborsClassifier</label><div class=\"sk-toggleable__content\"><pre>KNeighborsClassifier(n_neighbors=3)</pre></div></div></div></div></div>"
      ],
      "text/plain": [
       "KNeighborsClassifier(n_neighbors=3)"
      ]
     },
     "execution_count": 16,
     "metadata": {},
     "output_type": "execute_result"
    }
   ],
   "source": [
    "neigh = KNeighborsClassifier(n_neighbors = 3) #최근접 이웃 알고리즘, n은 3개로 분류\n",
    "neigh.fit(features, target_value)"
   ]
  },
  {
   "cell_type": "markdown",
   "id": "d4a6755e-cc63-4f58-b3c9-66c6d1388909",
   "metadata": {},
   "source": [
    "### [Step7] 결과확인하기"
   ]
  },
  {
   "cell_type": "code",
   "execution_count": 11,
   "id": "66ce5fa9-8beb-4a4c-aca1-22b6f034e989",
   "metadata": {
    "tags": [
     "jce.problems.221.5차시_Step7_결과확인하기_1"
    ]
   },
   "outputs": [
    {
     "name": "stdout",
     "output_type": "stream",
     "text": [
      "실제 데이터를 분류한 결과 : ['Iris-virginica']\n",
      "가상 데이터를 분류한 결과 : ['Iris-virginica']\n"
     ]
    }
   ],
   "source": [
    "result_1 = neigh.predict([features.iloc[-1]])\n",
    "result_2 = neigh.predict([[6, 2.9, 5, 2]]) #가상의 데이터 입력, 꽃받침 길이, 너비, 꽃잎 길이, 꽃잎 너비 순서\n",
    "\n",
    "print('실제 데이터를 분류한 결과 : {0}'.format(result_1))\n",
    "print('가상 데이터를 분류한 결과 : {0}'.format(result_2))"
   ]
  },
  {
   "cell_type": "code",
   "execution_count": 13,
   "id": "42ab9345-db04-450e-b303-f5cf4dae6470",
   "metadata": {
    "tags": [
     "jce.problems.221.5차시_Step7_결과확인하기_2"
    ]
   },
   "outputs": [
    {
     "name": "stdout",
     "output_type": "stream",
     "text": [
      "['Iris-setosa'] ['Iris-setosa'] ['Iris-setosa']\n"
     ]
    }
   ],
   "source": [
    "# 고흐의 그림에서 수집한 데이터\n",
    "ID_1 = [2.7, 2.4, 1.65, 0.67] #가상의 데이터 입력, 꽃받침 길이, 너비, 꽃잎 길이, 꽃잎 너비 순서\n",
    "ID_2 = [5.84, 5.48, 3, 2.16] #가상의 데이터 입력, 꽃받침 길이, 너비, 꽃잎 길이, 꽃잎 너비 순서\n",
    "ID_3 = [3.97, 4.01, 1.7, 0.67] #가상의 데이터 입력, 꽃받침 길이, 너비, 꽃잎 길이, 꽃잎 너비 순서\n",
    "\n",
    "# K_NN 분류 함수를 이용하여 분류하기\n",
    "result_1 = neigh.predict([ID_1])\n",
    "result_2 = neigh.predict([ID_2])\n",
    "result_3 = neigh.predict([ID_3])\n",
    "\n",
    "print(result_1,result_2,result_3)"
   ]
  }
 ],
 "metadata": {
  "kernelspec": {
   "display_name": "Python 3 (ipykernel)",
   "language": "python",
   "name": "python3"
  },
  "language_info": {
   "codemirror_mode": {
    "name": "ipython",
    "version": 3
   },
   "file_extension": ".py",
   "mimetype": "text/x-python",
   "name": "python",
   "nbconvert_exporter": "python",
   "pygments_lexer": "ipython3",
   "version": "3.10.4"
  }
 },
 "nbformat": 4,
 "nbformat_minor": 5
}
