{
 "cells": [
  {
   "cell_type": "markdown",
   "id": "5dec3405-804f-4b51-b9a6-a961ff51241b",
   "metadata": {},
   "source": [
    "# 경영학과 마케팅방안"
   ]
  },
  {
   "cell_type": "markdown",
   "id": "b83d09e1-dab9-4a54-b7c4-ae6da764d676",
   "metadata": {},
   "source": [
    "### Matplotlib에서 폰트 설정"
   ]
  },
  {
   "cell_type": "code",
   "execution_count": 39,
   "id": "534f7bad-f440-4c38-8f95-0ff1d06388ed",
   "metadata": {
    "tags": [
     "jce.problems.221.4차시_Matplotlib에서_폰트_설정"
    ]
   },
   "outputs": [],
   "source": [
    "import urllib\n",
    "from matplotlib import font_manager\n",
    "from matplotlib import pyplot as plt\n",
    "\n",
    "font_path = 'NanumGothic.ttf'\n",
    "with open(font_path, 'wb') as f: \n",
    "    f.write(urllib.request.urlopen(\"https://github.com/team-monolith-product/jupyter-nanum/raw/main/NanumGothic.ttf\").read())\n",
    "\n",
    "# 글꼴을 등록합니다.\n",
    "font_manager.fontManager.addfont(font_path)\n",
    "plt.rcParams['font.family'] = font_manager.FontProperties(fname=font_path).get_name()"
   ]
  },
  {
   "cell_type": "markdown",
   "id": "3f56f56c-9b77-4fef-a1b2-fc752d337cb3",
   "metadata": {},
   "source": [
    "### [Step1] 데이터 로드"
   ]
  },
  {
   "cell_type": "code",
   "execution_count": 16,
   "id": "e1e79fe4-64fa-4f38-a6ed-40e2583a84d3",
   "metadata": {
    "tags": [
     "jce.problems.221.4차시_Step1_데이터_로드"
    ]
   },
   "outputs": [
    {
     "data": {
      "text/html": [
       "<div>\n",
       "<style scoped>\n",
       "    .dataframe tbody tr th:only-of-type {\n",
       "        vertical-align: middle;\n",
       "    }\n",
       "\n",
       "    .dataframe tbody tr th {\n",
       "        vertical-align: top;\n",
       "    }\n",
       "\n",
       "    .dataframe thead th {\n",
       "        text-align: right;\n",
       "    }\n",
       "</style>\n",
       "<table border=\"1\" class=\"dataframe\">\n",
       "  <thead>\n",
       "    <tr style=\"text-align: right;\">\n",
       "      <th></th>\n",
       "      <th>날짜</th>\n",
       "      <th>평균기온</th>\n",
       "      <th>최고기온</th>\n",
       "      <th>최저기온</th>\n",
       "      <th>일교차</th>\n",
       "      <th>아이스크림검색량</th>\n",
       "    </tr>\n",
       "  </thead>\n",
       "  <tbody>\n",
       "    <tr>\n",
       "      <th>0</th>\n",
       "      <td>2020-01-01</td>\n",
       "      <td>-2.2</td>\n",
       "      <td>0.3</td>\n",
       "      <td>-6.5</td>\n",
       "      <td>6.8</td>\n",
       "      <td>11.05099</td>\n",
       "    </tr>\n",
       "    <tr>\n",
       "      <th>1</th>\n",
       "      <td>2020-01-02</td>\n",
       "      <td>1.0</td>\n",
       "      <td>3.8</td>\n",
       "      <td>-0.7</td>\n",
       "      <td>4.5</td>\n",
       "      <td>15.67595</td>\n",
       "    </tr>\n",
       "    <tr>\n",
       "      <th>2</th>\n",
       "      <td>2020-01-03</td>\n",
       "      <td>-0.1</td>\n",
       "      <td>4.6</td>\n",
       "      <td>-3.4</td>\n",
       "      <td>8.0</td>\n",
       "      <td>14.85324</td>\n",
       "    </tr>\n",
       "    <tr>\n",
       "      <th>3</th>\n",
       "      <td>2020-01-04</td>\n",
       "      <td>1.2</td>\n",
       "      <td>6.1</td>\n",
       "      <td>-2.8</td>\n",
       "      <td>8.9</td>\n",
       "      <td>13.32641</td>\n",
       "    </tr>\n",
       "    <tr>\n",
       "      <th>4</th>\n",
       "      <td>2020-01-05</td>\n",
       "      <td>1.3</td>\n",
       "      <td>6.6</td>\n",
       "      <td>-3.2</td>\n",
       "      <td>9.8</td>\n",
       "      <td>14.06018</td>\n",
       "    </tr>\n",
       "    <tr>\n",
       "      <th>...</th>\n",
       "      <td>...</td>\n",
       "      <td>...</td>\n",
       "      <td>...</td>\n",
       "      <td>...</td>\n",
       "      <td>...</td>\n",
       "      <td>...</td>\n",
       "    </tr>\n",
       "    <tr>\n",
       "      <th>896</th>\n",
       "      <td>2022-06-15</td>\n",
       "      <td>17.5</td>\n",
       "      <td>20.1</td>\n",
       "      <td>14.9</td>\n",
       "      <td>5.2</td>\n",
       "      <td>30.89238</td>\n",
       "    </tr>\n",
       "    <tr>\n",
       "      <th>897</th>\n",
       "      <td>2022-06-16</td>\n",
       "      <td>20.3</td>\n",
       "      <td>24.8</td>\n",
       "      <td>17.6</td>\n",
       "      <td>7.2</td>\n",
       "      <td>32.96768</td>\n",
       "    </tr>\n",
       "    <tr>\n",
       "      <th>898</th>\n",
       "      <td>2022-06-17</td>\n",
       "      <td>22.5</td>\n",
       "      <td>28.1</td>\n",
       "      <td>16.5</td>\n",
       "      <td>11.6</td>\n",
       "      <td>31.88556</td>\n",
       "    </tr>\n",
       "    <tr>\n",
       "      <th>899</th>\n",
       "      <td>2022-06-18</td>\n",
       "      <td>23.3</td>\n",
       "      <td>25.1</td>\n",
       "      <td>22.0</td>\n",
       "      <td>3.1</td>\n",
       "      <td>27.32730</td>\n",
       "    </tr>\n",
       "    <tr>\n",
       "      <th>900</th>\n",
       "      <td>2022-06-19</td>\n",
       "      <td>23.4</td>\n",
       "      <td>25.1</td>\n",
       "      <td>22.3</td>\n",
       "      <td>2.8</td>\n",
       "      <td>30.31426</td>\n",
       "    </tr>\n",
       "  </tbody>\n",
       "</table>\n",
       "<p>901 rows × 6 columns</p>\n",
       "</div>"
      ],
      "text/plain": [
       "             날짜  평균기온  최고기온  최저기온   일교차  아이스크림검색량\n",
       "0    2020-01-01  -2.2   0.3  -6.5   6.8  11.05099\n",
       "1    2020-01-02   1.0   3.8  -0.7   4.5  15.67595\n",
       "2    2020-01-03  -0.1   4.6  -3.4   8.0  14.85324\n",
       "3    2020-01-04   1.2   6.1  -2.8   8.9  13.32641\n",
       "4    2020-01-05   1.3   6.6  -3.2   9.8  14.06018\n",
       "..          ...   ...   ...   ...   ...       ...\n",
       "896  2022-06-15  17.5  20.1  14.9   5.2  30.89238\n",
       "897  2022-06-16  20.3  24.8  17.6   7.2  32.96768\n",
       "898  2022-06-17  22.5  28.1  16.5  11.6  31.88556\n",
       "899  2022-06-18  23.3  25.1  22.0   3.1  27.32730\n",
       "900  2022-06-19  23.4  25.1  22.3   2.8  30.31426\n",
       "\n",
       "[901 rows x 6 columns]"
      ]
     },
     "execution_count": 16,
     "metadata": {},
     "output_type": "execute_result"
    }
   ],
   "source": [
    "import pandas as pd\n",
    "\n",
    "df = pd.read_csv('datasets/아이스크림_기온.csv')\n",
    "df"
   ]
  },
  {
   "cell_type": "markdown",
   "id": "8bbf5959-1f22-4cbb-9181-a1bff7117561",
   "metadata": {},
   "source": [
    "### [Step2] 데이터 파악하기"
   ]
  },
  {
   "cell_type": "code",
   "execution_count": 18,
   "id": "d3c3f54f-1509-4125-b5d1-d47d653077b5",
   "metadata": {
    "tags": [
     "jce.problems.221.4차시_Step2_데이터_파악하기_1"
    ]
   },
   "outputs": [
    {
     "name": "stdout",
     "output_type": "stream",
     "text": [
      "<class 'pandas.core.frame.DataFrame'>\n",
      "RangeIndex: 901 entries, 0 to 900\n",
      "Data columns (total 6 columns):\n",
      " #   Column    Non-Null Count  Dtype  \n",
      "---  ------    --------------  -----  \n",
      " 0   날짜        901 non-null    object \n",
      " 1   평균기온      901 non-null    float64\n",
      " 2   최고기온      901 non-null    float64\n",
      " 3   최저기온      901 non-null    float64\n",
      " 4   일교차       901 non-null    float64\n",
      " 5   아이스크림검색량  901 non-null    float64\n",
      "dtypes: float64(5), object(1)\n",
      "memory usage: 42.4+ KB\n"
     ]
    }
   ],
   "source": [
    "df.info()"
   ]
  },
  {
   "cell_type": "code",
   "execution_count": 17,
   "id": "2acb781e-4869-4518-8ef8-7e2d32b6aa5b",
   "metadata": {
    "tags": [
     "jce.problems.221.4차시_Step2_데이터_파악하기_2"
    ]
   },
   "outputs": [
    {
     "data": {
      "text/html": [
       "<div>\n",
       "<style scoped>\n",
       "    .dataframe tbody tr th:only-of-type {\n",
       "        vertical-align: middle;\n",
       "    }\n",
       "\n",
       "    .dataframe tbody tr th {\n",
       "        vertical-align: top;\n",
       "    }\n",
       "\n",
       "    .dataframe thead th {\n",
       "        text-align: right;\n",
       "    }\n",
       "</style>\n",
       "<table border=\"1\" class=\"dataframe\">\n",
       "  <thead>\n",
       "    <tr style=\"text-align: right;\">\n",
       "      <th></th>\n",
       "      <th>평균기온</th>\n",
       "      <th>최고기온</th>\n",
       "      <th>최저기온</th>\n",
       "      <th>일교차</th>\n",
       "      <th>아이스크림검색량</th>\n",
       "    </tr>\n",
       "  </thead>\n",
       "  <tbody>\n",
       "    <tr>\n",
       "      <th>count</th>\n",
       "      <td>901.000000</td>\n",
       "      <td>901.000000</td>\n",
       "      <td>901.000000</td>\n",
       "      <td>901.000000</td>\n",
       "      <td>901.000000</td>\n",
       "    </tr>\n",
       "    <tr>\n",
       "      <th>mean</th>\n",
       "      <td>12.731521</td>\n",
       "      <td>17.514539</td>\n",
       "      <td>8.633185</td>\n",
       "      <td>8.881354</td>\n",
       "      <td>30.894103</td>\n",
       "    </tr>\n",
       "    <tr>\n",
       "      <th>std</th>\n",
       "      <td>10.143635</td>\n",
       "      <td>10.161335</td>\n",
       "      <td>10.434610</td>\n",
       "      <td>2.974059</td>\n",
       "      <td>9.729491</td>\n",
       "    </tr>\n",
       "    <tr>\n",
       "      <th>min</th>\n",
       "      <td>-14.900000</td>\n",
       "      <td>-10.700000</td>\n",
       "      <td>-18.600000</td>\n",
       "      <td>1.500000</td>\n",
       "      <td>11.050990</td>\n",
       "    </tr>\n",
       "    <tr>\n",
       "      <th>25%</th>\n",
       "      <td>5.000000</td>\n",
       "      <td>9.100000</td>\n",
       "      <td>0.600000</td>\n",
       "      <td>6.900000</td>\n",
       "      <td>23.473160</td>\n",
       "    </tr>\n",
       "    <tr>\n",
       "      <th>50%</th>\n",
       "      <td>13.100000</td>\n",
       "      <td>18.300000</td>\n",
       "      <td>8.400000</td>\n",
       "      <td>9.000000</td>\n",
       "      <td>29.825080</td>\n",
       "    </tr>\n",
       "    <tr>\n",
       "      <th>75%</th>\n",
       "      <td>21.500000</td>\n",
       "      <td>26.200000</td>\n",
       "      <td>18.000000</td>\n",
       "      <td>11.000000</td>\n",
       "      <td>37.303580</td>\n",
       "    </tr>\n",
       "    <tr>\n",
       "      <th>max</th>\n",
       "      <td>31.700000</td>\n",
       "      <td>36.500000</td>\n",
       "      <td>27.800000</td>\n",
       "      <td>17.900000</td>\n",
       "      <td>100.000000</td>\n",
       "    </tr>\n",
       "  </tbody>\n",
       "</table>\n",
       "</div>"
      ],
      "text/plain": [
       "             평균기온        최고기온        최저기온         일교차    아이스크림검색량\n",
       "count  901.000000  901.000000  901.000000  901.000000  901.000000\n",
       "mean    12.731521   17.514539    8.633185    8.881354   30.894103\n",
       "std     10.143635   10.161335   10.434610    2.974059    9.729491\n",
       "min    -14.900000  -10.700000  -18.600000    1.500000   11.050990\n",
       "25%      5.000000    9.100000    0.600000    6.900000   23.473160\n",
       "50%     13.100000   18.300000    8.400000    9.000000   29.825080\n",
       "75%     21.500000   26.200000   18.000000   11.000000   37.303580\n",
       "max     31.700000   36.500000   27.800000   17.900000  100.000000"
      ]
     },
     "execution_count": 17,
     "metadata": {},
     "output_type": "execute_result"
    }
   ],
   "source": [
    "df.describe()"
   ]
  },
  {
   "cell_type": "markdown",
   "id": "02da3c20-955e-491b-9045-d60f7000ae6e",
   "metadata": {},
   "source": [
    "### [Step3] 데이터 시각화하기"
   ]
  },
  {
   "cell_type": "code",
   "execution_count": 27,
   "id": "10822088-6aca-4ea0-b149-5b28b7793856",
   "metadata": {
    "tags": [
     "jce.problems.221.4차시_Step3_데이터_시각화하기_1"
    ]
   },
   "outputs": [
    {
     "name": "stdout",
     "output_type": "stream",
     "text": [
      "[-14.9  -10.24  -5.58  -0.92   3.74   8.4   13.06  17.72  22.38  27.04\n",
      "  31.7 ]\n"
     ]
    },
    {
     "data": {
      "image/png": "[encoded data removed]",
      "text/plain": [
       "<Figure size 432x288 with 1 Axes>"
      ]
     },
     "metadata": {
      "needs_background": "light"
     },
     "output_type": "display_data"
    }
   ],
   "source": [
    "import matplotlib.pyplot as plt\n",
    "import numpy as np\n",
    "\n",
    "count, division = np.histogram(df['평균기온'], bins = 10) #data와 도수 분포 구간을 설정합니다. \n",
    "print(division)\n",
    "plt.hist(df['평균기온'],bins = division) #data와 구간의 개수를 지정합니다.\n",
    "plt.show()"
   ]
  },
  {
   "cell_type": "code",
   "execution_count": 46,
   "id": "a21f808c-22ca-4828-a1f7-4348636c1e35",
   "metadata": {
    "tags": [
     "jce.problems.221.4차시_Step3_데이터_시각화하기_2"
    ]
   },
   "outputs": [
    {
     "data": {
      "image/png": "[encoded data removed]",
      "text/plain": [
       "<Figure size 864x432 with 1 Axes>"
      ]
     },
     "metadata": {
      "needs_background": "light"
     },
     "output_type": "display_data"
    }
   ],
   "source": [
    "import matplotlib.pyplot as plt\n",
    "\n",
    "plt.figure(figsize=(12,6))\n",
    "plt.xlabel('평균 기온') # x축 제목 이름 정하기\n",
    "plt.ylabel('아이스크림 검색량') # y축 제목 이름 정하기\n",
    "plt.scatter(df['평균기온'], df['아이스크림검색량']) # 막대그래프 그리기\n",
    "plt.xticks(division[1:]) # x축 눈금 이름 설정하기\n",
    "plt.show( )"
   ]
  },
  {
   "cell_type": "markdown",
   "id": "205561e0-b848-4958-8af1-483a531a336f",
   "metadata": {},
   "source": [
    "### [Step4] 데이터 계급별로 나누기"
   ]
  },
  {
   "cell_type": "code",
   "execution_count": 32,
   "id": "fc742148-d606-419a-9abe-ba0c72d95530",
   "metadata": {
    "tags": [
     "jce.problems.221.4차시_Step4_데이터_계급별로_나누기_1"
    ]
   },
   "outputs": [
    {
     "data": {
      "text/html": [
       "<div>\n",
       "<style scoped>\n",
       "    .dataframe tbody tr th:only-of-type {\n",
       "        vertical-align: middle;\n",
       "    }\n",
       "\n",
       "    .dataframe tbody tr th {\n",
       "        vertical-align: top;\n",
       "    }\n",
       "\n",
       "    .dataframe thead th {\n",
       "        text-align: right;\n",
       "    }\n",
       "</style>\n",
       "<table border=\"1\" class=\"dataframe\">\n",
       "  <thead>\n",
       "    <tr style=\"text-align: right;\">\n",
       "      <th></th>\n",
       "      <th>날짜</th>\n",
       "      <th>평균기온</th>\n",
       "      <th>최고기온</th>\n",
       "      <th>최저기온</th>\n",
       "      <th>일교차</th>\n",
       "      <th>아이스크림검색량</th>\n",
       "      <th>평균기온_단계</th>\n",
       "    </tr>\n",
       "  </thead>\n",
       "  <tbody>\n",
       "    <tr>\n",
       "      <th>0</th>\n",
       "      <td>2020-01-01</td>\n",
       "      <td>-2.2</td>\n",
       "      <td>0.3</td>\n",
       "      <td>-6.5</td>\n",
       "      <td>6.8</td>\n",
       "      <td>11.05099</td>\n",
       "      <td>-5.58</td>\n",
       "    </tr>\n",
       "    <tr>\n",
       "      <th>1</th>\n",
       "      <td>2020-01-02</td>\n",
       "      <td>1.0</td>\n",
       "      <td>3.8</td>\n",
       "      <td>-0.7</td>\n",
       "      <td>4.5</td>\n",
       "      <td>15.67595</td>\n",
       "      <td>-0.92</td>\n",
       "    </tr>\n",
       "    <tr>\n",
       "      <th>2</th>\n",
       "      <td>2020-01-03</td>\n",
       "      <td>-0.1</td>\n",
       "      <td>4.6</td>\n",
       "      <td>-3.4</td>\n",
       "      <td>8.0</td>\n",
       "      <td>14.85324</td>\n",
       "      <td>-0.92</td>\n",
       "    </tr>\n",
       "    <tr>\n",
       "      <th>3</th>\n",
       "      <td>2020-01-04</td>\n",
       "      <td>1.2</td>\n",
       "      <td>6.1</td>\n",
       "      <td>-2.8</td>\n",
       "      <td>8.9</td>\n",
       "      <td>13.32641</td>\n",
       "      <td>-0.92</td>\n",
       "    </tr>\n",
       "    <tr>\n",
       "      <th>4</th>\n",
       "      <td>2020-01-05</td>\n",
       "      <td>1.3</td>\n",
       "      <td>6.6</td>\n",
       "      <td>-3.2</td>\n",
       "      <td>9.8</td>\n",
       "      <td>14.06018</td>\n",
       "      <td>-0.92</td>\n",
       "    </tr>\n",
       "    <tr>\n",
       "      <th>...</th>\n",
       "      <td>...</td>\n",
       "      <td>...</td>\n",
       "      <td>...</td>\n",
       "      <td>...</td>\n",
       "      <td>...</td>\n",
       "      <td>...</td>\n",
       "      <td>...</td>\n",
       "    </tr>\n",
       "    <tr>\n",
       "      <th>896</th>\n",
       "      <td>2022-06-15</td>\n",
       "      <td>17.5</td>\n",
       "      <td>20.1</td>\n",
       "      <td>14.9</td>\n",
       "      <td>5.2</td>\n",
       "      <td>30.89238</td>\n",
       "      <td>13.06</td>\n",
       "    </tr>\n",
       "    <tr>\n",
       "      <th>897</th>\n",
       "      <td>2022-06-16</td>\n",
       "      <td>20.3</td>\n",
       "      <td>24.8</td>\n",
       "      <td>17.6</td>\n",
       "      <td>7.2</td>\n",
       "      <td>32.96768</td>\n",
       "      <td>17.72</td>\n",
       "    </tr>\n",
       "    <tr>\n",
       "      <th>898</th>\n",
       "      <td>2022-06-17</td>\n",
       "      <td>22.5</td>\n",
       "      <td>28.1</td>\n",
       "      <td>16.5</td>\n",
       "      <td>11.6</td>\n",
       "      <td>31.88556</td>\n",
       "      <td>22.38</td>\n",
       "    </tr>\n",
       "    <tr>\n",
       "      <th>899</th>\n",
       "      <td>2022-06-18</td>\n",
       "      <td>23.3</td>\n",
       "      <td>25.1</td>\n",
       "      <td>22.0</td>\n",
       "      <td>3.1</td>\n",
       "      <td>27.32730</td>\n",
       "      <td>22.38</td>\n",
       "    </tr>\n",
       "    <tr>\n",
       "      <th>900</th>\n",
       "      <td>2022-06-19</td>\n",
       "      <td>23.4</td>\n",
       "      <td>25.1</td>\n",
       "      <td>22.3</td>\n",
       "      <td>2.8</td>\n",
       "      <td>30.31426</td>\n",
       "      <td>22.38</td>\n",
       "    </tr>\n",
       "  </tbody>\n",
       "</table>\n",
       "<p>901 rows × 7 columns</p>\n",
       "</div>"
      ],
      "text/plain": [
       "             날짜  평균기온  최고기온  최저기온   일교차  아이스크림검색량 평균기온_단계\n",
       "0    2020-01-01  -2.2   0.3  -6.5   6.8  11.05099   -5.58\n",
       "1    2020-01-02   1.0   3.8  -0.7   4.5  15.67595   -0.92\n",
       "2    2020-01-03  -0.1   4.6  -3.4   8.0  14.85324   -0.92\n",
       "3    2020-01-04   1.2   6.1  -2.8   8.9  13.32641   -0.92\n",
       "4    2020-01-05   1.3   6.6  -3.2   9.8  14.06018   -0.92\n",
       "..          ...   ...   ...   ...   ...       ...     ...\n",
       "896  2022-06-15  17.5  20.1  14.9   5.2  30.89238   13.06\n",
       "897  2022-06-16  20.3  24.8  17.6   7.2  32.96768   17.72\n",
       "898  2022-06-17  22.5  28.1  16.5  11.6  31.88556   22.38\n",
       "899  2022-06-18  23.3  25.1  22.0   3.1  27.32730   22.38\n",
       "900  2022-06-19  23.4  25.1  22.3   2.8  30.31426   22.38\n",
       "\n",
       "[901 rows x 7 columns]"
      ]
     },
     "execution_count": 32,
     "metadata": {},
     "output_type": "execute_result"
    }
   ],
   "source": [
    "df['평균기온_단계'] = pd.cut(df['평균기온'], division, right = False, labels=division[:-1])\n",
    "df"
   ]
  },
  {
   "cell_type": "code",
   "execution_count": 40,
   "id": "552b6fce-d7be-4cd1-b10b-1885c956419d",
   "metadata": {
    "tags": [
     "jce.problems.221.4차시_Step4_데이터_계급별로_나누기_2"
    ]
   },
   "outputs": [
    {
     "data": {
      "image/png": "[encoded data removed]",
      "text/plain": [
       "<Figure size 432x288 with 1 Axes>"
      ]
     },
     "metadata": {
      "needs_background": "light"
     },
     "output_type": "display_data"
    }
   ],
   "source": [
    "import matplotlib.pyplot as plt\n",
    "\n",
    "plt.xlabel('평균 기온') # x축 제목 이름 정하기\n",
    "plt.ylabel('아이스크림 검색량') # y축 제목 이름 정하기\n",
    "plt.bar(division[1:], count, width = 2) # 막대그래프 그리기\n",
    "plt.xticks(division[1:]) # x축 눈금 이름 설정하기\n",
    "plt.show( )"
   ]
  },
  {
   "cell_type": "markdown",
   "id": "c4ed7b24-9d1e-42bf-b2b2-50d6485777a5",
   "metadata": {},
   "source": [
    "### [Step5] 데이터 형태 변형하기"
   ]
  },
  {
   "cell_type": "code",
   "execution_count": 53,
   "id": "5204b630-ed21-48aa-a45c-efd5af6b7fd9",
   "metadata": {
    "tags": [
     "jce.problems.221.4차시_Step5_데이터_형태_변형하기"
    ]
   },
   "outputs": [],
   "source": [
    "import numpy as np\n",
    "X = np.array(df['평균기온']) #평균기온 열을 numpy array로 변환 \n",
    "Y = np.array(df['아이스크림검색량']) #아이스크립 검색량 열을 numpy array로 변환 "
   ]
  },
  {
   "cell_type": "markdown",
   "id": "6677f279-2d2c-4f9e-ad4d-a3f544e38ad6",
   "metadata": {},
   "source": [
    "### [Step6] LSM으로 기울기와 절편 구하기"
   ]
  },
  {
   "cell_type": "code",
   "execution_count": 54,
   "id": "2b2e3dd7-9c82-4d8b-b5a3-20d12984078c",
   "metadata": {
    "tags": [
     "jce.problems.221.4차시_Step6_LSM으로_기울기와_절편_구하기"
    ]
   },
   "outputs": [
    {
     "name": "stdout",
     "output_type": "stream",
     "text": [
      "기울기(beta1): 0.3949777590928455, 절편(beta0): 25.8654357687792\n"
     ]
    }
   ],
   "source": [
    "mean_x = np.mean(X) # X array의 평균을 mean_x에 저장합니다. \n",
    "mean_y = np.mean(Y) # Y array의 평균을 mean_x에 저장합니다. \n",
    "\n",
    "n = len(X) #X의 길이를 n에 저장합니다. \n",
    "\n",
    "temp1 = 0\n",
    "temp2 = 0\n",
    "#최소 자승법을 구현해봅시다. (lean square method)\n",
    "for i in range(n):\n",
    "    temp1 += (X[i] - mean_x)*(Y[i]-mean_y)\n",
    "    temp2 += (X[i] - mean_x) ** 2\n",
    "beta1 = temp1 / temp2 #기울기 설정\n",
    "beta0 = mean_y - (beta1*mean_x) # y절편 설정\n",
    "\n",
    "print('기울기(beta1): {0}, 절편(beta0): {1}'.format(beta1, beta0))"
   ]
  },
  {
   "cell_type": "markdown",
   "id": "8eb05b00-6b33-4802-bbc1-d6e533a0c7e5",
   "metadata": {},
   "source": [
    "### [Step7] 학습결과 시각화하기"
   ]
  },
  {
   "cell_type": "code",
   "execution_count": 67,
   "id": "0ce0b77a-7993-451c-87d7-5cab2198b4b4",
   "metadata": {
    "tags": [
     "jce.problems.221.4차시_Step7_학습결과_시각화하기"
    ]
   },
   "outputs": [
    {
     "data": {
      "image/png": "[encoded data removed]",
      "text/plain": [
       "<Figure size 432x288 with 1 Axes>"
      ]
     },
     "metadata": {
      "needs_background": "light"
     },
     "output_type": "display_data"
    }
   ],
   "source": [
    "# 학습 결과 시각화하기\n",
    "import matplotlib.pyplot as plt\n",
    "Y_pred = beta0 + beta1 * X\n",
    "\n",
    "plt.title('평균 기온 & 아이스크림 검색량')\n",
    "plt.xlabel('평균 기온(C)')\n",
    "plt.ylabel('아이스크림 검색량')\n",
    "plt.scatter(X, Y, color = 'k', s = 10)\n",
    "plt.plot(X,Y_pred, color = 'red')\n",
    "plt.grid( )\n",
    "plt.show( )"
   ]
  },
  {
   "cell_type": "markdown",
   "id": "07c99511-84df-450e-a837-782b389e97b1",
   "metadata": {},
   "source": [
    "### [Step8] 손실값 확인하기"
   ]
  },
  {
   "cell_type": "code",
   "execution_count": 68,
   "id": "bc6a272b-8f28-45e1-bb04-cbac37233b1d",
   "metadata": {
    "tags": [
     "jce.problems.221.4차시_Step8_손실값_확인하기"
    ]
   },
   "outputs": [
    {
     "name": "stdout",
     "output_type": "stream",
     "text": [
      "손실값 결과는? 8.861355967301371\n"
     ]
    }
   ],
   "source": [
    "#RMSE 평균 제곱근 오차 계산하기 \n",
    "def RMSE(beta0, beta1, x, y) :\n",
    "    RMSE = np.sqrt(((y - (beta0 + beta1 * x)) ** 2).mean( )) #실제값과 예측 값의 차이의 제곱 값을 평균낸다.\n",
    "    return RMSE\n",
    "\n",
    "results = RMSE(beta0, beta1, X, Y) #result의 해당 값을 저장한다. \n",
    "print('손실값 결과는? {0}'.format(results))"
   ]
  },
  {
   "cell_type": "markdown",
   "id": "3e49f37e-c666-4267-93a1-3a1604b39490",
   "metadata": {},
   "source": [
    "### [Step9] 아이스크림 쇼핑 클릭량 예측 프로그램 만들기"
   ]
  },
  {
   "cell_type": "code",
   "execution_count": 73,
   "id": "f0a24117-5651-4c25-b495-9206f6fa05c0",
   "metadata": {
    "tags": [
     "jce.problems.221.4차시_Step9_아이스크림_쇼핑_클릭량_예측_프로그램_만들기"
    ]
   },
   "outputs": [
    {
     "name": "stdin",
     "output_type": "stream",
     "text": [
      "안녕하세요. 오늘의 평균 기온을 입력해 주세요. :  30\n"
     ]
    },
    {
     "name": "stdout",
     "output_type": "stream",
     "text": [
      "아이스크림 쇼핑 클릭량은 37.71K 만큼 예상됩니다.\n"
     ]
    }
   ],
   "source": [
    "#평균 기온을 입력하면, 아이스크림 쇼핑 클릭량을 예측하여 출력하는 프로그램을 만들어보자. \n",
    "def Regression(beta0, beta1, X) :\n",
    "    y_pred = beta0 + beta1 * X\n",
    "    return y_pred\n",
    "\n",
    "my_temp = float(input('안녕하세요. 오늘의 평균 기온을 입력해 주세요. : '))\n",
    "predicted_value = Regression(beta0, beta1, my_temp) # Regression 함수에 기울기와, y절편, 평균기온값을 넣어준다. \n",
    "print('아이스크림 쇼핑 클릭량은 {0:.2f}K 만큼 예상됩니다.'.format(predicted_value))"
   ]
  },
  {
   "cell_type": "markdown",
   "id": "880a9296-8c3a-40fc-a686-eb79029606d3",
   "metadata": {
    "tags": [
     "jce.problems.221.4차시_Step10_scikit-learn의_linear_regression을_이용해_기울기와_절편_구하기"
    ]
   },
   "source": [
    "### [Step10] scikit-learn의 linear regression을 이용해 기울기와 절편 구하기"
   ]
  },
  {
   "cell_type": "code",
   "execution_count": 100,
   "id": "42280b41-a91e-4206-8332-031934be1098",
   "metadata": {
    "tags": [
     "jce.problems.221.4차시_Step10_scikit-learn의_linear_regression을_이용해_기울기와_절편_구하기"
    ]
   },
   "outputs": [
    {
     "name": "stdout",
     "output_type": "stream",
     "text": [
      "[0.39497776] 25.8654357687792\n"
     ]
    },
    {
     "data": {
      "text/plain": [
       "array([37.71476854])"
      ]
     },
     "execution_count": 100,
     "metadata": {},
     "output_type": "execute_result"
    }
   ],
   "source": [
    "from sklearn.linear_model import LinearRegression\n",
    "\n",
    "X = X.reshape([-1,1]) #Linear Regression을 위해 먼저, 1열자리 2차원행렬로 변환합니다. \n",
    "reg = LinearRegression().fit(X,Y)\n",
    "reg.score(X,Y) \n",
    "print(reg.coef_, reg.intercept_) # Linear Regression 함수를 사용하여, 기울기와 y절편을 출력합니다.\n",
    "reg.predict(np.array([[30]])) # X겂에 30을 넣어주어 쇼핑 클릭량을 예측합니다. "
   ]
  },
  {
   "cell_type": "markdown",
   "id": "ea99e8dd-3e15-4c58-9091-043200c82e19",
   "metadata": {},
   "source": [
    "### [Step11] 학습결과 시각화하기"
   ]
  },
  {
   "cell_type": "code",
   "execution_count": 101,
   "id": "fd1228f7-3f51-4376-9c9c-36b4fc46fdef",
   "metadata": {
    "tags": [
     "jce.problems.221.4차시_Step11_학습결과_시각화하기"
    ]
   },
   "outputs": [
    {
     "data": {
      "image/png": "[encoded data removed]",
      "text/plain": [
       "<Figure size 432x288 with 1 Axes>"
      ]
     },
     "metadata": {
      "needs_background": "light"
     },
     "output_type": "display_data"
    }
   ],
   "source": [
    "# 학습 결과 시각화하기\n",
    "import matplotlib.pyplot as plt\n",
    "Y_pred = reg.predict(X)\n",
    "\n",
    "plt.title('평균 기온 & 아이스크림 검색량')\n",
    "plt.xlabel('평균 기온(C)')\n",
    "plt.ylabel('아이스크림 검색량')\n",
    "plt.scatter(X, Y, color = 'k', s = 10)\n",
    "plt.plot(X,Y_pred, color = 'red')\n",
    "plt.grid( )\n",
    "plt.show( )"
   ]
  }
 ],
 "metadata": {
  "kernelspec": {
   "display_name": "Python 3 (ipykernel)",
   "language": "python",
   "name": "python3"
  },
  "language_info": {
   "codemirror_mode": {
    "name": "ipython",
    "version": 3
   },
   "file_extension": ".py",
   "mimetype": "text/x-python",
   "name": "python",
   "nbconvert_exporter": "python",
   "pygments_lexer": "ipython3",
   "version": "3.10.4"
  }
 },
 "nbformat": 4,
 "nbformat_minor": 5
}
