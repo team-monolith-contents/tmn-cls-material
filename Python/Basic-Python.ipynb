{
 "cells": [
  {
   "cell_type": "markdown",
   "metadata": {
    "id": "iRtD9uLAN1y-"
   },
   "source": [
    "# Python 기초"
   ]
  },
  {
   "cell_type": "markdown",
   "metadata": {
    "id": "3LcTOO8SuKaZ",
    "tags": []
   },
   "source": [
    "## 출력 함수 print\n",
    "\n",
    "파이썬에서는 `print()` 함수를 이용하여 값들을 출력할 수 있습니다.\n",
    "\n",
    "print 함수 내에 출력하고 싶은 값들을 넣어주면 됩니다.\n",
    "\n",
    "print 함수를 사용하면 자동으로 줄바꿈을 해줍니다.\n",
    "\n",
    "타입 | 예시 |\n",
    "---|:---:|\n",
    "정수 | 3 |\n",
    "실수 | 3.6 |\n",
    "리스트 | \\[1, 5\\] |\n",
    "문자열 | '안녕하세요' |\n",
    "\n",
    "> 파이썬에서 문자열을 표현하기 위해서는 ''(따옴표) 나 \"\"(쌍따옴표) 안에 원하는 문자열을 넣어주어야 합니다.\n",
    "\n",
    "> 파이썬에서 # 이후에 나오는 코드들은 무시되어 실행되지 않습니다.\n",
    "\n",
    "---\n",
    "\n",
    "print()를 사용해 한번에 많은 값들을 프린트 할 수도 있습니다.\n",
    "\n",
    "`print()` 함수안에 ,(반점)으로 구분하여 여러 문장들을 넣어주면 각각의 문장들이 space(공백)으로 구분되어 출력됩니다.\n",
    "\n",
    "이 때, print()의 마지막에 sep=\"/\"을 넣어주면 각각의 문장들을 space(공백)이 아닌 /로 구분하여 줍니다.\n",
    "\n",
    "물론 sep=\"?\" 의 물음표 자리에는 어떠한 기호나 숫자들도 들어갈 수 있습니다"
   ]
  },
  {
   "cell_type": "code",
   "execution_count": 4,
   "metadata": {},
   "outputs": [
    {
     "name": "stdout",
     "output_type": "stream",
     "text": [
      "안녕하세요\n",
      "3\n",
      "5.2\n",
      "[1, 6]\n"
     ]
    }
   ],
   "source": [
    "# Example 1\n",
    "\n",
    "print('안녕하세요') # 안녕하세요를 출력합니다.\n",
    "print(3) # 3을 출력합니다.\n",
    "print(5.2) # 5.2를 출력합니다.\n",
    "print([1,6]) # [1,6]을 출력합니다."
   ]
  },
  {
   "cell_type": "code",
   "execution_count": 2,
   "metadata": {},
   "outputs": [
    {
     "name": "stdout",
     "output_type": "stream",
     "text": [
      "3.6 코들 123\n",
      "codle python hello\n"
     ]
    }
   ],
   "source": [
    "# Example 2\n",
    "\n",
    "print(3.6, \"코들\", 123) # 3.6 \"코들\" 123이 공백으로 구분되어 출력됩니다.\n",
    "print(\"codle\", \"python\", \"hello\") # codle python hello가 공백으로 구분되어 출력됩니다."
   ]
  },
  {
   "cell_type": "markdown",
   "metadata": {},
   "source": [
    "<a href='#jce-judge/open/134' target='_self'><h3>안녕, 코들 1</h3></a>\n",
    "<a href='#jce-judge/open/112' target='_self'><h3>안녕, 코들 2</h3></a>\n",
    "<a href='#jce-judge/open/132' target='_self'><h3>안녕, 코들 3</h3></a>"
   ]
  },
  {
   "cell_type": "markdown",
   "metadata": {
    "tags": []
   },
   "source": [
    "## 입력 함수 input\n",
    "\n",
    "파이썬에서는 `input()` 함수를 이용하여 값들을 입력할 수 있습니다.\n",
    "\n",
    "input 함수 내에 입력에 대한 안내를 넣어줄 수 있습니다.\n",
    "\n",
    "input 함수로 입력받은 값을 변수에 저장할 수 있습니다.\n",
    "\n",
    "---\n",
    "\n",
    "input 함수로 받아온 값은 문자열의 형태로 변수에 저장됩니다.\n",
    "\n",
    "따라서 정수나, 실수 값을 입력하게 되면 문자열 값을 정수나 실수로 바꿔 주어야 합니다.\n",
    "\n",
    "이것은 정수로 변환은 `int()`, 실수로 변환은 `float()` 함수를 사용할 수 있습니다."
   ]
  },
  {
   "cell_type": "code",
   "execution_count": 11,
   "metadata": {},
   "outputs": [
    {
     "name": "stdin",
     "output_type": "stream",
     "text": [
      "숫자를 입력해보세요 2\n",
      "숫자를 입력해보세요 5\n"
     ]
    },
    {
     "name": "stdout",
     "output_type": "stream",
     "text": [
      "7\n"
     ]
    }
   ],
   "source": [
    "# Example 3\n",
    "\n",
    "A = input(\"숫자를 입력해보세요\") # 값을 입력받아 A에 저장합니다.\n",
    "B = input(\"숫자를 입력해보세요\")\n",
    "a = int(A)+int(B)\n",
    "\n",
    "print(a) # A에 저장된 값을 출력합니다."
   ]
  },
  {
   "cell_type": "code",
   "execution_count": 8,
   "metadata": {},
   "outputs": [
    {
     "name": "stdin",
     "output_type": "stream",
     "text": [
      "이름을 입력해주세요 엄은상\n"
     ]
    },
    {
     "name": "stdout",
     "output_type": "stream",
     "text": [
      "엄은상\n"
     ]
    }
   ],
   "source": [
    "# Example 4\n",
    "\n",
    "name = input(\"이름을 입력해주세요\") # 값을 입력받아 name에 저장합니다.\n",
    "print(name) # name에 저장된 값을 출력합니다."
   ]
  },
  {
   "cell_type": "markdown",
   "metadata": {
    "tags": []
   },
   "source": [
    "<a href='#jce-judge/open/180' target='_self'><h3>입력과 출력 1</h3></a>\n",
    "<a href='#jce-judge/open/181' target='_self'><h3>입력과 출력 2</h3></a>"
   ]
  },
  {
   "cell_type": "markdown",
   "metadata": {
    "tags": []
   },
   "source": [
    "## 변수\n",
    "\n",
    "파이썬에서는 변수에 값을 저장할 수 있습니다.\n",
    "\n",
    "`변수명 = 값` 과 같은 형식으로 특정 이름(변수명)을 가지는 공간을 만들고, 그 공간에 원하는 값을 저장할 수 있습니다.\n",
    "\n",
    "한번에 여러개의 변수를 만들 수 있고, 한번 더 같은 변수명에 값을 저장하게 되면 이전의 값이 없어지고 새로운 값이 업데이트 됩니다.\n",
    "\n",
    "변수에는 파이썬에 모든 요소들이 저장될 수 있습니다.\n",
    "\n",
    "변수에 저장된 값을 사용하기 위해서는 변수의 이름을 사용하고 싶은 자리에 넣어주면 됩니다."
   ]
  },
  {
   "cell_type": "code",
   "execution_count": 9,
   "metadata": {
    "id": "HuH3-Gy0xA6d"
   },
   "outputs": [
    {
     "name": "stdout",
     "output_type": "stream",
     "text": [
      "5 20\n"
     ]
    }
   ],
   "source": [
    "# Example 5\n",
    "\n",
    "A=10 # 변수 A에 10을 저장합니다.\n",
    "B=20 # 변수 B에 20을 저장합니다.\n",
    "A=5  # 변수 A에 5를 저장합니다.\n",
    "\n",
    "print(A, B) # 변수 A와 변수 B를 출력합니다."
   ]
  },
  {
   "cell_type": "markdown",
   "metadata": {
    "tags": []
   },
   "source": [
    "## 사칙연산\n",
    "\n",
    "변수와 값들을 사용하여 사칙연산을 할 수 있습니다.\n",
    "\n",
    "연산 | 설명 | 예시 | 결과\n",
    "---|:---:|---|---\n",
    "\\+ | 더하기 | 7 + 2 | 9\n",
    "\\- | 빼기 | 7 - 2 | 5\n",
    "\\* | 곱하기 | 7 * 2 | 14\n",
    "\\/ | 나누기 | 7 / 2 | 3.5\n",
    "\\// | 몫 | 7 // 2 | 3\n",
    "\\% | 나머지 | 7 % 2 | 1"
   ]
  },
  {
   "cell_type": "code",
   "execution_count": 2,
   "metadata": {
    "id": "15-MN07yxIGI"
   },
   "outputs": [
    {
     "name": "stdout",
     "output_type": "stream",
     "text": [
      "9\n",
      "5\n",
      "14\n",
      "3.5\n",
      "3\n",
      "1\n"
     ]
    }
   ],
   "source": [
    "# Example 6\n",
    "\n",
    "A = 7 # 변수 A에 7을 저장합니다.\n",
    "B = 2 # 변수 B에 2를 저장합니다.\n",
    "\n",
    "print(A + B)  # A와 B를 더한 값을 구합니다.\n",
    "print(A - B)  # A에서 B를 뺀 값을 구합니다.\n",
    "print(A * B)  # A와 B를 곱한 값을 구합니다.\n",
    "print(A / B)  # A에서 B를 나눈 값을 구합니다.\n",
    "print(A // B) # A를 B로 나눈 몫을 구합니다.\n",
    "print(A % B)  # A를 B로 나눈 나머지를 구합니다."
   ]
  },
  {
   "cell_type": "markdown",
   "metadata": {},
   "source": [
    "input함수로 받은 값을 공백을 기준으로 나누어줍니다.\n",
    "\n",
    "> 도움 :  A,B = input().split()를 통해 공백(space)로 구분된 값을 A와 B에 나누어 저장할 수 있습니다."
   ]
  },
  {
   "cell_type": "code",
   "execution_count": 12,
   "metadata": {},
   "outputs": [
    {
     "name": "stdin",
     "output_type": "stream",
     "text": [
      "1 2 를 입력하세요 1 2\n"
     ]
    },
    {
     "name": "stdout",
     "output_type": "stream",
     "text": [
      "1\n",
      "2\n"
     ]
    }
   ],
   "source": [
    "# Help 1\n",
    "\n",
    "A,B = input('1 2 를 입력하세요').split() # 입력된 값을 공백으로 나누어 변수 A와 변수 B에 저장합니다.\n",
    "\n",
    "print(A) # 변수 A의 값을 출력합니다.\n",
    "print(B) # 변수 B의 값을 출력합니다."
   ]
  },
  {
   "cell_type": "markdown",
   "metadata": {},
   "source": [
    "<a href='#jce-judge/open/145' target='_self'><h3>덧셈1</h3></a>\n",
    "<a href='#jce-judge/open/140' target='_self'><h3>덧셈2</h3></a>"
   ]
  },
  {
   "cell_type": "markdown",
   "metadata": {
    "id": "nDajTh0duaaM",
    "tags": []
   },
   "source": [
    "## 문자열\n",
    "\n",
    "파이썬에서는 문자열(string)이라는 타입을 제공합니다.\n",
    "\n",
    "문자열이란 여러개의 문자가 모여서 만들어진 것으로 한글, 영어, 숫자, 기호 등으로 이루어져 있습니다.\n",
    "\n",
    "큰 따옴표(\"\")나, 작은 따옴표('') 사이에 원하는 문장을 집어 넣는 방법으로 문자열을 만들 수 있습니다.\n",
    "\n",
    "---\n",
    "\n",
    "파이썬에서는 몇가지 문자열간의 연산을 지원하고 있습니다.\n",
    "\n",
    "가장 먼저 더하기(+) 연산의 경우 두개의 문자열을 이어붙이는 역할을 합니다.\n",
    "\n",
    "다음으로 곱하기(\\*) 연산의 경우 문자열과 정수 사이에만 적용되는데 이를 사용하여 똑같은 문자열을 여러번 반복하여 출력할 수 있습니다."
   ]
  },
  {
   "cell_type": "code",
   "execution_count": 2,
   "metadata": {
    "id": "f5YY0poK1-x2"
   },
   "outputs": [
    {
     "name": "stdout",
     "output_type": "stream",
     "text": [
      "코들 파이썬\n"
     ]
    }
   ],
   "source": [
    "# Example 7\n",
    "\n",
    "a = '코들'   # 변수 a에 '코들'을 저장합니다.\n",
    "b = ' 파이썬' # 변수 b에 '파이썬'을 저장합니다.\n",
    "\n",
    "print(a + b) # a와 b를 이어붙인 문자열을 출력합니다.  "
   ]
  },
  {
   "cell_type": "code",
   "execution_count": null,
   "metadata": {
    "colab": {
     "base_uri": "https://localhost:8080/"
    },
    "executionInfo": {
     "elapsed": 274,
     "status": "ok",
     "timestamp": 1623998723055,
     "user": {
      "displayName": "배영빈",
      "photoUrl": "https://lh3.googleusercontent.com/a-/AOh14Ggpv2acrTBx0iBiihkkB4mTymNHP4e_ZkZTRXot=s64",
      "userId": "01480495425717975949"
     },
     "user_tz": -540
    },
    "id": "soeAPmMy3bc2",
    "outputId": "89e57e8e-8f28-40c2-926c-eee49d148004"
   },
   "outputs": [],
   "source": [
    "# Example 8\n",
    "\n",
    "a = '코들 '   # 변수 a에 '코들'을 저장합니다.\n",
    "\n",
    "print(a * 3) # 코들을 3번 출력합니다."
   ]
  },
  {
   "cell_type": "markdown",
   "metadata": {},
   "source": [
    "<a href='#jce-judge/open/194' target='_self'><h3>문자 합치기</h3></a>\n",
    "<a href='#jce-judge/open/165' target='_self'><h3>단어 반복</h3></a>"
   ]
  },
  {
   "cell_type": "markdown",
   "metadata": {
    "id": "nx5deDY0uY01",
    "tags": []
   },
   "source": [
    "## 조건문\n",
    "\n",
    "파이썬 코드는 위에서부터 순서대로 실행됩니다.\n",
    "\n",
    "하지만 조건문, 반복문을 사용하면 실행 순서를 바꾸거나 반복해서 실행할 수 있습니다.\n",
    "\n",
    "조건문은 조건을 만족 할 때 특정 코드를 실행시키는 방법입니다.\n",
    "\n",
    "상황에 따라 다른 코드를 실행하는 경우에 유용하게 사용됩니다.\n",
    "\n",
    "---\n",
    "\n",
    "if 이후의 조건이 참이면 if 문 아래의 코드가 실행되고 if 이후의 조건이 거짓이면 else 문 아래의 코드가 실행됩니다.\n",
    "\n",
    "조건이 참일 경우에 실행되는 코드들의 경우 if보다 4칸의 들여쓰기를 더 해주어야 합니다.(indentation)\n",
    "\n",
    "> 조건문에서 if와 조건은 반드시 있어야 하지만 else의 경우 생략하여도 상관없습니다.\n"
   ]
  },
  {
   "cell_type": "code",
   "execution_count": 1,
   "metadata": {},
   "outputs": [
    {
     "name": "stderr",
     "output_type": "stream",
     "text": [
      "---------------------------------------------------------------------------\n",
      "\u001b[1;33m오류도우미의 설명\u001b[0m\n",
      "\n",
      "\u001b[1;36m<<< 이 오류는 왜 일어났을까요?? >>>\u001b[0m\n",
      "유저가 발생시킨 오류입니다.\n",
      "주피터 랩의 커널 중지 기능을 통해 발생시킬 수 있습니다.\n",
      "\n",
      "\u001b[1;36m<<< 오류도우미의 추천 해결방법 >>>\u001b[0m\n",
      "\n",
      "(수정 필요)"
     ]
    },
    {
     "ename": "KeyboardInterrupt",
     "evalue": "Interrupted by user",
     "output_type": "error",
     "traceback": [
      "\u001b[0;31m---------------------------------------------------------------------------\u001b[0m",
      "\u001b[0;31mKeyboardInterrupt\u001b[0m                         Traceback (most recent call last)",
      "Input \u001b[0;32mIn [1]\u001b[0m, in \u001b[0;36m<cell line: 3>\u001b[0;34m()\u001b[0m\n\u001b[1;32m      1\u001b[0m \u001b[38;5;66;03m### Example 9\u001b[39;00m\n\u001b[0;32m----> 3\u001b[0m a \u001b[38;5;241m=\u001b[39m \u001b[38;5;28mint\u001b[39m(\u001b[38;5;28;43minput\u001b[39;49m\u001b[43m(\u001b[49m\u001b[38;5;124;43m'\u001b[39;49m\u001b[38;5;124;43m숫자를 입력해주세요\u001b[39;49m\u001b[38;5;124;43m'\u001b[39;49m\u001b[43m)\u001b[49m) \u001b[38;5;66;03m# 변수 a에 입력값을 저장합니다.\u001b[39;00m\n\u001b[1;32m      5\u001b[0m \u001b[38;5;28;01mif\u001b[39;00m a \u001b[38;5;241m>\u001b[39m \u001b[38;5;241m5\u001b[39m: \u001b[38;5;66;03m# 변수 a가 5보다 큰지 비교합니다.\u001b[39;00m\n\u001b[1;32m      6\u001b[0m     \u001b[38;5;28mprint\u001b[39m(\u001b[38;5;124m'\u001b[39m\u001b[38;5;124m숫자가 5보다 큽니다.\u001b[39m\u001b[38;5;124m'\u001b[39m) \u001b[38;5;66;03m# 조건이 참일 때 실행됩니다.\u001b[39;00m\n",
      "File \u001b[0;32m/opt/conda/lib/python3.10/site-packages/ipykernel/kernelbase.py:1161\u001b[0m, in \u001b[0;36mKernel.raw_input\u001b[0;34m(self, prompt)\u001b[0m\n\u001b[1;32m   1157\u001b[0m \u001b[38;5;28;01mif\u001b[39;00m \u001b[38;5;129;01mnot\u001b[39;00m \u001b[38;5;28mself\u001b[39m\u001b[38;5;241m.\u001b[39m_allow_stdin:\n\u001b[1;32m   1158\u001b[0m     \u001b[38;5;28;01mraise\u001b[39;00m StdinNotImplementedError(\n\u001b[1;32m   1159\u001b[0m         \u001b[38;5;124m\"\u001b[39m\u001b[38;5;124mraw_input was called, but this frontend does not support input requests.\u001b[39m\u001b[38;5;124m\"\u001b[39m\n\u001b[1;32m   1160\u001b[0m     )\n\u001b[0;32m-> 1161\u001b[0m \u001b[38;5;28;01mreturn\u001b[39;00m \u001b[38;5;28;43mself\u001b[39;49m\u001b[38;5;241;43m.\u001b[39;49m\u001b[43m_input_request\u001b[49m\u001b[43m(\u001b[49m\n\u001b[1;32m   1162\u001b[0m \u001b[43m    \u001b[49m\u001b[38;5;28;43mstr\u001b[39;49m\u001b[43m(\u001b[49m\u001b[43mprompt\u001b[49m\u001b[43m)\u001b[49m\u001b[43m,\u001b[49m\n\u001b[1;32m   1163\u001b[0m \u001b[43m    \u001b[49m\u001b[38;5;28;43mself\u001b[39;49m\u001b[38;5;241;43m.\u001b[39;49m\u001b[43m_parent_ident\u001b[49m\u001b[43m[\u001b[49m\u001b[38;5;124;43m\"\u001b[39;49m\u001b[38;5;124;43mshell\u001b[39;49m\u001b[38;5;124;43m\"\u001b[39;49m\u001b[43m]\u001b[49m\u001b[43m,\u001b[49m\n\u001b[1;32m   1164\u001b[0m \u001b[43m    \u001b[49m\u001b[38;5;28;43mself\u001b[39;49m\u001b[38;5;241;43m.\u001b[39;49m\u001b[43mget_parent\u001b[49m\u001b[43m(\u001b[49m\u001b[38;5;124;43m\"\u001b[39;49m\u001b[38;5;124;43mshell\u001b[39;49m\u001b[38;5;124;43m\"\u001b[39;49m\u001b[43m)\u001b[49m\u001b[43m,\u001b[49m\n\u001b[1;32m   1165\u001b[0m \u001b[43m    \u001b[49m\u001b[43mpassword\u001b[49m\u001b[38;5;241;43m=\u001b[39;49m\u001b[38;5;28;43;01mFalse\u001b[39;49;00m\u001b[43m,\u001b[49m\n\u001b[1;32m   1166\u001b[0m \u001b[43m\u001b[49m\u001b[43m)\u001b[49m\n",
      "File \u001b[0;32m/opt/conda/lib/python3.10/site-packages/ipykernel/kernelbase.py:1205\u001b[0m, in \u001b[0;36mKernel._input_request\u001b[0;34m(self, prompt, ident, parent, password)\u001b[0m\n\u001b[1;32m   1202\u001b[0m             \u001b[38;5;28;01mbreak\u001b[39;00m\n\u001b[1;32m   1203\u001b[0m \u001b[38;5;28;01mexcept\u001b[39;00m \u001b[38;5;167;01mKeyboardInterrupt\u001b[39;00m:\n\u001b[1;32m   1204\u001b[0m     \u001b[38;5;66;03m# re-raise KeyboardInterrupt, to truncate traceback\u001b[39;00m\n\u001b[0;32m-> 1205\u001b[0m     \u001b[38;5;28;01mraise\u001b[39;00m \u001b[38;5;167;01mKeyboardInterrupt\u001b[39;00m(\u001b[38;5;124m\"\u001b[39m\u001b[38;5;124mInterrupted by user\u001b[39m\u001b[38;5;124m\"\u001b[39m) \u001b[38;5;28;01mfrom\u001b[39;00m \u001b[38;5;28mNone\u001b[39m\n\u001b[1;32m   1206\u001b[0m \u001b[38;5;28;01mexcept\u001b[39;00m \u001b[38;5;167;01mException\u001b[39;00m:\n\u001b[1;32m   1207\u001b[0m     \u001b[38;5;28mself\u001b[39m\u001b[38;5;241m.\u001b[39mlog\u001b[38;5;241m.\u001b[39mwarning(\u001b[38;5;124m\"\u001b[39m\u001b[38;5;124mInvalid Message:\u001b[39m\u001b[38;5;124m\"\u001b[39m, exc_info\u001b[38;5;241m=\u001b[39m\u001b[38;5;28;01mTrue\u001b[39;00m)\n",
      "\u001b[0;31mKeyboardInterrupt\u001b[0m: Interrupted by user"
     ]
    }
   ],
   "source": [
    "### Example 9\n",
    "\n",
    "a = int(input('숫자를 입력해주세요')) # 변수 a에 입력값을 저장합니다.\n",
    "\n",
    "if a > 5: # 변수 a가 5보다 큰지 비교합니다.\n",
    "    print('숫자가 5보다 큽니다.') # 조건이 참일 때 실행됩니다.\n",
    "else:\n",
    "    print('숫자가 5보다 작거나 같습니다.') # 조건이 거짓일 때 실행됩니다."
   ]
  },
  {
   "cell_type": "markdown",
   "metadata": {},
   "source": [
    "<a href='#jce-judge/open/116' target='_self'><h3>정수의 참 거짓1</h3></a>\n",
    "<a href='#jce-judge/open/114' target='_self'><h3>정수의 비교4</h3></a>"
   ]
  },
  {
   "cell_type": "markdown",
   "metadata": {
    "id": "3_bJGvQXuU9v",
    "tags": []
   },
   "source": [
    "## 반복문\n",
    "\n",
    "반복문은 같은 코드를 여러번 입력하지 않고도 여러번 실행시킬 수 있는 방법입니다.\n",
    "\n",
    "기본적으로 for를 사용한 반복문과 while을 사용한 반복문이 사용됩니다. 이번 자료에서는 for을 사용한 반복문을 배워보도록 하겠습니다.\n",
    "\n",
    "for를 사용한 반복문은 지정된 범위 만큼 코드를 반복합니다.\n",
    "\n",
    "`range()` 함수를 사용하여 내가 원하는 횟수만큼 코드를 실행시킬 수 있습니다."
   ]
  },
  {
   "cell_type": "code",
   "execution_count": 7,
   "metadata": {},
   "outputs": [
    {
     "name": "stdout",
     "output_type": "stream",
     "text": [
      "코들\n",
      "코들\n",
      "코들\n",
      "코들\n",
      "코들\n"
     ]
    }
   ],
   "source": [
    "# Example 10\n",
    "\n",
    "for fruit in range(5): # 아래의 코드를 5번 반복합니다.\n",
    "    print('코들') # '코들'을 5번 출력합니다."
   ]
  },
  {
   "cell_type": "markdown",
   "metadata": {},
   "source": [
    "<a href='#jce-judge/open/9' target='_self'><h3>일곱 번 말하기</h3></a>"
   ]
  }
 ],
 "metadata": {
  "colab": {
   "authorship_tag": "ABX9TyNnHeLwKCogxoBjyl60HTxN",
   "name": "Python Basic.ipynb",
   "provenance": [],
   "toc_visible": true
  },
  "kernelspec": {
   "display_name": "Python 3 (ipykernel)",
   "language": "python",
   "name": "python3"
  },
  "language_info": {
   "codemirror_mode": {
    "name": "ipython",
    "version": 3
   },
   "file_extension": ".py",
   "mimetype": "text/x-python",
   "name": "python",
   "nbconvert_exporter": "python",
   "pygments_lexer": "ipython3",
   "version": "3.10.4"
  }
 },
 "nbformat": 4,
 "nbformat_minor": 4
}
